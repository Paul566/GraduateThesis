{
 "cells": [
  {
   "cell_type": "code",
   "execution_count": 1,
   "id": "f5754fdf-fc77-479e-82a7-2590f554cd16",
   "metadata": {},
   "outputs": [],
   "source": [
    "import numpy as np\n",
    "import typing as tp\n",
    "import matplotlib.pyplot as plt\n",
    "from matplotlib.colors import LogNorm\n",
    "import sys\n",
    "import os\n",
    "import time\n",
    "import random"
   ]
  },
  {
   "cell_type": "code",
   "execution_count": 2,
   "id": "df7da57d-c486-4574-ab97-00cb0fec97bd",
   "metadata": {},
   "outputs": [],
   "source": [
    "from BaselineSolver import BaselineSolver\n",
    "from IterativeSolver import IterativeSolver\n",
    "from GreedySolver import GreedySolver\n",
    "from GradientDescentSolver import GradientDescentSolver\n",
    "from utils import run_tests, read_tests_simplex_in_ball, run_random_test, read_tests_simplex_plus_ball_in_ball\n",
    "from utils import read_tests_degenerate_simplex_in_ball, read_tests_polyhedron_in_ball, read_tests_simplex_in_ball_with_argmaxes"
   ]
  },
  {
   "cell_type": "code",
   "execution_count": 3,
   "id": "7aeb6a7c-5de3-42bb-b8c5-898efc1dfcfc",
   "metadata": {},
   "outputs": [],
   "source": [
    "support_a, support_b = read_tests_simplex_in_ball_with_argmaxes(f'./tests/3d/simplex-in-ball/16', 3)\n",
    "solver_instance = GradientDescentSolver(3, support_a, support_b, max_num_iterations=100, learning_rate=1)\n",
    "solver_instance.solve()"
   ]
  },
  {
   "cell_type": "code",
   "execution_count": 4,
   "id": "5e1da5f3-6a46-4c7f-b598-3d607761afae",
   "metadata": {},
   "outputs": [],
   "source": [
    "def plot_test_results(times: np.ndarray, t_errors: np.ndarray, title: str, colors: tp.Optional[np.ndarray] = None, fit=True, colorbar_name='delta') -> None:\n",
    "    t_errors_without_zeros = np.copy(t_errors)\n",
    "    t_errors_without_zeros[t_errors_without_zeros == 0.] = 1e-16\n",
    "    \n",
    "    fig = plt.figure(figsize=(10, 7))\n",
    "    ax = fig.add_subplot(111)\n",
    "    plt.xlabel('time, s')\n",
    "    plt.ylabel('t_error')\n",
    "    ax.set_xscale('log')\n",
    "    ax.set_yscale('log')\n",
    "    \n",
    "    if colors is not None:\n",
    "        plt.scatter(times, t_errors_without_zeros, c=colors, cmap='viridis_r', norm=LogNorm())\n",
    "        plt.colorbar(label=colorbar_name)\n",
    "    else:\n",
    "        plt.scatter(times, t_errors_without_zeros)\n",
    "\n",
    "    if fit:\n",
    "        a, b = np.polyfit(np.log(times), np.log(t_errors_without_zeros), 1)\n",
    "        plt.plot(times, np.exp(a * np.log(times) + b), 'r', label=f't_error ~ 1 / time^{-a:.2f}')\n",
    "        plt.legend()\n",
    "    plt.title(title)\n",
    "    plt.savefig(f'figures/{title.replace(\" \", \"_\").replace(\",\", \"\")}')"
   ]
  },
  {
   "cell_type": "code",
   "execution_count": 5,
   "id": "7bcc8a56-7f15-4e31-ba02-8e6e2a3c3944",
   "metadata": {},
   "outputs": [],
   "source": [
    "def get_gd_simplex_in_ball_results(dimension: int, silent=True) -> tp.Tuple[np.ndarray, np.ndarray]:\n",
    "    times = []\n",
    "    t_errors = []\n",
    "    for file in sorted(os.listdir(f'./tests/{dimension}d/simplex-in-ball/')):\n",
    "        support_a, support_b = read_tests_simplex_in_ball_with_argmaxes(f'./tests/{dimension}d/simplex-in-ball/{file}', dimension)\n",
    "        solver_instance = GradientDescentSolver(dimension, support_a, support_b, max_num_iterations=1000, learning_rate=1)\n",
    "        start_time = time.time()\n",
    "        solver_instance.solve()\n",
    "        end_time = time.time()\n",
    "        times.append(end_time - start_time)\n",
    "        t_errors.append(abs(1. - solver_instance.t))\n",
    "        if not silent:\n",
    "            print(f'test {file}\\t time {end_time - start_time}\\t t_error {abs(1. - solver_instance.t)}\\t num_iterations {solver_instance.iteration}')\n",
    "\n",
    "    return np.array(times), np.array(t_errors)"
   ]
  },
  {
   "cell_type": "code",
   "execution_count": 6,
   "id": "345fe1bc-9aef-4779-a5f1-f685baf67967",
   "metadata": {},
   "outputs": [
    {
     "data": {
      "image/png": "[encoded data removed]",
      "text/plain": [
       "<Figure size 1000x700 with 1 Axes>"
      ]
     },
     "metadata": {},
     "output_type": "display_data"
    }
   ],
   "source": [
    "times_gd_2d, errors_gd_2d = get_gd_simplex_in_ball_results(2, silent=True)\n",
    "plot_test_results(times_gd_2d, errors_gd_2d, 'GD, 2d, simplex in ball', fit=False)"
   ]
  },
  {
   "cell_type": "code",
   "execution_count": 7,
   "id": "a8c75db2-19ca-475d-8f86-18810c1d6823",
   "metadata": {},
   "outputs": [
    {
     "name": "stdout",
     "output_type": "stream",
     "text": [
      "test 1\t time 0.008928060531616211\t t_error 0.0\t num_iterations 5\n",
      "test 10\t time 0.05590081214904785\t t_error 0.0\t num_iterations 24\n",
      "test 100\t time 0.005650758743286133\t t_error 0.0\t num_iterations 5\n",
      "test 11\t time 0.024374008178710938\t t_error 0.0\t num_iterations 17\n",
      "test 12\t time 0.0073359012603759766\t t_error 0.0\t num_iterations 7\n",
      "test 13\t time 0.006781578063964844\t t_error 2.220446049250313e-16\t num_iterations 7\n",
      "test 14\t time 0.013994455337524414\t t_error 0.0\t num_iterations 10\n",
      "test 15\t time 0.002141714096069336\t t_error 0.0\t num_iterations 4\n",
      "test 16\t time 0.07900834083557129\t t_error 2.220446049250313e-16\t num_iterations 47\n",
      "test 17\t time 0.003830432891845703\t t_error 2.220446049250313e-16\t num_iterations 5\n",
      "test 18\t time 0.002659320831298828\t t_error 2.220446049250313e-16\t num_iterations 4\n",
      "test 19\t time 0.29309749603271484\t t_error 0.0\t num_iterations 170\n",
      "test 2\t time 0.0075342655181884766\t t_error 2.220446049250313e-16\t num_iterations 7\n",
      "test 20\t time 0.024943828582763672\t t_error 0.0\t num_iterations 18\n",
      "test 21\t time 0.017909765243530273\t t_error 1.1102230246251565e-16\t num_iterations 13\n",
      "test 22\t time 0.49394989013671875\t t_error 3.3306690738754696e-16\t num_iterations 302\n",
      "test 23\t time 0.04756879806518555\t t_error 2.220446049250313e-16\t num_iterations 30\n",
      "test 24\t time 0.06743979454040527\t t_error 0.0\t num_iterations 41\n",
      "test 25\t time 0.0057582855224609375\t t_error 0.0\t num_iterations 6\n",
      "test 26\t time 0.002186298370361328\t t_error 4.440892098500626e-16\t num_iterations 4\n",
      "test 27\t time 0.015362739562988281\t t_error 0.0\t num_iterations 13\n",
      "test 28\t time 0.031505584716796875\t t_error 2.220446049250313e-16\t num_iterations 21\n",
      "test 29\t time 0.003894805908203125\t t_error 0.0\t num_iterations 5\n",
      "test 3\t time 0.007229804992675781\t t_error 0.0\t num_iterations 7\n",
      "test 30\t time 0.007501125335693359\t t_error 0.0\t num_iterations 7\n",
      "test 31\t time 0.0030510425567626953\t t_error 0.0\t num_iterations 5\n",
      "test 32\t time 0.007357597351074219\t t_error 2.220446049250313e-16\t num_iterations 7\n",
      "test 33\t time 0.003386974334716797\t t_error 0.0\t num_iterations 5\n",
      "test 34\t time 0.041359663009643555\t t_error 2.220446049250313e-16\t num_iterations 20\n",
      "test 35\t time 0.0024530887603759766\t t_error 0.0\t num_iterations 4\n",
      "test 36\t time 0.010760307312011719\t t_error 2.220446049250313e-16\t num_iterations 9\n",
      "test 37\t time 0.010506868362426758\t t_error 1.1102230246251565e-16\t num_iterations 8\n",
      "test 38\t time 0.0021915435791015625\t t_error 2.220446049250313e-16\t num_iterations 4\n",
      "test 39\t time 0.02566242218017578\t t_error 0.0\t num_iterations 18\n",
      "test 4\t time 0.0023086071014404297\t t_error 0.0\t num_iterations 4\n",
      "test 40\t time 0.0022881031036376953\t t_error 2.220446049250313e-16\t num_iterations 4\n",
      "test 41\t time 0.033188819885253906\t t_error 0.0\t num_iterations 22\n",
      "test 42\t time 0.0025877952575683594\t t_error 2.220446049250313e-16\t num_iterations 4\n",
      "test 43\t time 0.009514331817626953\t t_error 0.0\t num_iterations 9\n",
      "test 44\t time 0.2175617218017578\t t_error 2.220446049250313e-16\t num_iterations 123\n",
      "test 45\t time 0.0025420188903808594\t t_error 0.0\t num_iterations 4\n",
      "test 46\t time 0.007193326950073242\t t_error 0.0\t num_iterations 7\n",
      "test 47\t time 0.02240276336669922\t t_error 2.220446049250313e-16\t num_iterations 16\n",
      "test 48\t time 0.03980851173400879\t t_error 2.220446049250313e-16\t num_iterations 24\n",
      "test 49\t time 0.13464999198913574\t t_error 1.1102230246251565e-16\t num_iterations 75\n",
      "test 5\t time 0.002735614776611328\t t_error 0.0\t num_iterations 4\n",
      "test 50\t time 0.004454851150512695\t t_error 0.0\t num_iterations 5\n",
      "test 51\t time 0.007934093475341797\t t_error 0.0\t num_iterations 7\n",
      "test 52\t time 0.024970293045043945\t t_error 2.220446049250313e-16\t num_iterations 13\n",
      "test 53\t time 0.21092748641967773\t t_error 6.661338147750939e-16\t num_iterations 115\n",
      "test 54\t time 0.0393366813659668\t t_error 1.1102230246251565e-16\t num_iterations 27\n",
      "test 55\t time 0.01589822769165039\t t_error 0.0\t num_iterations 11\n",
      "test 56\t time 0.25122714042663574\t t_error 2.220446049250313e-16\t num_iterations 145\n",
      "test 57\t time 0.01028299331665039\t t_error 0.0\t num_iterations 8\n",
      "test 58\t time 0.002436399459838867\t t_error 4.440892098500626e-16\t num_iterations 4\n",
      "test 59\t time 0.23949623107910156\t t_error 4.440892098500626e-16\t num_iterations 130\n",
      "test 6\t time 0.0058650970458984375\t t_error 2.220446049250313e-16\t num_iterations 6\n",
      "test 60\t time 0.004158973693847656\t t_error 0.0\t num_iterations 5\n",
      "test 61\t time 0.07143616676330566\t t_error 0.0\t num_iterations 47\n",
      "test 62\t time 0.0026106834411621094\t t_error 0.0\t num_iterations 4\n",
      "test 63\t time 0.005544900894165039\t t_error 1.1102230246251565e-16\t num_iterations 6\n",
      "test 64\t time 0.005690336227416992\t t_error 0.0\t num_iterations 6\n",
      "test 65\t time 0.02976536750793457\t t_error 0.0\t num_iterations 19\n",
      "test 66\t time 0.822742223739624\t t_error 0.0\t num_iterations 482\n",
      "test 67\t time 0.027808189392089844\t t_error 2.220446049250313e-16\t num_iterations 18\n",
      "test 68\t time 0.004580259323120117\t t_error 0.0\t num_iterations 5\n",
      "test 69\t time 0.04015636444091797\t t_error 2.220446049250313e-16\t num_iterations 26\n",
      "test 7\t time 0.02921319007873535\t t_error 2.220446049250313e-16\t num_iterations 20\n",
      "test 70\t time 0.056810617446899414\t t_error 0.0\t num_iterations 35\n",
      "test 71\t time 0.002631664276123047\t t_error 3.3306690738754696e-16\t num_iterations 5\n",
      "test 72\t time 0.03362393379211426\t t_error 0.0\t num_iterations 22\n",
      "test 73\t time 0.5270504951477051\t t_error 1.1102230246251565e-16\t num_iterations 323\n",
      "test 74\t time 0.0024023056030273438\t t_error 2.220446049250313e-16\t num_iterations 4\n",
      "test 75\t time 0.005321979522705078\t t_error 2.220446049250313e-16\t num_iterations 6\n",
      "test 76\t time 0.004049777984619141\t t_error 3.3306690738754696e-16\t num_iterations 5\n",
      "test 77\t time 0.010572195053100586\t t_error 4.440892098500626e-16\t num_iterations 9\n",
      "test 78\t time 0.008798837661743164\t t_error 2.220446049250313e-16\t num_iterations 7\n",
      "test 79\t time 0.002346515655517578\t t_error 1.1102230246251565e-16\t num_iterations 4\n",
      "test 8\t time 0.08229660987854004\t t_error 2.220446049250313e-16\t num_iterations 49\n",
      "test 80\t time 0.032357215881347656\t t_error 0.0\t num_iterations 21\n",
      "test 81\t time 0.002541780471801758\t t_error 0.0\t num_iterations 4\n",
      "test 82\t time 0.0037872791290283203\t t_error 0.0\t num_iterations 5\n",
      "test 83\t time 0.0664677619934082\t t_error 0.0\t num_iterations 37\n",
      "test 84\t time 0.06407785415649414\t t_error 4.440892098500626e-16\t num_iterations 33\n",
      "test 85\t time 0.002439737319946289\t t_error 0.0\t num_iterations 4\n",
      "test 86\t time 0.21651792526245117\t t_error 0.0\t num_iterations 125\n",
      "test 87\t time 0.0236666202545166\t t_error 0.0\t num_iterations 16\n",
      "test 88\t time 0.016605377197265625\t t_error 2.220446049250313e-16\t num_iterations 11\n",
      "test 89\t time 0.16609406471252441\t t_error 0.0\t num_iterations 99\n",
      "test 9\t time 0.06032228469848633\t t_error 0.0\t num_iterations 33\n",
      "test 90\t time 0.0031042098999023438\t t_error 2.220446049250313e-16\t num_iterations 5\n",
      "test 91\t time 0.00837087631225586\t t_error 2.220446049250313e-16\t num_iterations 7\n",
      "test 92\t time 0.002409696578979492\t t_error 0.0\t num_iterations 4\n",
      "test 93\t time 0.002535104751586914\t t_error 0.0\t num_iterations 4\n",
      "test 94\t time 0.6615006923675537\t t_error 0.0\t num_iterations 383\n",
      "test 95\t time 0.008167266845703125\t t_error 0.0\t num_iterations 7\n",
      "test 96\t time 0.0030257701873779297\t t_error 0.0\t num_iterations 5\n",
      "test 97\t time 0.29643678665161133\t t_error 0.0\t num_iterations 172\n",
      "test 98\t time 0.004263162612915039\t t_error 0.0\t num_iterations 5\n",
      "test 99\t time 1.6852023601531982\t t_error 0.1441317724734592\t num_iterations 1000\n"
     ]
    },
    {
     "data": {
      "image/png": "[encoded data removed]",
      "text/plain": [
       "<Figure size 1000x700 with 1 Axes>"
      ]
     },
     "metadata": {},
     "output_type": "display_data"
    }
   ],
   "source": [
    "times_gd, errors_gd = get_gd_simplex_in_ball_results(3, silent=False)\n",
    "plot_test_results(times_gd, errors_gd, 'GD, 3d, simplex in ball', fit=False)"
   ]
  },
  {
   "cell_type": "code",
   "execution_count": 8,
   "id": "3f0329ae-fdea-4789-9470-c17a31da858b",
   "metadata": {
    "tags": []
   },
   "outputs": [
    {
     "name": "stdout",
     "output_type": "stream",
     "text": [
      "test 1\t time 0.12332725524902344\t t_error 2.220446049250313e-16\t num_iterations 28\n",
      "test 10\t time 1.972987174987793\t t_error 0.15169127151117678\t num_iterations 1000\n",
      "test 100\t time 1.2752082347869873\t t_error 0.0\t num_iterations 674\n",
      "test 11\t time 0.2970004081726074\t t_error 0.0\t num_iterations 133\n",
      "test 12\t time 0.0671529769897461\t t_error 1.1102230246251565e-16\t num_iterations 28\n",
      "test 13\t time 0.6842195987701416\t t_error 0.0\t num_iterations 333\n",
      "test 14\t time 0.36414456367492676\t t_error 2.220446049250313e-16\t num_iterations 166\n",
      "test 15\t time 0.012699127197265625\t t_error 0.0\t num_iterations 9\n",
      "test 16\t time 0.013537406921386719\t t_error 0.0\t num_iterations 10\n",
      "test 17\t time 0.50404953956604\t t_error 4.440892098500626e-16\t num_iterations 268\n",
      "test 18\t time 0.8329992294311523\t t_error 0.0\t num_iterations 427\n",
      "test 19\t time 0.011855602264404297\t t_error 2.220446049250313e-16\t num_iterations 8\n",
      "test 2\t time 0.09185934066772461\t t_error 2.220446049250313e-16\t num_iterations 48\n",
      "test 20\t time 0.00406336784362793\t t_error 2.220446049250313e-16\t num_iterations 4\n",
      "test 21\t time 0.002397298812866211\t t_error 0.0\t num_iterations 4\n",
      "test 22\t time 0.021877527236938477\t t_error 0.0\t num_iterations 14\n",
      "test 23\t time 0.07024812698364258\t t_error 2.220446049250313e-16\t num_iterations 37\n",
      "test 24\t time 0.12271642684936523\t t_error 0.0\t num_iterations 63\n",
      "test 25\t time 0.04926800727844238\t t_error 1.1102230246251565e-16\t num_iterations 28\n",
      "test 26\t time 0.23362517356872559\t t_error 2.220446049250313e-16\t num_iterations 119\n",
      "test 27\t time 1.1049201488494873\t t_error 0.0\t num_iterations 561\n",
      "test 28\t time 0.012178182601928711\t t_error 0.0\t num_iterations 9\n",
      "test 29\t time 0.028287887573242188\t t_error 0.0\t num_iterations 17\n",
      "test 3\t time 0.0038805007934570312\t t_error 0.0\t num_iterations 5\n",
      "test 30\t time 0.07634973526000977\t t_error 0.0\t num_iterations 41\n",
      "test 31\t time 0.00879526138305664\t t_error 0.0\t num_iterations 7\n",
      "test 32\t time 0.04395890235900879\t t_error 2.220446049250313e-16\t num_iterations 23\n",
      "test 33\t time 0.1735522747039795\t t_error 1.1102230246251565e-16\t num_iterations 82\n",
      "test 34\t time 0.05896592140197754\t t_error 0.0\t num_iterations 33\n",
      "test 35\t time 0.0033864974975585938\t t_error 1.1102230246251565e-16\t num_iterations 5\n",
      "test 36\t time 0.004286050796508789\t t_error 2.220446049250313e-16\t num_iterations 5\n",
      "test 37\t time 0.05186176300048828\t t_error 0.0\t num_iterations 28\n",
      "test 38\t time 1.7601103782653809\t t_error 2.220446049250313e-16\t num_iterations 863\n",
      "test 39\t time 0.4390373229980469\t t_error 4.440892098500626e-16\t num_iterations 227\n",
      "test 4\t time 1.9584975242614746\t t_error 0.21564964756807714\t num_iterations 1000\n",
      "test 40\t time 0.03390216827392578\t t_error 0.0\t num_iterations 20\n",
      "test 41\t time 0.08574891090393066\t t_error 2.220446049250313e-16\t num_iterations 45\n",
      "test 42\t time 0.08167219161987305\t t_error 2.220446049250313e-16\t num_iterations 42\n",
      "test 43\t time 0.288771390914917\t t_error 2.220446049250313e-16\t num_iterations 146\n",
      "test 44\t time 0.1663358211517334\t t_error 2.220446049250313e-16\t num_iterations 81\n",
      "test 45\t time 0.14196300506591797\t t_error 1.1102230246251565e-16\t num_iterations 63\n",
      "test 46\t time 2.056797504425049\t t_error 0.23140097208464105\t num_iterations 1000\n",
      "test 47\t time 0.24686908721923828\t t_error 0.0\t num_iterations 126\n",
      "test 48\t time 1.976423978805542\t t_error 0.12494492273295876\t num_iterations 1000\n",
      "test 49\t time 0.32401394844055176\t t_error 0.0\t num_iterations 162\n",
      "test 5\t time 2.028729200363159\t t_error 0.09411360286161596\t num_iterations 1000\n",
      "test 50\t time 0.5763025283813477\t t_error 2.220446049250313e-16\t num_iterations 290\n",
      "test 51\t time 0.059966087341308594\t t_error 0.0\t num_iterations 33\n",
      "test 52\t time 0.19692707061767578\t t_error 0.0\t num_iterations 96\n",
      "test 53\t time 0.6158182621002197\t t_error 4.440892098500626e-16\t num_iterations 312\n",
      "test 54\t time 0.8571915626525879\t t_error 2.220446049250313e-16\t num_iterations 430\n",
      "test 55\t time 0.1091153621673584\t t_error 8.881784197001252e-16\t num_iterations 58\n",
      "test 56\t time 0.13409876823425293\t t_error 2.220446049250313e-16\t num_iterations 64\n",
      "test 57\t time 0.12784242630004883\t t_error 2.220446049250313e-16\t num_iterations 68\n",
      "test 58\t time 0.09752464294433594\t t_error 0.0\t num_iterations 48\n",
      "test 59\t time 0.275787353515625\t t_error 2.220446049250313e-16\t num_iterations 132\n",
      "test 6\t time 0.5910253524780273\t t_error 0.0\t num_iterations 285\n",
      "test 60\t time 0.6444828510284424\t t_error 2.220446049250313e-16\t num_iterations 323\n",
      "test 61\t time 0.5474033355712891\t t_error 0.0\t num_iterations 272\n",
      "test 62\t time 0.004452943801879883\t t_error 0.0\t num_iterations 5\n",
      "test 63\t time 0.0031778812408447266\t t_error 0.0\t num_iterations 5\n",
      "test 64\t time 0.17163848876953125\t t_error 0.0\t num_iterations 90\n",
      "test 65\t time 0.024346590042114258\t t_error 0.0\t num_iterations 15\n",
      "test 66\t time 0.00835275650024414\t t_error 1.1102230246251565e-16\t num_iterations 6\n",
      "test 67\t time 0.02955150604248047\t t_error 2.220446049250313e-16\t num_iterations 15\n",
      "test 68\t time 0.01081538200378418\t t_error 0.0\t num_iterations 8\n",
      "test 69\t time 0.06082963943481445\t t_error 1.1102230246251565e-16\t num_iterations 33\n",
      "test 7\t time 0.006104707717895508\t t_error 0.0\t num_iterations 6\n",
      "test 70\t time 0.047457218170166016\t t_error 0.0\t num_iterations 27\n",
      "test 71\t time 0.002736806869506836\t t_error 1.1102230246251565e-16\t num_iterations 4\n",
      "test 72\t time 0.00418400764465332\t t_error 0.0\t num_iterations 4\n",
      "test 73\t time 0.05783343315124512\t t_error 2.220446049250313e-16\t num_iterations 31\n",
      "test 74\t time 0.0823066234588623\t t_error 0.0\t num_iterations 41\n",
      "test 75\t time 0.035833120346069336\t t_error 0.0\t num_iterations 20\n",
      "test 76\t time 0.10116195678710938\t t_error 2.220446049250313e-16\t num_iterations 53\n",
      "test 77\t time 0.22237181663513184\t t_error 0.0\t num_iterations 114\n",
      "test 78\t time 0.9702136516571045\t t_error 0.0\t num_iterations 503\n",
      "test 79\t time 0.037854671478271484\t t_error 0.0\t num_iterations 22\n",
      "test 8\t time 0.5412871837615967\t t_error 0.0\t num_iterations 273\n",
      "test 80\t time 0.11417126655578613\t t_error 0.0\t num_iterations 61\n",
      "test 81\t time 0.04256248474121094\t t_error 1.1102230246251565e-16\t num_iterations 24\n",
      "test 82\t time 0.31522560119628906\t t_error 4.440892098500626e-16\t num_iterations 157\n",
      "test 83\t time 0.0405426025390625\t t_error 2.220446049250313e-16\t num_iterations 24\n",
      "test 84\t time 0.22231793403625488\t t_error 2.220446049250313e-16\t num_iterations 111\n",
      "test 85\t time 0.5859782695770264\t t_error 2.220446049250313e-16\t num_iterations 291\n",
      "test 86\t time 1.8983666896820068\t t_error 0.22079684619272932\t num_iterations 1000\n",
      "test 87\t time 0.02096414566040039\t t_error 0.0\t num_iterations 13\n",
      "test 88\t time 0.002895832061767578\t t_error 0.0\t num_iterations 5\n",
      "test 89\t time 0.002603292465209961\t t_error 0.0\t num_iterations 4\n",
      "test 9\t time 0.07529735565185547\t t_error 1.1102230246251565e-16\t num_iterations 40\n",
      "test 90\t time 0.0388033390045166\t t_error 0.0\t num_iterations 22\n",
      "test 91\t time 0.044162750244140625\t t_error 0.0\t num_iterations 25\n",
      "test 92\t time 0.20544004440307617\t t_error 2.220446049250313e-16\t num_iterations 81\n",
      "test 93\t time 0.003946065902709961\t t_error 0.0\t num_iterations 4\n",
      "test 94\t time 0.4601316452026367\t t_error 2.220446049250313e-16\t num_iterations 187\n",
      "test 95\t time 0.04128122329711914\t t_error 1.1102230246251565e-16\t num_iterations 23\n",
      "test 96\t time 1.7929372787475586\t t_error 0.0\t num_iterations 899\n",
      "test 97\t time 0.010556459426879883\t t_error 2.220446049250313e-16\t num_iterations 8\n",
      "test 98\t time 0.04114365577697754\t t_error 0.0\t num_iterations 23\n",
      "test 99\t time 0.7664778232574463\t t_error 0.0\t num_iterations 398\n"
     ]
    },
    {
     "data": {
      "image/png": "[encoded data removed]",
      "text/plain": [
       "<Figure size 1000x700 with 1 Axes>"
      ]
     },
     "metadata": {},
     "output_type": "display_data"
    }
   ],
   "source": [
    "times_gd, errors_gd = get_gd_simplex_in_ball_results(4, silent=False)\n",
    "plot_test_results(times_gd, errors_gd, 'GD, 4d, simplex in ball', fit=False)"
   ]
  },
  {
   "cell_type": "code",
   "execution_count": 9,
   "id": "bbe146a8-54d1-4ace-a183-a23fa4d60370",
   "metadata": {},
   "outputs": [
    {
     "name": "stdout",
     "output_type": "stream",
     "text": [
      "test 1\t time 0.15381693840026855\t t_error 0.0\t num_iterations 60\n",
      "test 10\t time 1.0652263164520264\t t_error 2.220446049250313e-16\t num_iterations 498\n",
      "test 100\t time 0.19834518432617188\t t_error 2.220446049250313e-16\t num_iterations 97\n",
      "test 11\t time 2.1332521438598633\t t_error 0.25461632068610696\t num_iterations 1000\n",
      "test 12\t time 1.652209758758545\t t_error 2.220446049250313e-16\t num_iterations 761\n",
      "test 13\t time 0.9775431156158447\t t_error 0.0\t num_iterations 450\n",
      "test 14\t time 2.034947395324707\t t_error 1.3322676295501878e-15\t num_iterations 957\n",
      "test 15\t time 2.203049898147583\t t_error 0.2916090260336375\t num_iterations 1000\n",
      "test 16\t time 1.8613317012786865\t t_error 0.0\t num_iterations 864\n",
      "test 17\t time 0.15470361709594727\t t_error 0.0\t num_iterations 59\n",
      "test 18\t time 3.228071928024292\t t_error 0.27265210818265073\t num_iterations 1000\n",
      "test 19\t time 3.57672119140625\t t_error 0.20925648181104783\t num_iterations 1000\n",
      "test 2\t time 0.777493953704834\t t_error 1.1102230246251565e-16\t num_iterations 210\n",
      "test 20\t time 0.4019899368286133\t t_error 0.0\t num_iterations 109\n",
      "test 21\t time 0.6695964336395264\t t_error 0.0\t num_iterations 193\n",
      "test 22\t time 1.3905446529388428\t t_error 2.220446049250313e-16\t num_iterations 412\n",
      "test 23\t time 3.441070795059204\t t_error 0.21769425100517126\t num_iterations 1000\n",
      "test 24\t time 3.374178409576416\t t_error 0.34114313337792235\t num_iterations 1000\n",
      "test 25\t time 0.2272636890411377\t t_error 0.0\t num_iterations 70\n",
      "test 26\t time 3.4273154735565186\t t_error 0.1601094382417385\t num_iterations 1000\n",
      "test 27\t time 3.3868229389190674\t t_error 0.30352189157473364\t num_iterations 1000\n",
      "test 28\t time 0.011583089828491211\t t_error 2.220446049250313e-16\t num_iterations 6\n",
      "test 29\t time 0.18720746040344238\t t_error 4.440892098500626e-16\t num_iterations 57\n",
      "test 3\t time 3.3326609134674072\t t_error 0.21227886521125028\t num_iterations 1000\n",
      "test 30\t time 3.1994619369506836\t t_error 0.0\t num_iterations 980\n",
      "test 31\t time 3.3708038330078125\t t_error 0.3598316976303306\t num_iterations 1000\n",
      "test 32\t time 3.4368338584899902\t t_error 0.2511166633667494\t num_iterations 1000\n",
      "test 33\t time 1.0791335105895996\t t_error 0.0\t num_iterations 318\n",
      "test 34\t time 1.2425262928009033\t t_error 1.1102230246251565e-16\t num_iterations 384\n",
      "test 35\t time 0.7234060764312744\t t_error 0.0\t num_iterations 218\n",
      "test 36\t time 3.357072353363037\t t_error 0.14933037220974987\t num_iterations 1000\n",
      "test 37\t time 3.336493492126465\t t_error 0.23895757011680518\t num_iterations 1000\n",
      "test 38\t time 0.09137654304504395\t t_error 0.0\t num_iterations 31\n",
      "test 39\t time 0.45429539680480957\t t_error 4.440892098500626e-16\t num_iterations 131\n",
      "test 4\t time 3.3505361080169678\t t_error 0.20579594258081235\t num_iterations 1000\n",
      "test 40\t time 3.049448013305664\t t_error 2.220446049250313e-16\t num_iterations 909\n",
      "test 41\t time 3.3641397953033447\t t_error 0.32491531097785253\t num_iterations 1000\n",
      "test 42\t time 1.6789453029632568\t t_error 2.220446049250313e-16\t num_iterations 509\n",
      "test 43\t time 0.14380836486816406\t t_error 0.0\t num_iterations 46\n",
      "test 44\t time 1.012406587600708\t t_error 2.220446049250313e-16\t num_iterations 304\n",
      "test 45\t time 3.313969850540161\t t_error 0.18238724735740874\t num_iterations 1000\n",
      "test 46\t time 2.4949002265930176\t t_error 2.220446049250313e-16\t num_iterations 738\n",
      "test 47\t time 1.7831082344055176\t t_error 0.0\t num_iterations 522\n",
      "test 48\t time 3.353652000427246\t t_error 0.12888096769726642\t num_iterations 1000\n",
      "test 49\t time 0.48372697830200195\t t_error 2.220446049250313e-16\t num_iterations 143\n",
      "test 5\t time 1.5147829055786133\t t_error 2.220446049250313e-16\t num_iterations 336\n",
      "test 50\t time 0.7902054786682129\t t_error 0.0\t num_iterations 180\n",
      "test 51\t time 4.4107208251953125\t t_error 0.1896829788313158\t num_iterations 1000\n",
      "test 52\t time 2.7487361431121826\t t_error 2.220446049250313e-16\t num_iterations 613\n",
      "test 53\t time 4.489120960235596\t t_error 0.18258698330412648\t num_iterations 1000\n",
      "test 54\t time 4.5547285079956055\t t_error 0.32684119924740895\t num_iterations 1000\n",
      "test 55\t time 2.628988265991211\t t_error 0.0\t num_iterations 587\n",
      "test 56\t time 0.7611048221588135\t t_error 0.0\t num_iterations 171\n",
      "test 57\t time 2.5647599697113037\t t_error 0.0\t num_iterations 582\n",
      "test 58\t time 1.1032943725585938\t t_error 1.1102230246251565e-16\t num_iterations 249\n",
      "test 59\t time 0.33773231506347656\t t_error 0.0\t num_iterations 78\n",
      "test 6\t time 0.30353736877441406\t t_error 2.220446049250313e-16\t num_iterations 58\n",
      "test 60\t time 0.22283220291137695\t t_error 0.0\t num_iterations 49\n",
      "test 61\t time 2.618283987045288\t t_error 1.1102230246251565e-16\t num_iterations 671\n",
      "test 62\t time 0.8076298236846924\t t_error 2.220446049250313e-16\t num_iterations 245\n",
      "test 63\t time 3.324769973754883\t t_error 0.08802950929603315\t num_iterations 1000\n",
      "test 64\t time 2.9093194007873535\t t_error 2.220446049250313e-16\t num_iterations 666\n",
      "test 65\t time 0.03619074821472168\t t_error 0.0\t num_iterations 11\n",
      "test 66\t time 0.8446931838989258\t t_error 2.220446049250313e-16\t num_iterations 188\n",
      "test 67\t time 1.7276115417480469\t t_error 0.0\t num_iterations 394\n",
      "test 68\t time 0.5631983280181885\t t_error 1.1102230246251565e-16\t num_iterations 128\n",
      "test 69\t time 4.550785064697266\t t_error 0.2200541737064936\t num_iterations 1000\n",
      "test 7\t time 2.1375904083251953\t t_error 0.0\t num_iterations 486\n",
      "test 70\t time 2.5512983798980713\t t_error 4.440892098500626e-16\t num_iterations 572\n",
      "test 71\t time 4.443715810775757\t t_error 0.29198374760631773\t num_iterations 1000\n",
      "test 72\t time 4.460904598236084\t t_error 0.20419719708989947\t num_iterations 1000\n",
      "test 73\t time 4.489861249923706\t t_error 0.3010114731163128\t num_iterations 1000\n",
      "test 74\t time 4.481307506561279\t t_error 0.2403965895661888\t num_iterations 1000\n",
      "test 75\t time 0.8980860710144043\t t_error 2.220446049250313e-16\t num_iterations 206\n",
      "test 76\t time 0.07899951934814453\t t_error 4.440892098500626e-16\t num_iterations 21\n",
      "test 77\t time 2.234351873397827\t t_error 1.1102230246251565e-16\t num_iterations 506\n",
      "test 78\t time 3.5407609939575195\t t_error 1.1102230246251565e-16\t num_iterations 792\n",
      "test 79\t time 4.492324113845825\t t_error 0.22379434729671965\t num_iterations 1000\n",
      "test 8\t time 4.590550422668457\t t_error 0.15739396182262966\t num_iterations 1000\n",
      "test 80\t time 0.7070662975311279\t t_error 0.0\t num_iterations 206\n",
      "test 81\t time 1.3618080615997314\t t_error 3.3306690738754696e-16\t num_iterations 417\n",
      "test 82\t time 0.05850815773010254\t t_error 0.0\t num_iterations 21\n",
      "test 83\t time 0.9075927734375\t t_error 3.3306690738754696e-16\t num_iterations 259\n",
      "test 84\t time 2.8734326362609863\t t_error 1.1102230246251565e-16\t num_iterations 862\n",
      "test 85\t time 0.2211470603942871\t t_error 2.220446049250313e-16\t num_iterations 68\n",
      "test 86\t time 0.39620089530944824\t t_error 2.220446049250313e-16\t num_iterations 116\n",
      "test 87\t time 3.4444055557250977\t t_error 0.22068916018627405\t num_iterations 1000\n",
      "test 88\t time 3.255012035369873\t t_error 0.19789469655893355\t num_iterations 1000\n",
      "test 89\t time 0.675255537033081\t t_error 0.0\t num_iterations 205\n",
      "test 9\t time 3.407076120376587\t t_error 0.17568689895739453\t num_iterations 1000\n",
      "test 90\t time 4.633395195007324\t t_error 0.2836788450567893\t num_iterations 1000\n",
      "test 91\t time 4.507668733596802\t t_error 0.1898124699050724\t num_iterations 1000\n",
      "test 92\t time 4.457828998565674\t t_error 0.2416058076757026\t num_iterations 1000\n",
      "test 93\t time 2.596386671066284\t t_error 0.0\t num_iterations 599\n",
      "test 94\t time 1.1259772777557373\t t_error 2.220446049250313e-16\t num_iterations 262\n",
      "test 95\t time 0.4111618995666504\t t_error 0.0\t num_iterations 92\n",
      "test 96\t time 3.5074000358581543\t t_error 4.440892098500626e-16\t num_iterations 791\n",
      "test 97\t time 0.3180878162384033\t t_error 0.0\t num_iterations 72\n",
      "test 98\t time 0.19391369819641113\t t_error 1.1102230246251565e-16\t num_iterations 47\n",
      "test 99\t time 4.451554536819458\t t_error 0.1801383351699679\t num_iterations 1000\n"
     ]
    },
    {
     "data": {
      "image/png": "[encoded data removed]",
      "text/plain": [
       "<Figure size 1000x700 with 1 Axes>"
      ]
     },
     "metadata": {},
     "output_type": "display_data"
    }
   ],
   "source": [
    "times_gd, errors_gd = get_gd_simplex_in_ball_results(5, silent=False)\n",
    "plot_test_results(times_gd, errors_gd, 'GD, 5d, simplex in ball', fit=False)"
   ]
  },
  {
   "cell_type": "code",
   "execution_count": null,
   "id": "f7957841-3f5d-479d-9a9d-12bfbc29fb33",
   "metadata": {},
   "outputs": [],
   "source": [
    "np.array([0,1,2,3])[:2]"
   ]
  },
  {
   "cell_type": "code",
   "execution_count": null,
   "id": "9795d34b-a410-447c-82d5-3085f8703674",
   "metadata": {},
   "outputs": [],
   "source": []
  },
  {
   "cell_type": "code",
   "execution_count": null,
   "id": "052c2257-3f40-4693-8e41-830207a4a3a4",
   "metadata": {},
   "outputs": [],
   "source": [
    "%load_ext line_profiler"
   ]
  },
  {
   "cell_type": "code",
   "execution_count": null,
   "id": "d73d508d-e17d-463a-aeed-55d6d4e9513c",
   "metadata": {},
   "outputs": [],
   "source": [
    "def get_baseline_test_results(dimension: int, number_tests: int, lowest_grid_density: float=100, highest_grid_density: float=10000,\n",
    "                             silent=True) -> tp.Tuple[np.ndarray, np.ndarray]:\n",
    "    times = []\n",
    "    t_errors = []\n",
    "    for _ in range(number_tests):\n",
    "        time, t_error = run_random_test(BaselineSolver, dimension, \n",
    "                                        {'grid_density': np.exp(np.random.uniform(np.log(lowest_grid_density), np.log(highest_grid_density)))}, \n",
    "                                        read_tests_simplex_in_ball, f'./tests/{dimension}d/simplex-in-ball/', silent=silent)\n",
    "        times.append(time)\n",
    "        t_errors.append(t_error)\n",
    "    \n",
    "    return np.array(times), np.array(t_errors)"
   ]
  },
  {
   "cell_type": "code",
   "execution_count": null,
   "id": "9c284819-3677-4d0a-b451-b39896399348",
   "metadata": {},
   "outputs": [],
   "source": [
    "def get_iterative_test_results(dimension: int, number_tests: int, lowest_cap_grid_diameter: int=3, \n",
    "                               highest_cap_grid_diameter: int=10,\n",
    "                              silent=True) -> tp.Tuple[np.ndarray, np.ndarray]:\n",
    "    times = []\n",
    "    t_errors = []\n",
    "    for _ in range(number_tests):\n",
    "        cap_grid_diameter = int(np.round(np.exp(np.random.uniform(np.log(lowest_cap_grid_diameter), np.log(highest_cap_grid_diameter)))))\n",
    "        time, t_error = run_random_test(IterativeSolver, dimension, \n",
    "                                        {'cap_grid_diameter': cap_grid_diameter}, \n",
    "                                        read_tests_simplex_in_ball, f'./tests/{dimension}d/simplex-in-ball/', silent=silent)\n",
    "        times.append(time)\n",
    "        t_errors.append(t_error)\n",
    "    \n",
    "    return np.array(times), np.array(t_errors)"
   ]
  },
  {
   "cell_type": "code",
   "execution_count": null,
   "id": "0d3e3ad2-1763-4558-be2c-68138ac0de19",
   "metadata": {},
   "outputs": [],
   "source": [
    "def get_greedy_simplex_in_ball_results(dimension: int, lowest_max_iteration: int=80, highest_max_iteration: int=80, \n",
    "                            silent=True) -> tp.Tuple[np.ndarray, np.ndarray]:\n",
    "    times = []\n",
    "    t_errors = []\n",
    "    deltas = []\n",
    "    for file in sorted(os.listdir(f'./tests/{dimension}d/simplex-in-ball/')):\n",
    "        support_a, support_b, delta = read_tests_simplex_in_ball(f'./tests/{dimension}d/simplex-in-ball/{file}', dimension)\n",
    "        solver_instance = GreedySolver(dimension, support_a, support_b, \n",
    "                                 num_iterations=int(np.exp(np.random.uniform(np.log(lowest_max_iteration), np.log(highest_max_iteration)))))\n",
    "        start_time = time.time()\n",
    "        solver_instance.solve()\n",
    "        end_time = time.time()\n",
    "        times.append(end_time - start_time)\n",
    "        t_errors.append(abs(1. - solver_instance.t))\n",
    "        deltas.append(delta)\n",
    "        if not silent:\n",
    "            print(f'test \\t{file}\\t time \\t{end_time - start_time}\\t t_error \\t{abs(1. - solver_instance.t)}')\n",
    "\n",
    "    return np.array(times), np.array(t_errors), np.array(deltas)"
   ]
  },
  {
   "cell_type": "code",
   "execution_count": null,
   "id": "556f6be3-ee12-4753-86dd-fec59143bc0c",
   "metadata": {},
   "outputs": [],
   "source": [
    "def get_greedy_simplex_plus_ball_in_ball_results(dimension: int, lowest_max_iteration: int=100, highest_max_iteration: int=100, \n",
    "                            silent=True) -> tp.Tuple[np.ndarray, np.ndarray]:\n",
    "    times = []\n",
    "    t_errors = []\n",
    "    deltas = []\n",
    "    for file in sorted(os.listdir(f'./tests/{dimension}d/simplex-in-ball/')):\n",
    "        support_a, support_b, delta = read_tests_simplex_plus_ball_in_ball(f'./tests/{dimension}d/simplex-plus-ball-in-ball/{file}', dimension)\n",
    "        solver_instance = GreedySolver(dimension, support_a, support_b, \n",
    "                                 num_iterations=int(np.exp(np.random.uniform(np.log(lowest_max_iteration), np.log(highest_max_iteration)))))\n",
    "        start_time = time.time()\n",
    "        solver_instance.solve()\n",
    "        end_time = time.time()\n",
    "        times.append(end_time - start_time)\n",
    "        t_errors.append(abs(1. - solver_instance.t))\n",
    "        deltas.append(delta)\n",
    "        if not silent:\n",
    "            print(f'test \\t{file}\\t time \\t{end_time - start_time}\\t t_error \\t{abs(1. - solver_instance.t)}')\n",
    "\n",
    "    return np.array(times), np.array(t_errors), np.array(deltas)"
   ]
  },
  {
   "cell_type": "code",
   "execution_count": null,
   "id": "17820ad2-22cd-48a3-8066-23e9abbca21c",
   "metadata": {},
   "outputs": [],
   "source": [
    "def get_greedy_degenerate_simplex_in_ball_results(dimension: int, lowest_max_iteration: int=100, highest_max_iteration: int=100, \n",
    "                            silent=True) -> tp.Tuple[np.ndarray, np.ndarray]:\n",
    "    times = []\n",
    "    t_errors = []\n",
    "    for file in sorted(os.listdir(f'./tests/{dimension}d/simplex-in-ball/')):\n",
    "        support_a, support_b = read_tests_degenerate_simplex_in_ball(f'./tests/{dimension}d/degenerate-simplex-in-ball/{file}', dimension)\n",
    "        solver_instance = GreedySolver(dimension, support_a, support_b, \n",
    "                                 num_iterations=int(np.exp(np.random.uniform(np.log(lowest_max_iteration), np.log(highest_max_iteration)))))\n",
    "        start_time = time.time()\n",
    "        solver_instance.solve()\n",
    "        end_time = time.time()\n",
    "        times.append(end_time - start_time)\n",
    "        t_errors.append(abs(1. - solver_instance.t))\n",
    "        if not silent:\n",
    "            print(f'test \\t{file}\\t time \\t{end_time - start_time}\\t t_error \\t{abs(1. - solver_instance.t)}')\n",
    "\n",
    "    return np.array(times), np.array(t_errors)"
   ]
  },
  {
   "cell_type": "code",
   "execution_count": null,
   "id": "896cb504-f8fe-4db5-8f1f-d6ef83a5c0c8",
   "metadata": {},
   "outputs": [],
   "source": [
    "def get_greedy_polyhedron_in_ball_results(dimension: int, lowest_max_iteration: int=100, highest_max_iteration: int=100, \n",
    "                            silent=True) -> tp.Tuple[np.ndarray, np.ndarray]:\n",
    "    times = []\n",
    "    t_errors = []\n",
    "    d = []\n",
    "    for file in sorted(os.listdir(f'./tests/{dimension}d/polyhedron-in-ball/')):\n",
    "        support_a, support_b, current_d = read_tests_polyhedron_in_ball(f'./tests/{dimension}d/polyhedron-in-ball/{file}', dimension)\n",
    "        solver_instance = GreedySolver(dimension, support_a, support_b, \n",
    "                                 num_iterations=int(np.exp(np.random.uniform(np.log(lowest_max_iteration), np.log(highest_max_iteration)))))\n",
    "        start_time = time.time()\n",
    "        solver_instance.solve()\n",
    "        end_time = time.time()\n",
    "        times.append(end_time - start_time)\n",
    "        t_errors.append(abs(1. - solver_instance.t))\n",
    "        d.append(current_d)\n",
    "        if not silent:\n",
    "            print(f'test \\t{file}\\t time \\t{end_time - start_time}\\t t_error \\t{abs(1. - solver_instance.t)}')\n",
    "\n",
    "    return np.array(times), np.array(t_errors), np.array(d)"
   ]
  },
  {
   "cell_type": "markdown",
   "id": "96154660-312e-4a6c-9bb7-2ebbe887098b",
   "metadata": {},
   "source": [
    "file = random.choice(os.listdir('./tests/10d/simplex-in-ball/'))\n",
    "support_a, support_b, delta = read_tests_simplex_in_ball(f'./tests/10d/simplex-in-ball/{file}', 10)\n",
    "solver_instance = GreedySolver(10, support_a, support_b, num_iterations=500)"
   ]
  },
  {
   "cell_type": "markdown",
   "id": "4da42902-3f86-478c-a78c-d9a92d580a8a",
   "metadata": {},
   "source": [
    "%prun solver_instance.solve()"
   ]
  },
  {
   "cell_type": "markdown",
   "id": "f890c400-eb82-4849-8b51-cd3d9f97b6f5",
   "metadata": {},
   "source": [
    "times_greedy_2d, errors_greedy_2d, d_greedy_2d = get_greedy_polyhedron_in_ball_results(2, silent=True)\n",
    "plot_test_results(times_greedy_2d, errors_greedy_2d, 'GreedySolver, 2d, polyhedron in ball', fit=False, colors=d_greedy_2d, \n",
    "                  colorbar_name='minimal distance from a non-based vertex to the sphere')"
   ]
  },
  {
   "cell_type": "markdown",
   "id": "884a33ff-8801-4619-84b7-b51dcc64edcf",
   "metadata": {},
   "source": [
    "times_greedy_3d, errors_greedy_3d, d_greedy_3d = get_greedy_polyhedron_in_ball_results(3, silent=True) \n",
    "plot_test_results(times_greedy_3d, errors_greedy_3d, 'GreedySolver, 3d, polyhedron in ball', fit=False, colors=d_greedy_3d, \n",
    "                  colorbar_name='minimal distance from a non-based vertex to the sphere')"
   ]
  },
  {
   "cell_type": "markdown",
   "id": "f863e59c-0719-4ac3-a8d5-bbdb4f51a021",
   "metadata": {},
   "source": [
    "times_greedy_4d, errors_greedy_4d, d_greedy_4d = get_greedy_polyhedron_in_ball_results(4, silent=True) \n",
    "plot_test_results(times_greedy_4d, errors_greedy_4d, 'GreedySolver, 4d, polyhedron in ball', fit=False, colors=d_greedy_4d, \n",
    "                  colorbar_name='minimal distance from a non-based vertex to the sphere')"
   ]
  },
  {
   "cell_type": "markdown",
   "id": "d089a6a1-0405-4475-b783-f6e5e6901828",
   "metadata": {},
   "source": [
    "times_greedy_5d, errors_greedy_5d, d_greedy_5d = get_greedy_polyhedron_in_ball_results(5, silent=True) \n",
    "plot_test_results(times_greedy_5d, errors_greedy_5d, 'GreedySolver, 5d, polyhedron in ball', fit=False, colors=d_greedy_5d, \n",
    "                  colorbar_name='minimal distance from a non-based vertex to the sphere')"
   ]
  },
  {
   "cell_type": "markdown",
   "id": "6db0e54d-b024-4dc4-8223-5c5171a662ea",
   "metadata": {},
   "source": [
    "times_greedy_10d, errors_greedy_10d, d_greedy_10d = get_greedy_polyhedron_in_ball_results(10, silent=False) \n",
    "plot_test_results(times_greedy_10d, errors_greedy_10d, 'GreedySolver, 10d, polyhedron in ball', fit=False, colors=d_greedy_10d, \n",
    "                  colorbar_name='minimal distance from a non-based vertex to the sphere')"
   ]
  },
  {
   "cell_type": "code",
   "execution_count": null,
   "id": "fe063273-e09a-411f-9081-7db2b6514ee7",
   "metadata": {},
   "outputs": [],
   "source": []
  },
  {
   "cell_type": "code",
   "execution_count": null,
   "id": "135c23be-d5fe-47e1-93b6-f001d705447b",
   "metadata": {},
   "outputs": [],
   "source": []
  },
  {
   "cell_type": "markdown",
   "id": "cc7d62a5-eb96-48fe-8523-04d05982deb3",
   "metadata": {},
   "source": [
    "times_greedy_2d, errors_greedy_2d = get_greedy_degenerate_simplex_in_ball_results(2, silent=True)\n",
    "plot_test_results(times_greedy_2d, errors_greedy_2d, 'GreedySolver, 2d, degenerate simplex', fit=False)"
   ]
  },
  {
   "cell_type": "markdown",
   "id": "4585abda-fd9f-475a-af09-d6265adc4ef0",
   "metadata": {},
   "source": [
    "times_greedy_3d, errors_greedy_3d = get_greedy_degenerate_simplex_in_ball_results(3, silent=True)\n",
    "plot_test_results(times_greedy_3d, errors_greedy_3d, 'GreedySolver, 3d, degenerate simplex', fit=False)"
   ]
  },
  {
   "cell_type": "markdown",
   "id": "2d7c61e4-721f-476e-91c2-ab66abbd9881",
   "metadata": {},
   "source": [
    "times_greedy_4d, errors_greedy_4d = get_greedy_degenerate_simplex_in_ball_results(4, silent=True)\n",
    "plot_test_results(times_greedy_4d, errors_greedy_4d, 'GreedySolver, 4d, degenerate simplex', fit=False)"
   ]
  },
  {
   "cell_type": "markdown",
   "id": "0fb39fb4-9d53-4ddf-85b5-2e19c9e6c52a",
   "metadata": {},
   "source": [
    "times_greedy_5d, errors_greedy_5d = get_greedy_degenerate_simplex_in_ball_results(5, silent=True)\n",
    "plot_test_results(times_greedy_5d, errors_greedy_5d, 'GreedySolver, 5d, degenerate simplex', fit=False)"
   ]
  },
  {
   "cell_type": "markdown",
   "id": "cfee97ba-6d98-450f-91ce-eb23fd00f99e",
   "metadata": {
    "tags": []
   },
   "source": [
    "times_greedy_10d, errors_greedy_10d = get_greedy_degenerate_simplex_in_ball_results(10, silent=False)\n",
    "plot_test_results(times_greedy_10d, errors_greedy_10d, 'GreedySolver, 10d, degenerate simplex', fit=False)"
   ]
  },
  {
   "cell_type": "code",
   "execution_count": null,
   "id": "1191bbe6-317d-4ba3-8375-f3fbbc5d2a76",
   "metadata": {},
   "outputs": [],
   "source": []
  },
  {
   "cell_type": "markdown",
   "id": "a7094e14-bd5a-4ecc-a1c0-7000c3bc1a30",
   "metadata": {
    "tags": []
   },
   "source": [
    "times_greedy_2d, errors_greedy_2d, deltas_greedy_2d = get_greedy_simplex_plus_ball_in_ball_results(2, silent=True)\n",
    "plot_test_results(times_greedy_2d, errors_greedy_2d, deltas_greedy_2d, 'GreedySolver, 2d, simplex + ball, 50 iterations', fit=False)"
   ]
  },
  {
   "cell_type": "markdown",
   "id": "f7346631-1a21-45d2-9731-57136c2b9151",
   "metadata": {},
   "source": [
    "times_greedy_3d, errors_greedy_3d, deltas_greedy_3d = get_greedy_simplex_plus_ball_in_ball_results(3, silent=True)\n",
    "plot_test_results(times_greedy_3d, errors_greedy_3d, deltas_greedy_3d, 'GreedySolver, 3d, simplex + ball, 50 iterations', fit=False)"
   ]
  },
  {
   "cell_type": "markdown",
   "id": "685f2489-8b64-4be2-9fae-5780fc47d771",
   "metadata": {},
   "source": [
    "times_greedy_4d, errors_greedy_4d, deltas_greedy_4d = get_greedy_simplex_plus_ball_in_ball_results(4, silent=True)\n",
    "plot_test_results(times_greedy_4d, errors_greedy_4d, deltas_greedy_4d, 'GreedySolver, 4d, simplex + ball, 50 iterations', fit=False)"
   ]
  },
  {
   "cell_type": "markdown",
   "id": "48d730be-84f5-404f-a210-9adafc147d05",
   "metadata": {},
   "source": [
    "times_greedy_5d, errors_greedy_5d, deltas_greedy_5d = get_greedy_simplex_plus_ball_in_ball_results(5, silent=True)\n",
    "plot_test_results(times_greedy_5d, errors_greedy_5d, deltas_greedy_5d, 'GreedySolver, 5d, simplex + ball, 80 iterations', fit=False)"
   ]
  },
  {
   "cell_type": "markdown",
   "id": "815998ce-44d3-45ea-94d2-c8202c1176cd",
   "metadata": {
    "tags": []
   },
   "source": [
    "times_greedy_10d, errors_greedy_10d, deltas_greedy_10d = get_greedy_simplex_plus_ball_in_ball_results(10, silent=False)\n",
    "plot_test_results(times_greedy_10d, errors_greedy_10d, deltas_greedy_10d, 'GreedySolver, 10d, simplex + ball, 100 iterations', fit=False)"
   ]
  },
  {
   "cell_type": "code",
   "execution_count": null,
   "id": "b5321e42-07d9-44d2-9f72-afb04a46841d",
   "metadata": {},
   "outputs": [],
   "source": []
  },
  {
   "cell_type": "markdown",
   "id": "969d28af-849b-4701-a792-3ef414178ade",
   "metadata": {
    "tags": []
   },
   "source": [
    "times_greedy_2d, errors_greedy_2d, deltas_greedy_2d = get_greedy_test_results(2, silent=False)\n",
    "plot_test_results(times_greedy_2d, errors_greedy_2d, deltas_greedy_2d, 'GreedySolver, 2d, n(n+1) caps with heuristic, random inscribed simplex', fit=False)"
   ]
  },
  {
   "cell_type": "markdown",
   "id": "6ba5da10-3896-430a-b93e-039a67c6168f",
   "metadata": {
    "tags": []
   },
   "source": [
    "times_greedy_3d, errors_greedy_3d, deltas_greedy_3d = get_greedy_test_results(3, silent=False)\n",
    "plot_test_results(times_greedy_3d, errors_greedy_3d, deltas_greedy_3d, 'GreedySolver, 3d, n(n+1) caps with heuristic, random inscribed simplex', fit=False)"
   ]
  },
  {
   "cell_type": "markdown",
   "id": "d9626817-bc83-4f2c-b840-d5023f8352df",
   "metadata": {},
   "source": [
    "times_greedy_4d, errors_greedy_4d, deltas_greedy_4d = get_greedy_test_results(4, silent=False)\n",
    "plot_test_results(times_greedy_4d, errors_greedy_4d, deltas_greedy_4d, 'GreedySolver, 4d, n(n+1) caps with heuristic, random inscribed simplex', fit=False)"
   ]
  },
  {
   "cell_type": "markdown",
   "id": "f0e4105a-6981-40e4-b027-8e7783cb1272",
   "metadata": {},
   "source": [
    "times_greedy_5d, errors_greedy_5d, deltas_greedy_5d = get_greedy_test_results(5, silent=False)\n",
    "plot_test_results(times_greedy_5d, errors_greedy_5d, deltas_greedy_5d, 'GreedySolver, 5d, n(n+1) caps with heuristic, random inscribed simplex', fit=False)"
   ]
  },
  {
   "cell_type": "markdown",
   "id": "3b394b64-caa8-4248-9fc1-38bbd2a600c4",
   "metadata": {
    "tags": []
   },
   "source": [
    "times_greedy_10d, errors_greedy_10d, deltas_greedy_10d = get_greedy_test_results(10, silent=False)\n",
    "plot_test_results(times_greedy_10d, errors_greedy_10d, deltas_greedy_10d, 'GreedySolver, 10d, n(n+1) caps with heuristic, random inscribed simplex', fit=False)"
   ]
  },
  {
   "cell_type": "markdown",
   "id": "6bcdc672-84c9-4151-b2be-84e99d0d0d72",
   "metadata": {
    "tags": []
   },
   "source": [
    "times_iterative_2d, errors_iterative_2d = get_iterative_test_results(2, 100, silent=True, highest_cap_grid_diameter=3)\n",
    "plot_test_results(times_iterative_2d, errors_iterative_2d, 'IterativeSolver, 2d, n(n+1) caps with startovers, random inscribed simplex', fit=False)"
   ]
  },
  {
   "cell_type": "markdown",
   "id": "3baaf541-e43d-469b-b5b8-7bb5081c737a",
   "metadata": {},
   "source": [
    "times_iterative_3d, errors_iterative_3d = get_iterative_test_results(3, 100, silent=True, highest_cap_grid_diameter=3)\n",
    "plot_test_results(times_iterative_3d, errors_iterative_3d, 'IterativeSolver, 3d, n(n+1) caps with startovers, random inscribed simplex', fit=False)"
   ]
  },
  {
   "cell_type": "markdown",
   "id": "8da5eb04-36b9-4b01-8acc-ca3227246efe",
   "metadata": {},
   "source": [
    "times_iterative_4d, errors_iterative_4d = get_iterative_test_results(4, 100, silent=True, highest_cap_grid_diameter=3)\n",
    "plot_test_results(times_iterative_4d, errors_iterative_4d, 'IterativeSolver, 4d, n(n+1) caps with startovers, random inscribed simplex', fit=False)"
   ]
  },
  {
   "cell_type": "markdown",
   "id": "e1b182d6-5b56-4852-8e24-2aa50b3ad65a",
   "metadata": {},
   "source": [
    "times_iterative_5d, errors_iterative_5d = get_iterative_test_results(5, 100, silent=True, highest_cap_grid_diameter=3)\n",
    "plot_test_results(times_iterative_5d, errors_iterative_5d, 'IterativeSolver, 5d, n(n+1) caps with startovers, random inscribed simplex', fit=False)"
   ]
  },
  {
   "cell_type": "markdown",
   "id": "064a2556-6261-44cc-8ea5-97968bbd2d87",
   "metadata": {},
   "source": [
    "times_baseline_2d, errors_baseline_2d = get_baseline_test_results(2, 1000)"
   ]
  },
  {
   "cell_type": "markdown",
   "id": "053791a1-bf7c-49a9-b491-1772a04df16d",
   "metadata": {},
   "source": [
    "plot_test_results(times_baseline_2d, errors_baseline_2d, 'BaselineSolver, 2d, grid_from_cube, random inscribed simplex')"
   ]
  },
  {
   "cell_type": "markdown",
   "id": "2274b531-c36b-4ec4-9321-85405dc7c6c3",
   "metadata": {},
   "source": [
    "times_baseline_3d, errors_baseline_3d = get_baseline_test_results(3, 1000)"
   ]
  },
  {
   "cell_type": "markdown",
   "id": "9cbd8833-06cf-4d58-b84b-8ed6e17641b8",
   "metadata": {},
   "source": [
    "plot_test_results(times_baseline_3d, errors_baseline_3d, 'BaselineSolver, 3d, grid_from_cube, random inscribed simplex')"
   ]
  },
  {
   "cell_type": "markdown",
   "id": "b6e18b40-46f6-48fe-beea-56c0fa512f7c",
   "metadata": {},
   "source": [
    "times_baseline_4d, errors_baseline_4d = get_baseline_test_results(4, 1000)"
   ]
  },
  {
   "cell_type": "markdown",
   "id": "8d78a71f-ef58-46e4-a75f-83af34495ca4",
   "metadata": {},
   "source": [
    "plot_test_results(times_baseline_4d, errors_baseline_4d, 'BaselineSolver, 4d, grid_from_cube, random inscribed simplex')"
   ]
  },
  {
   "cell_type": "markdown",
   "id": "e9a6727c-0707-49a2-b156-6cf202b11d9a",
   "metadata": {},
   "source": [
    "times_baseline_5d, errors_baseline_5d = get_baseline_test_results(5, 1000)"
   ]
  },
  {
   "cell_type": "markdown",
   "id": "1fef6a7d-eddd-4c8e-b7e4-8ffe0d348b07",
   "metadata": {},
   "source": [
    "plot_test_results(times_baseline_5d, errors_baseline_5d, 'BaselineSolver, 5d, grid_from_cube, random inscribed simplex')"
   ]
  }
 ],
 "metadata": {
  "kernelspec": {
   "display_name": "Python 3 (ipykernel)",
   "language": "python",
   "name": "python3"
  },
  "language_info": {
   "codemirror_mode": {
    "name": "ipython",
    "version": 3
   },
   "file_extension": ".py",
   "mimetype": "text/x-python",
   "name": "python",
   "nbconvert_exporter": "python",
   "pygments_lexer": "ipython3",
   "version": "3.8.10"
  }
 },
 "nbformat": 4,
 "nbformat_minor": 5
}
