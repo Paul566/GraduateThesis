{
 "cells": [
  {
   "cell_type": "code",
   "execution_count": 1,
   "id": "f5754fdf-fc77-479e-82a7-2590f554cd16",
   "metadata": {},
   "outputs": [],
   "source": [
    "import numpy as np\n",
    "import typing as tp\n",
    "import matplotlib.pyplot as plt\n",
    "from matplotlib.colors import LogNorm\n",
    "import sys\n",
    "import os\n",
    "import time\n",
    "import random"
   ]
  },
  {
   "cell_type": "code",
   "execution_count": 2,
   "id": "df7da57d-c486-4574-ab97-00cb0fec97bd",
   "metadata": {},
   "outputs": [],
   "source": [
    "from BaselineSolver import BaselineSolver\n",
    "from IterativeSolver import IterativeSolver\n",
    "from GreedySolver import GreedySolver\n",
    "from GradientDescentSolver import GradientDescentSolver\n",
    "from utils import run_tests, read_tests_simplex_in_ball, run_random_test, read_tests_simplex_plus_ball_in_ball\n",
    "from utils import read_tests_degenerate_simplex_in_ball, read_tests_polyhedron_in_ball, read_tests_simplex_in_ball_with_argmaxes"
   ]
  },
  {
   "cell_type": "code",
   "execution_count": 3,
   "id": "7aeb6a7c-5de3-42bb-b8c5-898efc1dfcfc",
   "metadata": {},
   "outputs": [],
   "source": [
    "support_a, support_b = read_tests_simplex_in_ball_with_argmaxes(f'./tests/3d/simplex-in-ball/10', 3)\n",
    "solver_instance = GradientDescentSolver(3, support_a, support_b, max_num_iterations=100, learning_rate=1)\n",
    "solver_instance.solve()"
   ]
  },
  {
   "cell_type": "code",
   "execution_count": 4,
   "id": "5e1da5f3-6a46-4c7f-b598-3d607761afae",
   "metadata": {},
   "outputs": [],
   "source": [
    "def plot_test_results(times: np.ndarray, t_errors: np.ndarray, title: str, colors: tp.Optional[np.ndarray] = None, fit=True, colorbar_name='delta') -> None:\n",
    "    t_errors_without_zeros = np.copy(t_errors)\n",
    "    t_errors_without_zeros[t_errors_without_zeros == 0.] = 1e-16\n",
    "    \n",
    "    fig = plt.figure(figsize=(10, 7))\n",
    "    ax = fig.add_subplot(111)\n",
    "    plt.xlabel('time, s')\n",
    "    plt.ylabel('t_error')\n",
    "    ax.set_xscale('log')\n",
    "    ax.set_yscale('log')\n",
    "    \n",
    "    if colors is not None:\n",
    "        plt.scatter(times, t_errors_without_zeros, c=colors, cmap='viridis_r', norm=LogNorm())\n",
    "        plt.colorbar(label=colorbar_name)\n",
    "    else:\n",
    "        plt.scatter(times, t_errors_without_zeros)\n",
    "\n",
    "    if fit:\n",
    "        a, b = np.polyfit(np.log(times), np.log(t_errors_without_zeros), 1)\n",
    "        plt.plot(times, np.exp(a * np.log(times) + b), 'r', label=f't_error ~ 1 / time^{-a:.2f}')\n",
    "        plt.legend()\n",
    "    plt.title(title)\n",
    "    plt.savefig(f'figures/{title.replace(\" \", \"_\").replace(\",\", \"\")}')"
   ]
  },
  {
   "cell_type": "code",
   "execution_count": 7,
   "id": "7bcc8a56-7f15-4e31-ba02-8e6e2a3c3944",
   "metadata": {},
   "outputs": [],
   "source": [
    "def get_gd_simplex_in_ball_results(dimension: int, silent=True) -> tp.Tuple[np.ndarray, np.ndarray]:\n",
    "    times = []\n",
    "    t_errors = []\n",
    "    for file in sorted(os.listdir(f'./tests/{dimension}d/simplex-in-ball/')):\n",
    "        support_a, support_b = read_tests_simplex_in_ball_with_argmaxes(f'./tests/{dimension}d/simplex-in-ball/{file}', dimension)\n",
    "        solver_instance = GradientDescentSolver(dimension, support_a, support_b, max_num_iterations=100, \n",
    "                                                max_finding_distinct_minimums_attempts=10, learning_rate=1)\n",
    "        start_time = time.time()\n",
    "        solver_instance.solve()\n",
    "        end_time = time.time()\n",
    "        times.append(end_time - start_time)\n",
    "        t_errors.append(abs(1. - solver_instance.t))\n",
    "        if not silent:\n",
    "            print(f'test {file}\\t time {end_time - start_time}\\t t_error {abs(1. - solver_instance.t)}\\t num_iterations {solver_instance.iteration}')\n",
    "\n",
    "    return np.array(times), np.array(t_errors)"
   ]
  },
  {
   "cell_type": "code",
   "execution_count": 8,
   "id": "345fe1bc-9aef-4779-a5f1-f685baf67967",
   "metadata": {},
   "outputs": [
    {
     "data": {
      "image/png": "[encoded data removed]",
      "text/plain": [
       "<Figure size 1000x700 with 1 Axes>"
      ]
     },
     "metadata": {},
     "output_type": "display_data"
    }
   ],
   "source": [
    "times_gd_2d, errors_gd_2d = get_gd_simplex_in_ball_results(2, silent=True)\n",
    "plot_test_results(times_gd_2d, errors_gd_2d, 'GD, 2d, simplex in ball', fit=False)"
   ]
  },
  {
   "cell_type": "code",
   "execution_count": 10,
   "id": "a8c75db2-19ca-475d-8f86-18810c1d6823",
   "metadata": {},
   "outputs": [
    {
     "name": "stdout",
     "output_type": "stream",
     "text": [
      "test 1\t time 0.009962081909179688\t t_error 0.0\t num_iterations 5\n",
      "test 10\t time 0.06600689888000488\t t_error 0.0\t num_iterations 6\n",
      "test 100\t time 0.004476070404052734\t t_error 0.0\t num_iterations 5\n",
      "test 11\t time 0.004368305206298828\t t_error 0.0\t num_iterations 5\n",
      "test 12\t time 0.011547088623046875\t t_error 0.0\t num_iterations 5\n",
      "test 13\t time 0.005814552307128906\t t_error 2.220446049250313e-16\t num_iterations 5\n",
      "test 14\t time 0.008442401885986328\t t_error 0.0\t num_iterations 5\n",
      "test 15\t time 0.003850221633911133\t t_error 4.440892098500626e-16\t num_iterations 5\n",
      "test 16\t time 0.007016658782958984\t t_error 1.1102230246251565e-16\t num_iterations 5\n",
      "test 17\t time 0.0045087337493896484\t t_error 0.0\t num_iterations 5\n",
      "test 18\t time 0.0026674270629882812\t t_error 0.0\t num_iterations 4\n",
      "test 19\t time 0.0050275325775146484\t t_error 1.1102230246251565e-16\t num_iterations 5\n",
      "test 2\t time 0.0054776668548583984\t t_error 0.0\t num_iterations 5\n",
      "test 20\t time 0.003371000289916992\t t_error 0.0\t num_iterations 5\n",
      "test 21\t time 0.00652623176574707\t t_error 2.220446049250313e-16\t num_iterations 4\n",
      "test 22\t time 0.005665302276611328\t t_error 2.220446049250313e-16\t num_iterations 5\n",
      "test 23\t time 0.0037305355072021484\t t_error 0.0\t num_iterations 5\n",
      "test 24\t time 0.008289813995361328\t t_error 0.0\t num_iterations 5\n",
      "test 25\t time 0.0035207271575927734\t t_error 2.220446049250313e-16\t num_iterations 5\n",
      "test 26\t time 0.0025637149810791016\t t_error 0.0\t num_iterations 4\n",
      "test 27\t time 0.005069255828857422\t t_error 3.3306690738754696e-16\t num_iterations 5\n",
      "test 28\t time 0.004855632781982422\t t_error 0.0\t num_iterations 5\n",
      "test 29\t time 0.0065670013427734375\t t_error 0.0\t num_iterations 5\n",
      "test 3\t time 0.006186246871948242\t t_error 0.0\t num_iterations 5\n",
      "test 30\t time 0.0028543472290039062\t t_error 2.220446049250313e-16\t num_iterations 5\n",
      "test 31\t time 0.003070831298828125\t t_error 1.1102230246251565e-16\t num_iterations 4\n",
      "test 32\t time 0.0036575794219970703\t t_error 2.220446049250313e-16\t num_iterations 5\n",
      "test 33\t time 0.006867408752441406\t t_error 2.220446049250313e-16\t num_iterations 5\n",
      "test 34\t time 0.0035686492919921875\t t_error 1.1102230246251565e-16\t num_iterations 5\n",
      "test 35\t time 0.026587247848510742\t t_error 0.0\t num_iterations 6\n",
      "test 36\t time 0.00616765022277832\t t_error 0.0\t num_iterations 5\n",
      "test 37\t time 0.008239269256591797\t t_error 0.0\t num_iterations 5\n",
      "test 38\t time 0.0037145614624023438\t t_error 0.0\t num_iterations 5\n",
      "test 39\t time 0.003121614456176758\t t_error 0.0\t num_iterations 5\n",
      "test 4\t time 0.003129243850708008\t t_error 2.220446049250313e-16\t num_iterations 5\n",
      "test 40\t time 0.0037131309509277344\t t_error 0.0\t num_iterations 5\n",
      "test 41\t time 0.0030837059020996094\t t_error 1.1102230246251565e-16\t num_iterations 5\n",
      "test 42\t time 0.002214670181274414\t t_error 2.220446049250313e-16\t num_iterations 4\n",
      "test 43\t time 0.003071308135986328\t t_error 1.1102230246251565e-16\t num_iterations 5\n",
      "test 44\t time 0.027715682983398438\t t_error 0.0\t num_iterations 6\n",
      "test 45\t time 0.008320093154907227\t t_error 0.0\t num_iterations 5\n",
      "test 46\t time 0.0041468143463134766\t t_error 0.0\t num_iterations 4\n",
      "test 47\t time 0.005681753158569336\t t_error 0.0\t num_iterations 5\n",
      "test 48\t time 0.009537220001220703\t t_error 0.0\t num_iterations 5\n",
      "test 49\t time 0.005241870880126953\t t_error 4.440892098500626e-16\t num_iterations 5\n",
      "test 5\t time 0.009824752807617188\t t_error 2.220446049250313e-16\t num_iterations 5\n",
      "test 50\t time 0.0030689239501953125\t t_error 1.1102230246251565e-16\t num_iterations 5\n",
      "test 51\t time 0.0034193992614746094\t t_error 0.0\t num_iterations 5\n",
      "test 52\t time 0.007253408432006836\t t_error 0.0\t num_iterations 5\n",
      "test 53\t time 0.004987239837646484\t t_error 2.220446049250313e-16\t num_iterations 5\n",
      "test 54\t time 0.004426479339599609\t t_error 1.1102230246251565e-16\t num_iterations 4\n",
      "test 55\t time 0.02448439598083496\t t_error 0.0\t num_iterations 6\n",
      "test 56\t time 0.0048868656158447266\t t_error 2.220446049250313e-16\t num_iterations 5\n",
      "test 57\t time 0.004949092864990234\t t_error 0.0\t num_iterations 5\n",
      "test 58\t time 0.0069773197174072266\t t_error 0.0\t num_iterations 5\n",
      "test 59\t time 0.03646421432495117\t t_error 0.0\t num_iterations 6\n",
      "test 6\t time 0.008635520935058594\t t_error 0.0\t num_iterations 5\n",
      "test 60\t time 0.0039255619049072266\t t_error 0.0\t num_iterations 5\n",
      "test 61\t time 0.0033884048461914062\t t_error 2.220446049250313e-16\t num_iterations 5\n",
      "test 62\t time 0.0042247772216796875\t t_error 0.0\t num_iterations 4\n",
      "test 63\t time 0.00417327880859375\t t_error 0.0\t num_iterations 5\n",
      "test 64\t time 0.003795146942138672\t t_error 0.0\t num_iterations 5\n",
      "test 65\t time 0.009195566177368164\t t_error 0.0\t num_iterations 5\n",
      "test 66\t time 0.0038309097290039062\t t_error 0.0\t num_iterations 5\n",
      "test 67\t time 0.004441738128662109\t t_error 4.440892098500626e-16\t num_iterations 6\n",
      "test 68\t time 0.002282857894897461\t t_error 0.0\t num_iterations 4\n",
      "test 69\t time 0.003135204315185547\t t_error 0.0\t num_iterations 5\n",
      "test 7\t time 0.0048847198486328125\t t_error 2.220446049250313e-16\t num_iterations 5\n",
      "test 70\t time 0.008377790451049805\t t_error 0.0\t num_iterations 5\n",
      "test 71\t time 0.003432750701904297\t t_error 0.0\t num_iterations 5\n",
      "test 72\t time 0.0029404163360595703\t t_error 0.0\t num_iterations 5\n",
      "test 73\t time 0.0039017200469970703\t t_error 2.220446049250313e-16\t num_iterations 5\n",
      "test 74\t time 0.0026917457580566406\t t_error 2.220446049250313e-16\t num_iterations 4\n",
      "test 75\t time 0.002545595169067383\t t_error 1.1102230246251565e-16\t num_iterations 4\n",
      "test 76\t time 0.0032367706298828125\t t_error 0.0\t num_iterations 5\n",
      "test 77\t time 0.002475261688232422\t t_error 1.1102230246251565e-16\t num_iterations 4\n",
      "test 78\t time 0.0034923553466796875\t t_error 2.220446049250313e-16\t num_iterations 5\n",
      "test 79\t time 0.0027756690979003906\t t_error 2.220446049250313e-16\t num_iterations 5\n",
      "test 8\t time 0.009963035583496094\t t_error 0.0\t num_iterations 5\n",
      "test 80\t time 0.002771615982055664\t t_error 0.0\t num_iterations 4\n",
      "test 81\t time 0.13572192192077637\t t_error 0.0\t num_iterations 12\n",
      "test 82\t time 0.005156040191650391\t t_error 0.0\t num_iterations 5\n",
      "test 83\t time 0.011263847351074219\t t_error 0.0\t num_iterations 5\n",
      "test 84\t time 0.009116888046264648\t t_error 4.440892098500626e-16\t num_iterations 5\n",
      "test 85\t time 0.0033223628997802734\t t_error 2.220446049250313e-16\t num_iterations 5\n",
      "test 86\t time 0.0035173892974853516\t t_error 2.220446049250313e-16\t num_iterations 5\n",
      "test 87\t time 0.005029201507568359\t t_error 2.220446049250313e-16\t num_iterations 5\n",
      "test 88\t time 0.004994392395019531\t t_error 2.220446049250313e-16\t num_iterations 5\n",
      "test 89\t time 0.004651308059692383\t t_error 4.440892098500626e-16\t num_iterations 5\n",
      "test 9\t time 0.002863645553588867\t t_error 1.1102230246251565e-16\t num_iterations 4\n",
      "test 90\t time 0.003160238265991211\t t_error 0.0\t num_iterations 5\n",
      "test 91\t time 0.0053598880767822266\t t_error 1.1102230246251565e-16\t num_iterations 5\n",
      "test 92\t time 0.002269268035888672\t t_error 0.0\t num_iterations 4\n",
      "test 93\t time 0.004477024078369141\t t_error 2.220446049250313e-16\t num_iterations 5\n",
      "test 94\t time 0.0036172866821289062\t t_error 2.220446049250313e-16\t num_iterations 5\n",
      "test 95\t time 0.0030066967010498047\t t_error 0.0\t num_iterations 5\n",
      "test 96\t time 0.0035932064056396484\t t_error 2.220446049250313e-16\t num_iterations 5\n",
      "test 97\t time 0.008156061172485352\t t_error 4.440892098500626e-16\t num_iterations 5\n",
      "test 98\t time 0.004302978515625\t t_error 2.220446049250313e-16\t num_iterations 4\n",
      "test 99\t time 0.0055637359619140625\t t_error 1.1102230246251565e-16\t num_iterations 5\n"
     ]
    },
    {
     "data": {
      "image/png": "[encoded data removed]",
      "text/plain": [
       "<Figure size 1000x700 with 1 Axes>"
      ]
     },
     "metadata": {},
     "output_type": "display_data"
    }
   ],
   "source": [
    "times_gd, errors_gd = get_gd_simplex_in_ball_results(3, silent=False)\n",
    "plot_test_results(times_gd, errors_gd, 'GD, 3d, simplex in ball', fit=False)"
   ]
  },
  {
   "cell_type": "code",
   "execution_count": 11,
   "id": "3f0329ae-fdea-4789-9470-c17a31da858b",
   "metadata": {
    "tags": []
   },
   "outputs": [
    {
     "name": "stdout",
     "output_type": "stream",
     "text": [
      "test 1\t time 0.008817672729492188\t t_error 0.0\t num_iterations 5\n",
      "test 10\t time 0.014311790466308594\t t_error 0.0\t num_iterations 5\n",
      "test 100\t time 0.00797891616821289\t t_error 3.3306690738754696e-16\t num_iterations 5\n",
      "test 11\t time 0.0041081905364990234\t t_error 2.220446049250313e-16\t num_iterations 5\n",
      "test 12\t time 0.006720781326293945\t t_error 0.0\t num_iterations 4\n",
      "test 13\t time 0.0066301822662353516\t t_error 0.0\t num_iterations 5\n",
      "test 14\t time 0.012720346450805664\t t_error 0.0\t num_iterations 5\n",
      "test 15\t time 0.006511688232421875\t t_error 0.0\t num_iterations 5\n",
      "test 16\t time 0.03445005416870117\t t_error 2.220446049250313e-16\t num_iterations 5\n",
      "test 17\t time 0.01314401626586914\t t_error 8.881784197001252e-16\t num_iterations 5\n",
      "test 18\t time 0.019173383712768555\t t_error 2.220446049250313e-16\t num_iterations 5\n",
      "test 19\t time 0.005537748336791992\t t_error 2.220446049250313e-16\t num_iterations 5\n",
      "test 2\t time 0.005704164505004883\t t_error 2.220446049250313e-16\t num_iterations 5\n",
      "test 20\t time 0.009907007217407227\t t_error 0.0\t num_iterations 5\n",
      "test 21\t time 0.009267568588256836\t t_error 2.220446049250313e-16\t num_iterations 5\n",
      "test 22\t time 0.007380247116088867\t t_error 2.220446049250313e-16\t num_iterations 5\n",
      "test 23\t time 0.007962703704833984\t t_error 0.0\t num_iterations 5\n",
      "test 24\t time 0.004245758056640625\t t_error 0.0\t num_iterations 5\n",
      "test 25\t time 0.005316257476806641\t t_error 3.3306690738754696e-16\t num_iterations 5\n",
      "test 26\t time 0.003707408905029297\t t_error 2.220446049250313e-16\t num_iterations 5\n",
      "test 27\t time 0.005835533142089844\t t_error 3.3306690738754696e-16\t num_iterations 5\n",
      "test 28\t time 0.003011941909790039\t t_error 0.0\t num_iterations 4\n",
      "test 29\t time 0.04925942420959473\t t_error 2.220446049250313e-16\t num_iterations 7\n",
      "test 3\t time 0.008952140808105469\t t_error 2.220446049250313e-16\t num_iterations 5\n",
      "test 30\t time 0.010341882705688477\t t_error 2.220446049250313e-16\t num_iterations 5\n",
      "test 31\t time 0.004370450973510742\t t_error 2.220446049250313e-16\t num_iterations 4\n",
      "test 32\t time 0.007065534591674805\t t_error 2.220446049250313e-16\t num_iterations 5\n",
      "test 33\t time 0.11282849311828613\t t_error 0.0\t num_iterations 9\n",
      "test 34\t time 0.005419731140136719\t t_error 0.0\t num_iterations 5\n",
      "test 35\t time 0.007481575012207031\t t_error 2.220446049250313e-16\t num_iterations 5\n",
      "test 36\t time 0.005480289459228516\t t_error 2.220446049250313e-16\t num_iterations 5\n",
      "test 37\t time 0.0041387081146240234\t t_error 2.220446049250313e-16\t num_iterations 5\n",
      "test 38\t time 0.008977890014648438\t t_error 2.220446049250313e-16\t num_iterations 6\n",
      "test 39\t time 0.005939960479736328\t t_error 2.220446049250313e-16\t num_iterations 5\n",
      "test 4\t time 0.005983114242553711\t t_error 2.220446049250313e-16\t num_iterations 5\n",
      "test 40\t time 0.004057645797729492\t t_error 2.220446049250313e-16\t num_iterations 5\n",
      "test 41\t time 0.004066944122314453\t t_error 1.1102230246251565e-16\t num_iterations 5\n",
      "test 42\t time 0.007859468460083008\t t_error 4.440892098500626e-16\t num_iterations 5\n",
      "test 43\t time 0.01259469985961914\t t_error 3.3306690738754696e-16\t num_iterations 5\n",
      "test 44\t time 0.0064923763275146484\t t_error 3.3306690738754696e-16\t num_iterations 5\n",
      "test 45\t time 0.006522655487060547\t t_error 0.0\t num_iterations 5\n",
      "test 46\t time 0.03126263618469238\t t_error 2.220446049250313e-16\t num_iterations 7\n",
      "test 47\t time 0.005294084548950195\t t_error 2.220446049250313e-16\t num_iterations 5\n",
      "test 48\t time 0.04773092269897461\t t_error 2.220446049250313e-16\t num_iterations 7\n",
      "test 49\t time 0.007887125015258789\t t_error 0.0\t num_iterations 5\n",
      "test 5\t time 0.0053637027740478516\t t_error 0.0\t num_iterations 6\n",
      "test 50\t time 0.004118680953979492\t t_error 0.0\t num_iterations 5\n",
      "test 51\t time 0.0046291351318359375\t t_error 2.220446049250313e-16\t num_iterations 4\n",
      "test 52\t time 0.07932925224304199\t t_error 2.220446049250313e-16\t num_iterations 8\n",
      "test 53\t time 0.005613565444946289\t t_error 4.440892098500626e-16\t num_iterations 5\n",
      "test 54\t time 0.006414175033569336\t t_error 4.440892098500626e-16\t num_iterations 5\n",
      "test 55\t time 0.004570960998535156\t t_error 2.220446049250313e-16\t num_iterations 5\n",
      "test 56\t time 0.009614944458007812\t t_error 0.0\t num_iterations 5\n",
      "test 57\t time 0.0068302154541015625\t t_error 2.220446049250313e-16\t num_iterations 5\n",
      "test 58\t time 0.009745359420776367\t t_error 1.1102230246251565e-16\t num_iterations 5\n",
      "test 59\t time 0.005862236022949219\t t_error 1.1102230246251565e-16\t num_iterations 5\n",
      "test 6\t time 0.0054950714111328125\t t_error 2.220446049250313e-16\t num_iterations 5\n",
      "test 60\t time 0.008521556854248047\t t_error 1.1102230246251565e-16\t num_iterations 5\n",
      "test 61\t time 0.005756378173828125\t t_error 3.3306690738754696e-16\t num_iterations 5\n",
      "test 62\t time 0.005362033843994141\t t_error 0.0\t num_iterations 5\n",
      "test 63\t time 0.0034356117248535156\t t_error 0.0\t num_iterations 5\n",
      "test 64\t time 0.0076446533203125\t t_error 0.0\t num_iterations 5\n",
      "test 65\t time 0.003845691680908203\t t_error 2.220446049250313e-16\t num_iterations 5\n",
      "test 66\t time 0.0035240650177001953\t t_error 1.1102230246251565e-16\t num_iterations 5\n",
      "test 67\t time 0.009690523147583008\t t_error 0.0\t num_iterations 5\n",
      "test 68\t time 0.008495330810546875\t t_error 0.0\t num_iterations 5\n",
      "test 69\t time 0.004799365997314453\t t_error 2.220446049250313e-16\t num_iterations 5\n",
      "test 7\t time 0.005914211273193359\t t_error 0.0\t num_iterations 5\n",
      "test 70\t time 0.007516384124755859\t t_error 0.0\t num_iterations 5\n",
      "test 71\t time 0.0035295486450195312\t t_error 0.0\t num_iterations 5\n",
      "test 72\t time 0.007396697998046875\t t_error 2.220446049250313e-16\t num_iterations 5\n",
      "test 73\t time 0.003059864044189453\t t_error 0.0\t num_iterations 4\n",
      "test 74\t time 0.00692296028137207\t t_error 4.440892098500626e-16\t num_iterations 4\n",
      "test 75\t time 0.008075237274169922\t t_error 2.220446049250313e-16\t num_iterations 5\n",
      "test 76\t time 0.005135059356689453\t t_error 1.1102230246251565e-16\t num_iterations 5\n",
      "test 77\t time 0.006056785583496094\t t_error 0.0\t num_iterations 5\n",
      "test 78\t time 0.008174419403076172\t t_error 0.0\t num_iterations 5\n",
      "test 79\t time 0.004958152770996094\t t_error 0.0\t num_iterations 5\n",
      "test 8\t time 0.006488323211669922\t t_error 5.551115123125783e-16\t num_iterations 5\n",
      "test 80\t time 0.007391214370727539\t t_error 2.220446049250313e-16\t num_iterations 5\n",
      "test 81\t time 0.005017518997192383\t t_error 2.220446049250313e-16\t num_iterations 5\n",
      "test 82\t time 0.007558107376098633\t t_error 1.1102230246251565e-16\t num_iterations 5\n",
      "test 83\t time 0.0033867359161376953\t t_error 0.0\t num_iterations 5\n",
      "test 84\t time 0.005915164947509766\t t_error 2.220446049250313e-16\t num_iterations 5\n",
      "test 85\t time 0.0031671524047851562\t t_error 2.220446049250313e-16\t num_iterations 4\n",
      "test 86\t time 0.0070383548736572266\t t_error 1.1102230246251565e-16\t num_iterations 5\n",
      "test 87\t time 0.006222248077392578\t t_error 1.1102230246251565e-16\t num_iterations 5\n",
      "test 88\t time 0.009554624557495117\t t_error 1.1102230246251565e-16\t num_iterations 5\n",
      "test 89\t time 0.007616996765136719\t t_error 2.220446049250313e-16\t num_iterations 5\n",
      "test 9\t time 0.00538325309753418\t t_error 1.1102230246251565e-16\t num_iterations 5\n",
      "test 90\t time 0.003950357437133789\t t_error 3.3306690738754696e-16\t num_iterations 5\n",
      "test 91\t time 0.005673646926879883\t t_error 0.0\t num_iterations 5\n",
      "test 92\t time 0.005265235900878906\t t_error 0.0\t num_iterations 5\n",
      "test 93\t time 0.00923776626586914\t t_error 0.0\t num_iterations 5\n",
      "test 94\t time 0.0059545040130615234\t t_error 0.0\t num_iterations 5\n",
      "test 95\t time 0.0034558773040771484\t t_error 1.1102230246251565e-16\t num_iterations 5\n",
      "test 96\t time 0.003656625747680664\t t_error 1.1102230246251565e-16\t num_iterations 5\n",
      "test 97\t time 0.004075527191162109\t t_error 2.220446049250313e-16\t num_iterations 5\n",
      "test 98\t time 0.005484819412231445\t t_error 2.220446049250313e-16\t num_iterations 5\n",
      "test 99\t time 0.009105205535888672\t t_error 0.0\t num_iterations 5\n"
     ]
    },
    {
     "data": {
      "image/png": "[encoded data removed]",
      "text/plain": [
       "<Figure size 1000x700 with 1 Axes>"
      ]
     },
     "metadata": {},
     "output_type": "display_data"
    }
   ],
   "source": [
    "times_gd, errors_gd = get_gd_simplex_in_ball_results(4, silent=False)\n",
    "plot_test_results(times_gd, errors_gd, 'GD, 4d, simplex in ball', fit=False)"
   ]
  },
  {
   "cell_type": "code",
   "execution_count": 12,
   "id": "bbe146a8-54d1-4ace-a183-a23fa4d60370",
   "metadata": {},
   "outputs": [
    {
     "name": "stdout",
     "output_type": "stream",
     "text": [
      "test 1\t time 0.02343153953552246\t t_error 0.0\t num_iterations 5\n",
      "test 10\t time 0.05317544937133789\t t_error 2.220446049250313e-16\t num_iterations 6\n",
      "test 100\t time 0.010145902633666992\t t_error 1.1102230246251565e-16\t num_iterations 5\n",
      "test 11\t time 0.008508682250976562\t t_error 1.3322676295501878e-15\t num_iterations 5\n",
      "test 12\t time 0.012637138366699219\t t_error 0.0\t num_iterations 5\n",
      "test 13\t time 0.009049654006958008\t t_error 4.440892098500626e-16\t num_iterations 5\n",
      "test 14\t time 0.00902104377746582\t t_error 4.440892098500626e-16\t num_iterations 6\n",
      "test 15\t time 0.011638641357421875\t t_error 4.440892098500626e-16\t num_iterations 5\n",
      "test 16\t time 0.00886988639831543\t t_error 2.220446049250313e-16\t num_iterations 5\n",
      "test 17\t time 0.011336088180541992\t t_error 0.0\t num_iterations 5\n",
      "test 18\t time 0.01732635498046875\t t_error 6.661338147750939e-16\t num_iterations 5\n",
      "test 19\t time 0.014642477035522461\t t_error 2.220446049250313e-16\t num_iterations 5\n",
      "test 2\t time 0.008370161056518555\t t_error 2.220446049250313e-16\t num_iterations 5\n",
      "test 20\t time 0.008346796035766602\t t_error 2.220446049250313e-16\t num_iterations 5\n",
      "test 21\t time 0.008482217788696289\t t_error 1.1102230246251565e-16\t num_iterations 5\n",
      "test 22\t time 0.012473106384277344\t t_error 2.220446049250313e-16\t num_iterations 5\n",
      "test 23\t time 0.009008169174194336\t t_error 1.1102230246251565e-16\t num_iterations 5\n",
      "test 24\t time 0.008688688278198242\t t_error 0.0\t num_iterations 5\n",
      "test 25\t time 0.009308099746704102\t t_error 0.0\t num_iterations 5\n",
      "test 26\t time 0.10715818405151367\t t_error 4.440892098500626e-16\t num_iterations 8\n",
      "test 27\t time 0.011393070220947266\t t_error 0.0\t num_iterations 5\n",
      "test 28\t time 0.01186513900756836\t t_error 0.0\t num_iterations 5\n",
      "test 29\t time 0.008834123611450195\t t_error 0.0\t num_iterations 5\n",
      "test 3\t time 0.07741069793701172\t t_error 0.0\t num_iterations 7\n",
      "test 30\t time 0.0061168670654296875\t t_error 0.0\t num_iterations 5\n",
      "test 31\t time 0.011400699615478516\t t_error 2.220446049250313e-16\t num_iterations 5\n",
      "test 32\t time 0.0066263675689697266\t t_error 2.220446049250313e-16\t num_iterations 5\n",
      "test 33\t time 0.005833625793457031\t t_error 0.0\t num_iterations 5\n",
      "test 34\t time 0.013641357421875\t t_error 1.1102230246251565e-16\t num_iterations 5\n",
      "test 35\t time 0.0072214603424072266\t t_error 0.0\t num_iterations 4\n",
      "test 36\t time 0.008478641510009766\t t_error 0.0\t num_iterations 5\n",
      "test 37\t time 0.048177480697631836\t t_error 6.661338147750939e-16\t num_iterations 7\n",
      "test 38\t time 0.013360261917114258\t t_error 1.1102230246251565e-16\t num_iterations 5\n",
      "test 39\t time 0.007833003997802734\t t_error 0.0\t num_iterations 5\n",
      "test 4\t time 0.008416175842285156\t t_error 1.1102230246251565e-16\t num_iterations 5\n",
      "test 40\t time 0.008975505828857422\t t_error 1.1102230246251565e-16\t num_iterations 5\n",
      "test 41\t time 0.009238004684448242\t t_error 2.220446049250313e-16\t num_iterations 5\n",
      "test 42\t time 0.009813785552978516\t t_error 2.220446049250313e-16\t num_iterations 5\n",
      "test 43\t time 0.007830142974853516\t t_error 0.0\t num_iterations 5\n",
      "test 44\t time 0.008324384689331055\t t_error 2.220446049250313e-16\t num_iterations 5\n",
      "test 45\t time 0.008400201797485352\t t_error 4.440892098500626e-16\t num_iterations 5\n",
      "test 46\t time 0.11138319969177246\t t_error 3.3306690738754696e-16\t num_iterations 8\n",
      "test 47\t time 0.008481979370117188\t t_error 0.0\t num_iterations 5\n",
      "test 48\t time 0.009171724319458008\t t_error 0.0\t num_iterations 5\n",
      "test 49\t time 0.007374286651611328\t t_error 0.0\t num_iterations 4\n",
      "test 5\t time 0.011089324951171875\t t_error 1.1102230246251565e-16\t num_iterations 5\n",
      "test 50\t time 0.004441499710083008\t t_error 0.0\t num_iterations 4\n",
      "test 51\t time 0.008063077926635742\t t_error 1.1102230246251565e-16\t num_iterations 5\n",
      "test 52\t time 0.007760286331176758\t t_error 0.0\t num_iterations 5\n",
      "test 53\t time 0.008229494094848633\t t_error 2.220446049250313e-16\t num_iterations 5\n",
      "test 54\t time 0.01738286018371582\t t_error 0.0\t num_iterations 5\n",
      "test 55\t time 0.009682178497314453\t t_error 0.0\t num_iterations 5\n",
      "test 56\t time 0.005670070648193359\t t_error 2.220446049250313e-16\t num_iterations 5\n",
      "test 57\t time 0.011344194412231445\t t_error 0.0\t num_iterations 5\n",
      "test 58\t time 0.01104116439819336\t t_error 3.3306690738754696e-16\t num_iterations 5\n",
      "test 59\t time 0.007999420166015625\t t_error 2.220446049250313e-16\t num_iterations 5\n",
      "test 6\t time 0.01292872428894043\t t_error 0.0\t num_iterations 4\n",
      "test 60\t time 0.014359474182128906\t t_error 0.0\t num_iterations 5\n",
      "test 61\t time 0.01710987091064453\t t_error 0.0\t num_iterations 5\n",
      "test 62\t time 0.008489131927490234\t t_error 0.0\t num_iterations 5\n",
      "test 63\t time 0.007418155670166016\t t_error 0.0\t num_iterations 4\n",
      "test 64\t time 0.0077953338623046875\t t_error 2.220446049250313e-16\t num_iterations 5\n",
      "test 65\t time 0.014067888259887695\t t_error 0.0\t num_iterations 5\n",
      "test 66\t time 0.010036230087280273\t t_error 0.0\t num_iterations 5\n",
      "test 67\t time 0.008787393569946289\t t_error 4.440892098500626e-16\t num_iterations 5\n",
      "test 68\t time 0.008853912353515625\t t_error 0.0\t num_iterations 5\n",
      "test 69\t time 0.006169795989990234\t t_error 0.0\t num_iterations 5\n",
      "test 7\t time 0.0159759521484375\t t_error 2.220446049250313e-16\t num_iterations 4\n",
      "test 70\t time 0.010605335235595703\t t_error 2.220446049250313e-16\t num_iterations 6\n",
      "test 71\t time 0.013915061950683594\t t_error 0.0\t num_iterations 5\n",
      "test 72\t time 0.012095212936401367\t t_error 0.0\t num_iterations 5\n",
      "test 73\t time 0.012307405471801758\t t_error 0.0\t num_iterations 5\n",
      "test 74\t time 0.008941650390625\t t_error 1.1102230246251565e-16\t num_iterations 5\n",
      "test 75\t time 0.018044710159301758\t t_error 1.1102230246251565e-16\t num_iterations 5\n",
      "test 76\t time 0.007940530776977539\t t_error 0.0\t num_iterations 5\n",
      "test 77\t time 0.008740663528442383\t t_error 0.0\t num_iterations 5\n",
      "test 78\t time 0.009051084518432617\t t_error 2.220446049250313e-16\t num_iterations 5\n",
      "test 79\t time 0.009288311004638672\t t_error 2.220446049250313e-16\t num_iterations 5\n",
      "test 8\t time 0.011634588241577148\t t_error 6.661338147750939e-16\t num_iterations 5\n",
      "test 80\t time 0.008060216903686523\t t_error 4.440892098500626e-16\t num_iterations 5\n",
      "test 81\t time 0.008189678192138672\t t_error 2.220446049250313e-16\t num_iterations 5\n",
      "test 82\t time 0.008636713027954102\t t_error 2.220446049250313e-16\t num_iterations 5\n",
      "test 83\t time 0.00843501091003418\t t_error 0.0\t num_iterations 5\n",
      "test 84\t time 0.00553441047668457\t t_error 2.220446049250313e-16\t num_iterations 5\n",
      "test 85\t time 0.006186962127685547\t t_error 0.0\t num_iterations 5\n",
      "test 86\t time 0.008033514022827148\t t_error 1.1102230246251565e-16\t num_iterations 4\n",
      "test 87\t time 0.009479522705078125\t t_error 4.440892098500626e-16\t num_iterations 6\n",
      "test 88\t time 0.009799480438232422\t t_error 0.0\t num_iterations 5\n",
      "test 89\t time 0.008865833282470703\t t_error 2.220446049250313e-16\t num_iterations 5\n",
      "test 9\t time 0.00911712646484375\t t_error 0.0\t num_iterations 5\n",
      "test 90\t time 0.012483596801757812\t t_error 2.220446049250313e-16\t num_iterations 5\n",
      "test 91\t time 0.026592254638671875\t t_error 0.0\t num_iterations 5\n",
      "test 92\t time 0.008165836334228516\t t_error 0.0\t num_iterations 5\n",
      "test 93\t time 0.01103663444519043\t t_error 4.440892098500626e-16\t num_iterations 5\n",
      "test 94\t time 0.01111459732055664\t t_error 0.0\t num_iterations 5\n",
      "test 95\t time 0.0060312747955322266\t t_error 4.440892098500626e-16\t num_iterations 5\n",
      "test 96\t time 0.0072824954986572266\t t_error 2.220446049250313e-16\t num_iterations 4\n",
      "test 97\t time 0.01170969009399414\t t_error 4.440892098500626e-16\t num_iterations 5\n",
      "test 98\t time 0.007850885391235352\t t_error 0.0\t num_iterations 5\n",
      "test 99\t time 0.012436151504516602\t t_error 2.220446049250313e-16\t num_iterations 5\n"
     ]
    },
    {
     "data": {
      "image/png": "[encoded data removed]",
      "text/plain": [
       "<Figure size 1000x700 with 1 Axes>"
      ]
     },
     "metadata": {},
     "output_type": "display_data"
    }
   ],
   "source": [
    "times_gd, errors_gd = get_gd_simplex_in_ball_results(5, silent=False)\n",
    "plot_test_results(times_gd, errors_gd, 'GD, 5d, simplex in ball', fit=False)"
   ]
  },
  {
   "cell_type": "code",
   "execution_count": 13,
   "id": "f7957841-3f5d-479d-9a9d-12bfbc29fb33",
   "metadata": {},
   "outputs": [
    {
     "name": "stdout",
     "output_type": "stream",
     "text": [
      "test 1\t time 0.024428367614746094\t t_error 2.220446049250313e-16\t num_iterations 5\n",
      "test 10\t time 0.03233146667480469\t t_error 4.440892098500626e-16\t num_iterations 5\n",
      "test 100\t time 0.022559404373168945\t t_error 2.220446049250313e-16\t num_iterations 5\n",
      "test 11\t time 0.019121170043945312\t t_error 4.440892098500626e-16\t num_iterations 5\n",
      "test 12\t time 0.0238497257232666\t t_error 0.0\t num_iterations 5\n",
      "test 13\t time 0.019222021102905273\t t_error 4.440892098500626e-16\t num_iterations 5\n",
      "test 14\t time 0.013812780380249023\t t_error 0.0\t num_iterations 5\n",
      "test 15\t time 0.014310359954833984\t t_error 2.220446049250313e-16\t num_iterations 5\n",
      "test 16\t time 0.019134521484375\t t_error 2.220446049250313e-16\t num_iterations 5\n",
      "test 17\t time 0.01851797103881836\t t_error 0.0\t num_iterations 5\n",
      "test 18\t time 0.038332223892211914\t t_error 0.0\t num_iterations 5\n",
      "test 19\t time 0.03210711479187012\t t_error 1.1102230246251565e-15\t num_iterations 5\n",
      "test 2\t time 0.05240607261657715\t t_error 1.1102230246251565e-16\t num_iterations 5\n",
      "test 20\t time 0.02463507652282715\t t_error 2.220446049250313e-16\t num_iterations 5\n",
      "test 21\t time 0.0192415714263916\t t_error 1.1102230246251565e-16\t num_iterations 5\n",
      "test 22\t time 0.013745546340942383\t t_error 5.551115123125783e-16\t num_iterations 5\n",
      "test 23\t time 0.01931309700012207\t t_error 1.2212453270876722e-15\t num_iterations 5\n",
      "test 24\t time 0.019376516342163086\t t_error 1.1102230246251565e-16\t num_iterations 5\n",
      "test 25\t time 0.03888702392578125\t t_error 0.0\t num_iterations 5\n",
      "test 26\t time 0.01676630973815918\t t_error 0.0\t num_iterations 5\n",
      "test 27\t time 0.01677703857421875\t t_error 8.881784197001252e-16\t num_iterations 6\n",
      "test 28\t time 0.019271135330200195\t t_error 4.440892098500626e-16\t num_iterations 5\n",
      "test 29\t time 0.026062965393066406\t t_error 2.220446049250313e-16\t num_iterations 5\n",
      "test 3\t time 0.01884627342224121\t t_error 2.220446049250313e-16\t num_iterations 5\n",
      "test 30\t time 0.013302326202392578\t t_error 2.220446049250313e-16\t num_iterations 5\n",
      "test 31\t time 0.024173498153686523\t t_error 2.220446049250313e-16\t num_iterations 5\n",
      "test 32\t time 0.014406204223632812\t t_error 0.0\t num_iterations 5\n",
      "test 33\t time 0.019142866134643555\t t_error 4.440892098500626e-16\t num_iterations 5\n",
      "test 34\t time 0.02763986587524414\t t_error 6.661338147750939e-16\t num_iterations 5\n",
      "test 35\t time 0.019111156463623047\t t_error 4.440892098500626e-16\t num_iterations 5\n",
      "test 36\t time 0.017866134643554688\t t_error 8.881784197001252e-16\t num_iterations 5\n",
      "test 37\t time 0.013034820556640625\t t_error 1.1102230246251565e-15\t num_iterations 5\n",
      "test 38\t time 0.023638010025024414\t t_error 4.440892098500626e-16\t num_iterations 5\n",
      "test 39\t time 0.03356623649597168\t t_error 2.220446049250313e-16\t num_iterations 5\n",
      "test 4\t time 0.021477937698364258\t t_error 2.220446049250313e-16\t num_iterations 6\n",
      "test 40\t time 0.02775716781616211\t t_error 2.220446049250313e-16\t num_iterations 5\n",
      "test 41\t time 0.015751361846923828\t t_error 4.440892098500626e-16\t num_iterations 6\n",
      "test 42\t time 0.04556417465209961\t t_error 6.661338147750939e-16\t num_iterations 5\n",
      "test 43\t time 0.017389774322509766\t t_error 4.440892098500626e-16\t num_iterations 5\n",
      "test 44\t time 0.015552759170532227\t t_error 6.661338147750939e-16\t num_iterations 6\n",
      "test 45\t time 0.020310401916503906\t t_error 0.0\t num_iterations 5\n",
      "test 46\t time 0.013403892517089844\t t_error 2.220446049250313e-16\t num_iterations 5\n",
      "test 47\t time 0.01355886459350586\t t_error 4.440892098500626e-16\t num_iterations 5\n",
      "test 48\t time 0.013123035430908203\t t_error 0.0\t num_iterations 5\n",
      "test 49\t time 0.01791977882385254\t t_error 4.440892098500626e-16\t num_iterations 5\n",
      "test 5\t time 0.018436193466186523\t t_error 6.661338147750939e-16\t num_iterations 5\n",
      "test 50\t time 0.019086837768554688\t t_error 2.220446049250313e-16\t num_iterations 5\n",
      "test 51\t time 0.016724824905395508\t t_error 2.220446049250313e-16\t num_iterations 5\n",
      "test 52\t time 0.019018173217773438\t t_error 2.220446049250313e-16\t num_iterations 5\n",
      "test 53\t time 0.04204154014587402\t t_error 2.220446049250313e-16\t num_iterations 5\n",
      "test 54\t time 0.026153564453125\t t_error 4.440892098500626e-16\t num_iterations 5\n",
      "test 55\t time 0.021331787109375\t t_error 1.1102230246251565e-16\t num_iterations 5\n",
      "test 56\t time 0.018218278884887695\t t_error 0.0\t num_iterations 5\n",
      "test 57\t time 0.013927459716796875\t t_error 2.220446049250313e-16\t num_iterations 5\n",
      "test 58\t time 0.02459883689880371\t t_error 1.1102230246251565e-16\t num_iterations 5\n",
      "test 59\t time 0.024160385131835938\t t_error 0.0\t num_iterations 5\n",
      "test 6\t time 0.017686128616333008\t t_error 0.0\t num_iterations 5\n",
      "test 60\t time 0.024032115936279297\t t_error 2.220446049250313e-16\t num_iterations 5\n",
      "test 61\t time 0.019354581832885742\t t_error 2.220446049250313e-16\t num_iterations 5\n",
      "test 62\t time 0.03909897804260254\t t_error 0.0\t num_iterations 5\n",
      "test 63\t time 0.019780874252319336\t t_error 0.0\t num_iterations 5\n",
      "test 64\t time 0.018866777420043945\t t_error 0.0\t num_iterations 5\n",
      "test 65\t time 0.019016742706298828\t t_error 0.0\t num_iterations 5\n",
      "test 66\t time 0.02380657196044922\t t_error 4.440892098500626e-16\t num_iterations 5\n",
      "test 67\t time 0.018590450286865234\t t_error 2.220446049250313e-16\t num_iterations 5\n",
      "test 68\t time 0.01866936683654785\t t_error 2.220446049250313e-16\t num_iterations 5\n",
      "test 69\t time 0.009546279907226562\t t_error 0.0\t num_iterations 5\n",
      "test 7\t time 0.013054847717285156\t t_error 4.440892098500626e-16\t num_iterations 5\n",
      "test 70\t time 0.024124622344970703\t t_error 2.220446049250313e-16\t num_iterations 5\n",
      "test 71\t time 0.018976926803588867\t t_error 0.0\t num_iterations 5\n",
      "test 72\t time 0.045485734939575195\t t_error 2.220446049250313e-16\t num_iterations 5\n",
      "test 73\t time 0.03041815757751465\t t_error 1.1102230246251565e-16\t num_iterations 5\n",
      "test 74\t time 0.026749610900878906\t t_error 1.3322676295501878e-15\t num_iterations 5\n",
      "test 75\t time 0.023782968521118164\t t_error 0.0\t num_iterations 5\n",
      "test 76\t time 0.03662300109863281\t t_error 6.661338147750939e-16\t num_iterations 5\n",
      "test 77\t time 0.02881002426147461\t t_error 2.220446049250313e-16\t num_iterations 5\n",
      "test 78\t time 0.02096271514892578\t t_error 6.661338147750939e-16\t num_iterations 5\n",
      "test 79\t time 0.018717288970947266\t t_error 2.220446049250313e-16\t num_iterations 5\n",
      "test 8\t time 0.02593064308166504\t t_error 1.1102230246251565e-16\t num_iterations 5\n",
      "test 80\t time 0.04307079315185547\t t_error 4.440892098500626e-16\t num_iterations 6\n",
      "test 81\t time 0.03093266487121582\t t_error 2.220446049250313e-16\t num_iterations 5\n",
      "test 82\t time 0.029187917709350586\t t_error 2.220446049250313e-16\t num_iterations 5\n",
      "test 83\t time 0.0199582576751709\t t_error 2.220446049250313e-16\t num_iterations 5\n",
      "test 84\t time 0.03044867515563965\t t_error 0.0\t num_iterations 5\n",
      "test 85\t time 0.019918441772460938\t t_error 2.220446049250313e-16\t num_iterations 5\n",
      "test 86\t time 0.022274494171142578\t t_error 0.0\t num_iterations 6\n",
      "test 87\t time 0.024428367614746094\t t_error 1.1102230246251565e-16\t num_iterations 5\n",
      "test 88\t time 0.04168272018432617\t t_error 1.1102230246251565e-16\t num_iterations 6\n",
      "test 89\t time 0.02338862419128418\t t_error 0.0\t num_iterations 5\n",
      "test 9\t time 0.019431352615356445\t t_error 1.1102230246251565e-16\t num_iterations 5\n",
      "test 90\t time 0.025881290435791016\t t_error 2.220446049250313e-16\t num_iterations 6\n",
      "test 91\t time 0.014017820358276367\t t_error 0.0\t num_iterations 5\n",
      "test 92\t time 0.013188362121582031\t t_error 1.1102230246251565e-16\t num_iterations 5\n",
      "test 93\t time 0.019352436065673828\t t_error 4.440892098500626e-16\t num_iterations 5\n",
      "test 94\t time 0.022322416305541992\t t_error 0.0\t num_iterations 6\n",
      "test 95\t time 0.0542144775390625\t t_error 0.0\t num_iterations 5\n",
      "test 96\t time 0.019828319549560547\t t_error 4.440892098500626e-16\t num_iterations 5\n",
      "test 97\t time 0.013468503952026367\t t_error 0.0\t num_iterations 5\n",
      "test 98\t time 0.01485300064086914\t t_error 2.220446049250313e-16\t num_iterations 5\n",
      "test 99\t time 0.01900339126586914\t t_error 2.220446049250313e-16\t num_iterations 5\n"
     ]
    },
    {
     "data": {
      "image/png": "[encoded data removed]",
      "text/plain": [
       "<Figure size 1000x700 with 1 Axes>"
      ]
     },
     "metadata": {},
     "output_type": "display_data"
    }
   ],
   "source": [
    "times_gd, errors_gd = get_gd_simplex_in_ball_results(10, silent=False)\n",
    "plot_test_results(times_gd, errors_gd, 'GD, 10d, simplex in ball', fit=False)"
   ]
  },
  {
   "cell_type": "code",
   "execution_count": 17,
   "id": "91301b73-df51-4252-bed6-3ec4de90f8a5",
   "metadata": {},
   "outputs": [
    {
     "name": "stdout",
     "output_type": "stream",
     "text": [
      "test 1\t time 0.05281782150268555\t t_error 1.1102230246251565e-16\t num_iterations 5\n",
      "test 10\t time 0.07526254653930664\t t_error 1.7763568394002505e-15\t num_iterations 5\n",
      "test 100\t time 0.03869032859802246\t t_error 1.9984014443252818e-15\t num_iterations 5\n",
      "test 11\t time 0.07833719253540039\t t_error 1.1102230246251565e-15\t num_iterations 5\n",
      "test 12\t time 0.0787966251373291\t t_error 6.661338147750939e-16\t num_iterations 5\n",
      "test 13\t time 0.06514525413513184\t t_error 1.6653345369377348e-15\t num_iterations 6\n",
      "test 14\t time 0.03929591178894043\t t_error 6.661338147750939e-16\t num_iterations 5\n",
      "test 15\t time 0.042006492614746094\t t_error 4.440892098500626e-16\t num_iterations 6\n",
      "test 16\t time 0.09522557258605957\t t_error 4.440892098500626e-16\t num_iterations 5\n",
      "test 17\t time 0.06655120849609375\t t_error 2.220446049250313e-16\t num_iterations 5\n",
      "test 18\t time 0.049820899963378906\t t_error 6.661338147750939e-16\t num_iterations 5\n",
      "test 19\t time 0.03873896598815918\t t_error 4.440892098500626e-16\t num_iterations 5\n",
      "test 2\t time 0.08011174201965332\t t_error 4.440892098500626e-16\t num_iterations 5\n",
      "test 20\t time 0.04032182693481445\t t_error 0.0\t num_iterations 5\n",
      "test 21\t time 0.04275870323181152\t t_error 1.7763568394002505e-15\t num_iterations 6\n",
      "test 22\t time 0.04084944725036621\t t_error 2.220446049250313e-16\t num_iterations 5\n",
      "test 23\t time 0.028792619705200195\t t_error 1.4432899320127035e-15\t num_iterations 5\n",
      "test 24\t time 0.07815957069396973\t t_error 1.4432899320127035e-15\t num_iterations 5\n",
      "test 25\t time 0.04549551010131836\t t_error 2.220446049250313e-16\t num_iterations 5\n",
      "test 26\t time 0.04210186004638672\t t_error 0.0\t num_iterations 5\n",
      "test 27\t time 0.03722524642944336\t t_error 0.0\t num_iterations 5\n",
      "test 28\t time 0.0409700870513916\t t_error 3.3306690738754696e-16\t num_iterations 5\n",
      "test 29\t time 0.0647287368774414\t t_error 5.551115123125783e-16\t num_iterations 6\n",
      "test 3\t time 0.04023623466491699\t t_error 2.220446049250313e-16\t num_iterations 5\n",
      "test 30\t time 0.05499696731567383\t t_error 4.440892098500626e-16\t num_iterations 5\n",
      "test 31\t time 0.03961372375488281\t t_error 2.220446049250313e-16\t num_iterations 5\n",
      "test 32\t time 0.0399012565612793\t t_error 4.440892098500626e-16\t num_iterations 5\n",
      "test 33\t time 0.06837654113769531\t t_error 2.7755575615628914e-15\t num_iterations 5\n",
      "test 34\t time 0.0948038101196289\t t_error 4.440892098500626e-16\t num_iterations 5\n",
      "test 35\t time 0.06198835372924805\t t_error 6.661338147750939e-16\t num_iterations 5\n",
      "test 36\t time 0.02732539176940918\t t_error 1.1102230246251565e-15\t num_iterations 5\n",
      "test 37\t time 0.051923513412475586\t t_error 2.220446049250313e-16\t num_iterations 5\n",
      "test 38\t time 0.0639348030090332\t t_error 4.440892098500626e-16\t num_iterations 5\n",
      "test 39\t time 0.09562849998474121\t t_error 4.440892098500626e-16\t num_iterations 5\n",
      "test 4\t time 0.07206487655639648\t t_error 6.661338147750939e-16\t num_iterations 5\n",
      "test 40\t time 0.037636756896972656\t t_error 8.881784197001252e-16\t num_iterations 5\n",
      "test 41\t time 0.04174089431762695\t t_error 0.0\t num_iterations 6\n",
      "test 42\t time 0.06364154815673828\t t_error 3.3306690738754696e-16\t num_iterations 5\n",
      "test 43\t time 0.07008671760559082\t t_error 2.220446049250313e-16\t num_iterations 5\n",
      "test 44\t time 0.04272198677062988\t t_error 3.3306690738754696e-16\t num_iterations 5\n",
      "test 45\t time 0.07560229301452637\t t_error 8.881784197001252e-16\t num_iterations 5\n",
      "test 46\t time 0.05107474327087402\t t_error 0.0\t num_iterations 5\n",
      "test 47\t time 0.06783723831176758\t t_error 2.6645352591003757e-15\t num_iterations 7\n",
      "test 48\t time 0.05127453804016113\t t_error 1.1102230246251565e-16\t num_iterations 5\n",
      "test 49\t time 0.042970895767211914\t t_error 2.220446049250313e-16\t num_iterations 5\n",
      "test 5\t time 0.05771279335021973\t t_error 4.440892098500626e-16\t num_iterations 5\n",
      "test 50\t time 0.05573081970214844\t t_error 2.220446049250313e-16\t num_iterations 5\n",
      "test 51\t time 0.0481870174407959\t t_error 8.881784197001252e-16\t num_iterations 5\n",
      "test 52\t time 0.05658149719238281\t t_error 0.0\t num_iterations 5\n",
      "test 53\t time 0.04157376289367676\t t_error 8.881784197001252e-16\t num_iterations 5\n",
      "test 54\t time 0.0394439697265625\t t_error 0.0\t num_iterations 5\n",
      "test 55\t time 0.05828070640563965\t t_error 1.4432899320127035e-15\t num_iterations 6\n",
      "test 56\t time 0.051989078521728516\t t_error 2.220446049250313e-16\t num_iterations 5\n",
      "test 57\t time 0.05745267868041992\t t_error 3.3306690738754696e-16\t num_iterations 5\n",
      "test 58\t time 0.05347442626953125\t t_error 2.220446049250313e-16\t num_iterations 5\n",
      "test 59\t time 0.06529545783996582\t t_error 3.3306690738754696e-16\t num_iterations 6\n",
      "test 6\t time 0.04480719566345215\t t_error 6.661338147750939e-16\t num_iterations 6\n",
      "test 60\t time 0.05669546127319336\t t_error 2.220446049250313e-15\t num_iterations 6\n",
      "test 61\t time 0.0360870361328125\t t_error 9.992007221626409e-16\t num_iterations 5\n",
      "test 62\t time 0.09904837608337402\t t_error 0.0\t num_iterations 5\n",
      "test 63\t time 0.039348602294921875\t t_error 4.440892098500626e-16\t num_iterations 5\n",
      "test 64\t time 0.055535316467285156\t t_error 0.0\t num_iterations 5\n",
      "test 65\t time 0.05485820770263672\t t_error 0.0\t num_iterations 5\n",
      "test 66\t time 0.04552459716796875\t t_error 2.220446049250313e-16\t num_iterations 5\n",
      "test 67\t time 0.11294722557067871\t t_error 5.551115123125783e-16\t num_iterations 5\n",
      "test 68\t time 0.05720949172973633\t t_error 1.1102230246251565e-16\t num_iterations 5\n",
      "test 69\t time 0.04372739791870117\t t_error 2.220446049250313e-16\t num_iterations 5\n",
      "test 7\t time 0.052584171295166016\t t_error 0.0\t num_iterations 5\n",
      "test 70\t time 0.07821011543273926\t t_error 0.0\t num_iterations 5\n",
      "test 71\t time 0.05318713188171387\t t_error 2.220446049250313e-16\t num_iterations 5\n",
      "test 72\t time 0.052419424057006836\t t_error 3.3306690738754696e-16\t num_iterations 5\n",
      "test 73\t time 0.0576329231262207\t t_error 5.551115123125783e-16\t num_iterations 6\n",
      "test 74\t time 0.06004929542541504\t t_error 0.0\t num_iterations 5\n",
      "test 75\t time 0.04256176948547363\t t_error 4.440892098500626e-16\t num_iterations 5\n",
      "test 76\t time 0.03701210021972656\t t_error 2.220446049250313e-16\t num_iterations 5\n",
      "test 77\t time 0.07690095901489258\t t_error 2.220446049250313e-16\t num_iterations 5\n",
      "test 78\t time 0.07542538642883301\t t_error 4.440892098500626e-16\t num_iterations 5\n",
      "test 79\t time 0.04018449783325195\t t_error 2.220446049250313e-16\t num_iterations 5\n",
      "test 8\t time 0.03831005096435547\t t_error 4.440892098500626e-16\t num_iterations 5\n",
      "test 80\t time 0.052976131439208984\t t_error 1.3322676295501878e-15\t num_iterations 5\n",
      "test 81\t time 0.04440760612487793\t t_error 2.220446049250313e-16\t num_iterations 6\n",
      "test 82\t time 0.06650304794311523\t t_error 0.0\t num_iterations 5\n",
      "test 83\t time 0.04067277908325195\t t_error 1.1102230246251565e-16\t num_iterations 5\n",
      "test 84\t time 0.07684707641601562\t t_error 7.771561172376096e-16\t num_iterations 5\n",
      "test 85\t time 0.03845047950744629\t t_error 4.440892098500626e-16\t num_iterations 5\n",
      "test 86\t time 0.03995561599731445\t t_error 1.1102230246251565e-16\t num_iterations 5\n",
      "test 87\t time 0.03957557678222656\t t_error 1.1102230246251565e-16\t num_iterations 5\n",
      "test 88\t time 0.058725595474243164\t t_error 2.220446049250313e-16\t num_iterations 5\n",
      "test 89\t time 0.04125618934631348\t t_error 2.220446049250313e-16\t num_iterations 5\n",
      "test 9\t time 0.05754590034484863\t t_error 2.220446049250313e-16\t num_iterations 5\n",
      "test 90\t time 0.08730101585388184\t t_error 4.440892098500626e-16\t num_iterations 5\n",
      "test 91\t time 0.042789459228515625\t t_error 6.661338147750939e-16\t num_iterations 5\n",
      "test 92\t time 0.09189963340759277\t t_error 2.220446049250313e-16\t num_iterations 5\n",
      "test 93\t time 0.08769869804382324\t t_error 1.1102230246251565e-15\t num_iterations 5\n",
      "test 94\t time 0.04667973518371582\t t_error 1.1102230246251565e-15\t num_iterations 5\n",
      "test 95\t time 0.04050946235656738\t t_error 2.220446049250313e-16\t num_iterations 5\n",
      "test 96\t time 0.05063796043395996\t t_error 1.1102230246251565e-16\t num_iterations 5\n",
      "test 97\t time 0.04026603698730469\t t_error 0.0\t num_iterations 5\n",
      "test 98\t time 0.0715329647064209\t t_error 5.551115123125783e-16\t num_iterations 5\n",
      "test 99\t time 0.05206489562988281\t t_error 7.771561172376096e-16\t num_iterations 5\n"
     ]
    },
    {
     "data": {
      "image/png": "[encoded data removed]",
      "text/plain": [
       "<Figure size 1000x700 with 1 Axes>"
      ]
     },
     "metadata": {},
     "output_type": "display_data"
    }
   ],
   "source": [
    "times_gd, errors_gd = get_gd_simplex_in_ball_results(20, silent=False)\n",
    "plot_test_results(times_gd, errors_gd, 'GD, 20d, simplex in ball', fit=False)"
   ]
  },
  {
   "cell_type": "code",
   "execution_count": 18,
   "id": "0318fae3-ebdf-4634-9d51-791fca59fd67",
   "metadata": {},
   "outputs": [
    {
     "name": "stdout",
     "output_type": "stream",
     "text": [
      "test 1\t time 0.17633366584777832\t t_error 3.552713678800501e-15\t num_iterations 5\n",
      "test 10\t time 0.2708547115325928\t t_error 1.6431300764452317e-14\t num_iterations 6\n",
      "test 100\t time 0.2887868881225586\t t_error 5.551115123125783e-16\t num_iterations 5\n",
      "test 11\t time 0.26340579986572266\t t_error 1.5543122344752192e-15\t num_iterations 5\n",
      "test 12\t time 0.23249530792236328\t t_error 1.7763568394002505e-15\t num_iterations 5\n",
      "test 13\t time 0.26613736152648926\t t_error 2.220446049250313e-15\t num_iterations 6\n",
      "test 14\t time 0.25321269035339355\t t_error 2.220446049250313e-16\t num_iterations 5\n",
      "test 15\t time 0.2527029514312744\t t_error 4.440892098500626e-16\t num_iterations 5\n",
      "test 16\t time 0.2853240966796875\t t_error 1.7763568394002505e-15\t num_iterations 5\n",
      "test 17\t time 0.22226285934448242\t t_error 3.1086244689504383e-15\t num_iterations 5\n",
      "test 18\t time 0.23378610610961914\t t_error 8.881784197001252e-16\t num_iterations 5\n",
      "test 19\t time 0.2289130687713623\t t_error 1.1102230246251565e-15\t num_iterations 5\n",
      "test 2\t time 0.22760725021362305\t t_error 6.661338147750939e-16\t num_iterations 5\n",
      "test 20\t time 0.2594335079193115\t t_error 8.881784197001252e-16\t num_iterations 5\n",
      "test 21\t time 0.23646974563598633\t t_error 8.881784197001252e-16\t num_iterations 5\n",
      "test 22\t time 0.25015902519226074\t t_error 2.4424906541753444e-15\t num_iterations 5\n",
      "test 23\t time 0.27358269691467285\t t_error 8.881784197001252e-16\t num_iterations 5\n",
      "test 24\t time 0.25650691986083984\t t_error 6.661338147750939e-16\t num_iterations 5\n",
      "test 25\t time 0.23540711402893066\t t_error 1.9984014443252818e-15\t num_iterations 5\n",
      "test 26\t time 0.2506072521209717\t t_error 3.3306690738754696e-16\t num_iterations 5\n",
      "test 27\t time 0.2555849552154541\t t_error 8.881784197001252e-16\t num_iterations 5\n",
      "test 28\t time 0.27553462982177734\t t_error 2.220446049250313e-16\t num_iterations 6\n",
      "test 29\t time 0.2215104103088379\t t_error 0.0\t num_iterations 5\n",
      "test 3\t time 0.23462486267089844\t t_error 1.3322676295501878e-15\t num_iterations 5\n",
      "test 30\t time 0.22589707374572754\t t_error 1.3322676295501878e-15\t num_iterations 5\n",
      "test 31\t time 0.27733635902404785\t t_error 0.0\t num_iterations 5\n",
      "test 32\t time 0.269561767578125\t t_error 5.551115123125783e-16\t num_iterations 5\n",
      "test 33\t time 0.26136064529418945\t t_error 7.771561172376096e-16\t num_iterations 5\n",
      "test 34\t time 0.17115163803100586\t t_error 1.7763568394002505e-15\t num_iterations 5\n",
      "test 35\t time 0.27164387702941895\t t_error 4.440892098500626e-16\t num_iterations 5\n",
      "test 36\t time 0.2640831470489502\t t_error 0.0\t num_iterations 5\n",
      "test 37\t time 0.23509502410888672\t t_error 1.5543122344752192e-15\t num_iterations 5\n",
      "test 38\t time 0.24170517921447754\t t_error 1.5543122344752192e-15\t num_iterations 5\n",
      "test 39\t time 0.23811888694763184\t t_error 3.1086244689504383e-15\t num_iterations 5\n",
      "test 4\t time 0.27950263023376465\t t_error 1.9984014443252818e-15\t num_iterations 5\n",
      "test 40\t time 0.25055599212646484\t t_error 2.220446049250313e-16\t num_iterations 5\n",
      "test 41\t time 0.26529884338378906\t t_error 6.661338147750939e-16\t num_iterations 5\n",
      "test 42\t time 0.32550930976867676\t t_error 1.7763568394002505e-15\t num_iterations 5\n",
      "test 43\t time 0.23514938354492188\t t_error 1.2212453270876722e-15\t num_iterations 5\n",
      "test 44\t time 0.26038670539855957\t t_error 2.220446049250313e-15\t num_iterations 5\n",
      "test 45\t time 0.29491090774536133\t t_error 6.661338147750939e-16\t num_iterations 5\n",
      "test 46\t time 0.2936692237854004\t t_error 1.1102230246251565e-15\t num_iterations 5\n",
      "test 47\t time 0.2799370288848877\t t_error 1.3766765505351941e-14\t num_iterations 6\n",
      "test 48\t time 0.24206042289733887\t t_error 3.552713678800501e-15\t num_iterations 5\n",
      "test 49\t time 0.2583005428314209\t t_error 1.3322676295501878e-15\t num_iterations 5\n",
      "test 5\t time 0.3303959369659424\t t_error 6.661338147750939e-16\t num_iterations 5\n",
      "test 50\t time 0.28260350227355957\t t_error 1.9984014443252818e-15\t num_iterations 5\n",
      "test 51\t time 0.26462769508361816\t t_error 4.440892098500626e-15\t num_iterations 5\n",
      "test 52\t time 0.2396409511566162\t t_error 3.9968028886505635e-15\t num_iterations 5\n",
      "test 53\t time 0.2827115058898926\t t_error 6.661338147750939e-16\t num_iterations 6\n",
      "test 54\t time 0.24136781692504883\t t_error 5.551115123125783e-16\t num_iterations 5\n",
      "test 55\t time 0.24506855010986328\t t_error 3.1086244689504383e-15\t num_iterations 5\n",
      "test 56\t time 0.18149209022521973\t t_error 6.661338147750939e-16\t num_iterations 5\n",
      "test 57\t time 0.29946303367614746\t t_error 8.881784197001252e-16\t num_iterations 5\n",
      "test 58\t time 0.22877216339111328\t t_error 2.886579864025407e-15\t num_iterations 5\n",
      "test 59\t time 0.25936150550842285\t t_error 4.440892098500626e-16\t num_iterations 5\n",
      "test 6\t time 0.2575671672821045\t t_error 4.440892098500626e-16\t num_iterations 5\n",
      "test 60\t time 0.3918328285217285\t t_error 0.0\t num_iterations 5\n",
      "test 61\t time 0.273085355758667\t t_error 2.9976021664879227e-15\t num_iterations 5\n",
      "test 62\t time 0.2686803340911865\t t_error 1.1102230246251565e-15\t num_iterations 5\n",
      "test 63\t time 0.2519667148590088\t t_error 1.9984014443252818e-15\t num_iterations 5\n",
      "test 64\t time 0.1745433807373047\t t_error 0.0\t num_iterations 5\n",
      "test 65\t time 0.24850821495056152\t t_error 1.3322676295501878e-15\t num_iterations 5\n",
      "test 66\t time 0.2749369144439697\t t_error 6.661338147750939e-16\t num_iterations 5\n",
      "test 67\t time 0.281172513961792\t t_error 2.6645352591003757e-15\t num_iterations 5\n",
      "test 68\t time 0.2849996089935303\t t_error 3.1086244689504383e-15\t num_iterations 5\n",
      "test 69\t time 0.24535655975341797\t t_error 2.4424906541753444e-15\t num_iterations 5\n",
      "test 7\t time 0.28460097312927246\t t_error 1.6653345369377348e-15\t num_iterations 6\n",
      "test 70\t time 0.3108940124511719\t t_error 1.1102230246251565e-15\t num_iterations 5\n",
      "test 71\t time 0.23407745361328125\t t_error 1.5543122344752192e-15\t num_iterations 5\n",
      "test 72\t time 0.24150562286376953\t t_error 1.5543122344752192e-15\t num_iterations 5\n",
      "test 73\t time 0.2457575798034668\t t_error 9.992007221626409e-16\t num_iterations 5\n",
      "test 74\t time 0.27449727058410645\t t_error 0.0\t num_iterations 5\n",
      "test 75\t time 0.2482602596282959\t t_error 7.771561172376096e-16\t num_iterations 5\n",
      "test 76\t time 0.2616443634033203\t t_error 2.220446049250313e-16\t num_iterations 5\n",
      "test 77\t time 0.2684025764465332\t t_error 5.551115123125783e-16\t num_iterations 5\n",
      "test 78\t time 0.27383852005004883\t t_error 2.220446049250313e-16\t num_iterations 5\n",
      "test 79\t time 0.2709925174713135\t t_error 2.220446049250313e-16\t num_iterations 5\n",
      "test 8\t time 0.2408583164215088\t t_error 1.4432899320127035e-15\t num_iterations 5\n",
      "test 80\t time 0.2705051898956299\t t_error 1.1102230246251565e-15\t num_iterations 5\n",
      "test 81\t time 0.2677903175354004\t t_error 1.3322676295501878e-15\t num_iterations 5\n",
      "test 82\t time 0.2951948642730713\t t_error 1.1102230246251565e-15\t num_iterations 5\n",
      "test 83\t time 0.16246676445007324\t t_error 3.3306690738754696e-16\t num_iterations 5\n",
      "test 84\t time 0.24246740341186523\t t_error 2.220446049250313e-16\t num_iterations 5\n",
      "test 85\t time 0.3010399341583252\t t_error 8.881784197001252e-16\t num_iterations 5\n",
      "test 86\t time 0.2661604881286621\t t_error 1.3322676295501878e-15\t num_iterations 5\n",
      "test 87\t time 0.2724018096923828\t t_error 0.0\t num_iterations 5\n",
      "test 88\t time 0.274202823638916\t t_error 4.440892098500626e-16\t num_iterations 5\n",
      "test 89\t time 0.1710052490234375\t t_error 2.220446049250313e-16\t num_iterations 5\n",
      "test 9\t time 0.30202507972717285\t t_error 2.220446049250313e-16\t num_iterations 5\n",
      "test 90\t time 0.29781079292297363\t t_error 5.551115123125783e-16\t num_iterations 5\n",
      "test 91\t time 0.28828930854797363\t t_error 4.773959005888173e-15\t num_iterations 6\n",
      "test 92\t time 0.2406482696533203\t t_error 1.3322676295501878e-15\t num_iterations 5\n",
      "test 93\t time 0.24338865280151367\t t_error 1.1102230246251565e-15\t num_iterations 5\n",
      "test 94\t time 0.321397066116333\t t_error 4.440892098500626e-16\t num_iterations 6\n",
      "test 95\t time 0.2419900894165039\t t_error 4.440892098500626e-16\t num_iterations 5\n",
      "test 96\t time 0.266035795211792\t t_error 2.220446049250313e-16\t num_iterations 5\n",
      "test 97\t time 0.27615857124328613\t t_error 6.661338147750939e-16\t num_iterations 5\n",
      "test 98\t time 0.2416539192199707\t t_error 6.661338147750939e-16\t num_iterations 5\n",
      "test 99\t time 0.1730945110321045\t t_error 2.886579864025407e-15\t num_iterations 5\n"
     ]
    },
    {
     "data": {
      "image/png": "[encoded data removed]",
      "text/plain": [
       "<Figure size 1000x700 with 1 Axes>"
      ]
     },
     "metadata": {},
     "output_type": "display_data"
    }
   ],
   "source": [
    "times_gd, errors_gd = get_gd_simplex_in_ball_results(50, silent=False)\n",
    "plot_test_results(times_gd, errors_gd, 'GD, 50d, simplex in ball', fit=False)"
   ]
  },
  {
   "cell_type": "code",
   "execution_count": null,
   "id": "7944f58c-2685-4242-8e39-07087455e157",
   "metadata": {},
   "outputs": [
    {
     "name": "stdout",
     "output_type": "stream",
     "text": [
      "test 1\t time 1.3934547901153564\t t_error 7.549516567451064e-15\t num_iterations 5\n",
      "test 10\t time 0.9247982501983643\t t_error 4.440892098500626e-16\t num_iterations 5\n",
      "test 100\t time 1.362236499786377\t t_error 1.9984014443252818e-15\t num_iterations 6\n",
      "test 11\t time 0.972179651260376\t t_error 1.1102230246251565e-16\t num_iterations 5\n",
      "test 12\t time 0.9948117733001709\t t_error 7.771561172376096e-15\t num_iterations 5\n",
      "test 13\t time 1.7295608520507812\t t_error 1.5543122344752192e-15\t num_iterations 5\n"
     ]
    }
   ],
   "source": [
    "times_gd, errors_gd = get_gd_simplex_in_ball_results(100, silent=False)\n",
    "plot_test_results(times_gd, errors_gd, 'GD, 100d, simplex in ball', fit=False)"
   ]
  },
  {
   "cell_type": "code",
   "execution_count": 14,
   "id": "052c2257-3f40-4693-8e41-830207a4a3a4",
   "metadata": {},
   "outputs": [],
   "source": [
    "%load_ext line_profiler"
   ]
  },
  {
   "cell_type": "code",
   "execution_count": 16,
   "id": "18774076-3794-4921-8be6-de47fecc7089",
   "metadata": {},
   "outputs": [
    {
     "name": "stdout",
     "output_type": "stream",
     "text": [
      " "
     ]
    },
    {
     "data": {
      "text/plain": [
       "         636644 function calls (633718 primitive calls) in 0.770 seconds\n",
       "\n",
       "   Ordered by: internal time\n",
       "\n",
       "   ncalls  tottime  percall  cumtime  percall filename:lineno(function)\n",
       "      415    0.124    0.000    0.626    0.002 GradientDescentSolver.py:68(relax_points)\n",
       "    37699    0.093    0.000    0.093    0.000 {method 'reduce' of 'numpy.ufunc' objects}\n",
       "     7221    0.068    0.000    0.156    0.000 utils.py:278(<lambda>)\n",
       "72385/69467    0.062    0.000    0.403    0.000 {built-in method numpy.core._multiarray_umath.implement_array_function}\n",
       "    14432    0.059    0.000    0.111    0.000 linalg.py:2342(norm)\n",
       "     7211    0.037    0.000    0.069    0.000 shape_base.py:1191(tile)\n",
       "      406    0.029    0.000    0.042    0.000 _multivariate.py:3495(rvs)\n",
       "     7221    0.027    0.000    0.126    0.000 utils.py:280(<lambda>)\n",
       "      415    0.026    0.000    0.069    0.000 GradientDescentSolver.py:80(omit_duplicates_in_points)\n",
       "    22797    0.024    0.000    0.086    0.000 fromnumeric.py:69(_wrapreduction)\n",
       "     7221    0.016    0.000    0.016    0.000 {method 'argmax' of 'numpy.ndarray' objects}\n",
       "    14486    0.016    0.000    0.016    0.000 {built-in method numpy.array}\n",
       "    15564    0.012    0.000    0.066    0.000 fromnumeric.py:2432(all)\n",
       "    14432    0.009    0.000    0.009    0.000 {method 'reshape' of 'numpy.ndarray' objects}\n",
       "    15564    0.009    0.000    0.085    0.000 <__array_function__ internals>:177(all)\n",
       "    14432    0.009    0.000    0.131    0.000 <__array_function__ internals>:177(norm)\n",
       "     7221    0.008    0.000    0.030    0.000 fromnumeric.py:1153(argmax)\n",
       "     7211    0.008    0.000    0.008    0.000 {method 'repeat' of 'numpy.ndarray' objects}\n",
       "     8445    0.008    0.000    0.036    0.000 numeric.py:150(ones)\n",
       "    22797    0.008    0.000    0.008    0.000 fromnumeric.py:70(<dictcomp>)\n",
       "      406    0.007    0.000    0.019    0.000 GradientDescentSolver.py:49(regular_simplex)\n",
       "     7221    0.006    0.000    0.038    0.000 fromnumeric.py:2703(amax)\n",
       "     8864    0.005    0.000    0.024    0.000 <__array_function__ internals>:177(copyto)\n",
       "     9268    0.005    0.000    0.005    0.000 {built-in method numpy.empty}\n",
       "     7221    0.005    0.000    0.048    0.000 <__array_function__ internals>:177(amax)\n",
       "    38008    0.005    0.000    0.005    0.000 {built-in method builtins.len}\n",
       "     7221    0.004    0.000    0.040    0.000 <__array_function__ internals>:177(argmax)\n",
       "      415    0.004    0.000    0.007    0.000 function_base.py:5054(delete)\n",
       "     7211    0.004    0.000    0.022    0.000 <__array_function__ internals>:177(copy)\n",
       "     7225    0.004    0.000    0.022    0.000 fromnumeric.py:51(_wrapfunc)\n",
       "    21633    0.004    0.000    0.004    0.000 shape_base.py:1273(<genexpr>)\n",
       "     7211    0.004    0.000    0.078    0.000 <__array_function__ internals>:177(tile)\n",
       "        9    0.004    0.000    0.764    0.085 GradientDescentSolver.py:89(find_minimums)\n",
       "    14432    0.003    0.000    0.003    0.000 {method 'conj' of 'numpy.ndarray' objects}\n",
       "    14422    0.003    0.000    0.003    0.000 shape_base.py:1263(<genexpr>)\n",
       "      812    0.003    0.000    0.004    0.000 twodim_base.py:162(eye)\n",
       "    15364    0.003    0.000    0.003    0.000 {built-in method numpy.asarray}\n",
       "      812    0.003    0.000    0.003    0.000 {method 'normal' of 'numpy.random.mtrand.RandomState' objects}\n",
       "    17004    0.003    0.000    0.003    0.000 {built-in method builtins.isinstance}\n",
       "    22801    0.002    0.000    0.002    0.000 {method 'items' of 'dict' objects}\n",
       "     7211    0.002    0.000    0.014    0.000 function_base.py:871(copy)\n",
       "    14450    0.002    0.000    0.002    0.000 {built-in method builtins.issubclass}\n",
       "    15564    0.002    0.000    0.002    0.000 fromnumeric.py:2427(_all_dispatcher)\n",
       "     7211    0.002    0.000    0.004    0.000 {built-in method builtins.all}\n",
       "      828    0.002    0.000    0.002    0.000 shape_base.py:81(atleast_2d)\n",
       "    14432    0.002    0.000    0.002    0.000 linalg.py:2338(_norm_dispatcher)\n",
       "     7255    0.002    0.000    0.002    0.000 {built-in method builtins.getattr}\n",
       "        4    0.001    0.000    0.001    0.000 {scipy.optimize._highs.cython.src._highs_wrapper._highs_wrapper}\n",
       "      820    0.001    0.000    0.008    0.000 shape_base.py:223(vstack)\n",
       "     8864    0.001    0.000    0.001    0.000 multiarray.py:1079(copyto)\n",
       "     7221    0.001    0.000    0.001    0.000 fromnumeric.py:2698(_amax_dispatcher)\n",
       "     7221    0.001    0.000    0.001    0.000 fromnumeric.py:1149(_argmax_dispatcher)\n",
       "     7211    0.001    0.000    0.001    0.000 function_base.py:867(_copy_dispatcher)\n",
       "     7211    0.001    0.000    0.001    0.000 shape_base.py:1187(_tile_dispatcher)\n",
       "      406    0.001    0.000    0.003    0.000 numeric.py:2150(identity)\n",
       "      842    0.001    0.000    0.004    0.000 <__array_function__ internals>:177(concatenate)\n",
       "      419    0.001    0.000    0.003    0.000 numeric.py:219(ones_like)\n",
       "      812    0.001    0.000    0.005    0.000 <__array_function__ internals>:177(where)\n",
       "      824    0.001    0.000    0.001    0.000 {built-in method numpy.zeros}\n",
       "      820    0.001    0.000    0.010    0.000 <__array_function__ internals>:177(vstack)\n",
       "      820    0.000    0.000    0.000    0.000 {method 'squeeze' of 'numpy.ndarray' objects}\n",
       "      406    0.000    0.000    0.002    0.000 {method 'prod' of 'numpy.ndarray' objects}\n",
       "     3944    0.000    0.000    0.000    0.000 {method 'append' of 'list' objects}\n",
       "      816    0.000    0.000    0.000    0.000 {method 'copy' of 'numpy.ndarray' objects}\n",
       "      828    0.000    0.000    0.003    0.000 <__array_function__ internals>:177(atleast_2d)\n",
       "     1240    0.000    0.000    0.000    0.000 {built-in method builtins.hasattr}\n",
       "      834    0.000    0.000    0.001    0.000 shape_base.py:218(_vhstack_dispatcher)\n",
       "      427    0.000    0.000    0.001    0.000 <__array_function__ internals>:177(empty_like)\n",
       "      406    0.000    0.000    0.001    0.000 <frozen importlib._bootstrap>:1017(_handle_fromlist)\n",
       "      406    0.000    0.000    0.001    0.000 _multivariate.py:3487(_process_parameters)\n",
       "      415    0.000    0.000    0.008    0.000 <__array_function__ internals>:177(delete)\n",
       "      419    0.000    0.000    0.004    0.000 <__array_function__ internals>:177(ones_like)\n",
       "      834    0.000    0.000    0.001    0.000 shape_base.py:207(_arrays_for_stack_dispatcher)\n",
       "      406    0.000    0.000    0.000    0.000 numeric.py:1878(isscalar)\n",
       "        6    0.000    0.000    0.000    0.000 linalg.py:469(inv)\n",
       "        4    0.000    0.000    0.003    0.001 _linprog_highs.py:112(_linprog_highs)\n",
       "     1676    0.000    0.000    0.000    0.000 {built-in method numpy.asanyarray}\n",
       "     1656    0.000    0.000    0.000    0.000 {built-in method _operator.index}\n",
       "      406    0.000    0.000    0.001    0.000 _methods.py:51(_prod)\n",
       "       24    0.000    0.000    0.000    0.000 _sputils.py:147(get_index_dtype)\n",
       "      812    0.000    0.000    0.000    0.000 multiarray.py:345(where)\n",
       "        4    0.000    0.000    0.000    0.000 _linprog_util.py:213(_clean_inputs)\n",
       "      842    0.000    0.000    0.000    0.000 multiarray.py:152(concatenate)\n",
       "       12    0.000    0.000    0.000    0.000 _compressed.py:136(check_format)\n",
       "      415    0.000    0.000    0.000    0.000 {built-in method numpy.core._multiarray_umath.normalize_axis_index}\n",
       "      406    0.000    0.000    0.000    0.000 _multivariate.py:230(_get_random_state)\n",
       "      828    0.000    0.000    0.000    0.000 shape_base.py:77(_atleast_2d_dispatcher)\n",
       "        4    0.000    0.000    0.000    0.000 {method 'argpartition' of 'numpy.ndarray' objects}\n",
       "        1    0.000    0.000    0.770    0.770 GradientDescentSolver.py:127(solve)\n",
       "     12/4    0.000    0.000    0.001    0.000 _compressed.py:26(__init__)\n",
       "        4    0.000    0.000    0.000    0.000 _linprog_util.py:1419(_check_result)\n",
       "      419    0.000    0.000    0.000    0.000 numeric.py:215(_ones_like_dispatcher)\n",
       "        9    0.000    0.000    0.769    0.085 GradientDescentSolver.py:115(update_grid_t_x)\n",
       "       16    0.000    0.000    0.000    0.000 _sputils.py:295(check_shape)\n",
       "      415    0.000    0.000    0.000    0.000 function_base.py:5050(_delete_dispatcher)\n",
       "        4    0.000    0.000    0.000    0.000 _coo.py:266(_check)\n",
       "       48    0.000    0.000    0.000    0.000 getlimits.py:668(__init__)\n",
       "        4    0.000    0.000    0.004    0.001 _linprog.py:168(linprog)\n",
       "       16    0.000    0.000    0.000    0.000 _linprog_highs.py:88(_replace_inf)\n",
       "        6    0.000    0.000    0.000    0.000 GradientDescentSolver.py:44(get_t_and_x)\n",
       "        4    0.000    0.000    0.004    0.001 utils.py:12(solve_primal)\n",
       "      427    0.000    0.000    0.000    0.000 multiarray.py:84(empty_like)\n",
       "       12    0.000    0.000    0.000    0.000 _compressed.py:1168(prune)\n",
       "        4    0.000    0.000    0.000    0.000 _coo.py:127(__init__)\n",
       "        4    0.000    0.000    0.000    0.000 GradientDescentSolver.py:39(get_based_gridpoints_indices)\n",
       "        4    0.000    0.000    0.000    0.000 _coo.py:331(tocsc)\n",
       "        1    0.000    0.000    0.770    0.770 {built-in method builtins.exec}\n",
       "       14    0.000    0.000    0.000    0.000 shape_base.py:299(hstack)\n",
       "       14    0.000    0.000    0.000    0.000 shape_base.py:23(atleast_1d)\n",
       "       22    0.000    0.000    0.000    0.000 {method 'astype' of 'numpy.ndarray' objects}\n",
       "       64    0.000    0.000    0.000    0.000 _base.py:291(nnz)\n",
       "       40    0.000    0.000    0.000    0.000 <__array_function__ internals>:177(can_cast)\n",
       "        4    0.000    0.000    0.000    0.000 _base.py:73(_coo_container)\n",
       "       16    0.000    0.000    0.000    0.000 _base.py:105(__init__)\n",
       "        4    0.000    0.000    0.000    0.000 _linprog_util.py:919(_parse_linprog)\n",
       "       16    0.000    0.000    0.000    0.000 _coo.py:240(getnnz)\n",
       "        4    0.000    0.000    0.000    0.000 {built-in method scipy.sparse._sparsetools.coo_tocsr}\n",
       "        4    0.000    0.000    0.000    0.000 _linprog_util.py:91(_check_sparse_inputs)\n",
       "        6    0.000    0.000    0.000    0.000 linalg.py:136(_commonType)\n",
       "       48    0.000    0.000    0.000    0.000 _compressed.py:108(getnnz)\n",
       "       24    0.000    0.000    0.000    0.000 getlimits.py:679(min)\n",
       "       12    0.000    0.000    0.000    0.000 fromnumeric.py:2333(any)\n",
       "       56    0.000    0.000    0.000    0.000 _base.py:1301(isspmatrix)\n",
       "       48    0.000    0.000    0.000    0.000 _sputils.py:308(<genexpr>)\n",
       "       28    0.000    0.000    0.000    0.000 {method 'any' of 'numpy.ndarray' objects}\n",
       "        4    0.000    0.000    0.000    0.000 _linprog_highs.py:59(_highs_to_scipy_status_message)\n",
       "        4    0.000    0.000    0.000    0.000 _base.py:78(_csc_container)\n",
       "       12    0.000    0.000    0.000    0.000 <__array_function__ internals>:177(any)\n",
       "       14    0.000    0.000    0.000    0.000 <__array_function__ internals>:177(hstack)\n",
       "        4    0.000    0.000    0.000    0.000 _sputils.py:238(isshape)\n",
       "       20    0.000    0.000    0.000    0.000 {method 'all' of 'numpy.ndarray' objects}\n",
       "        8    0.000    0.000    0.000    0.000 <string>:1(__new__)\n",
       "       14    0.000    0.000    0.000    0.000 <__array_function__ internals>:177(atleast_1d)\n",
       "        4    0.000    0.000    0.000    0.000 {method 'nonzero' of 'numpy.ndarray' objects}\n",
       "       16    0.000    0.000    0.000    0.000 {built-in method builtins.any}\n",
       "       16    0.000    0.000    0.000    0.000 _data.py:20(__init__)\n",
       "        8    0.000    0.000    0.000    0.000 <frozen importlib._bootstrap>:389(parent)\n",
       "       24    0.000    0.000    0.000    0.000 getlimits.py:692(max)\n",
       "       28    0.000    0.000    0.000    0.000 _methods.py:55(_any)\n",
       "        8    0.000    0.000    0.000    0.000 _compressed.py:125(_set_self)\n",
       "       54    0.000    0.000    0.000    0.000 {method 'get' of 'dict' objects}\n",
       "       24    0.000    0.000    0.000    0.000 _util.py:143(_prune_array)\n",
       "        4    0.000    0.000    0.000    0.000 __init__.py:410(_replace)\n",
       "        4    0.000    0.000    0.000    0.000 {method 'flatten' of 'numpy.ndarray' objects}\n",
       "       12    0.000    0.000    0.000    0.000 {built-in method __new__ of type object at 0x909780}\n",
       "       60    0.000    0.000    0.000    0.000 _base.py:119(get_shape)\n",
       "        4    0.000    0.000    0.000    0.000 _base.py:348(asformat)\n",
       "       20    0.000    0.000    0.000    0.000 _methods.py:61(_all)\n",
       "       36    0.000    0.000    0.000    0.000 _csc.py:230(_swap)\n",
       "       16    0.000    0.000    0.000    0.000 _sputils.py:93(to_native)\n",
       "        6    0.000    0.000    0.000    0.000 linalg.py:112(_makearray)\n",
       "        8    0.000    0.000    0.000    0.000 {method 'max' of 'numpy.ndarray' objects}\n",
       "        6    0.000    0.000    0.000    0.000 <__array_function__ internals>:177(inv)\n",
       "        4    0.000    0.000    0.000    0.000 _linprog_highs.py:95(_convert_to_highs_enum)\n",
       "        8    0.000    0.000    0.000    0.000 numeric.py:2407(array_equal)\n",
       "        8    0.000    0.000    0.000    0.000 _linprog_util.py:191(_format_b_constraints)\n",
       "        6    0.000    0.000    0.000    0.000 linalg.py:186(_assert_stacked_square)\n",
       "        8    0.000    0.000    0.000    0.000 _linprog_util.py:160(_format_A_constraints)\n",
       "       12    0.000    0.000    0.000    0.000 {built-in method builtins.max}\n",
       "       48    0.000    0.000    0.000    0.000 _sputils.py:313(<genexpr>)\n",
       "        8    0.000    0.000    0.000    0.000 {method 'min' of 'numpy.ndarray' objects}\n",
       "        8    0.000    0.000    0.000    0.000 <__array_function__ internals>:177(array_equal)\n",
       "        6    0.000    0.000    0.000    0.000 linalg.py:130(_realType)\n",
       "        4    0.000    0.000    0.000    0.000 _sputils.py:22(upcast)\n",
       "        6    0.000    0.000    0.000    0.000 linalg.py:107(get_linalg_error_extobj)\n",
       "        4    0.000    0.000    0.000    0.000 fromnumeric.py:792(argpartition)\n",
       "        1    0.000    0.000    0.770    0.770 <string>:1(<module>)\n",
       "       12    0.000    0.000    0.000    0.000 linalg.py:117(isComplexType)\n",
       "       40    0.000    0.000    0.000    0.000 multiarray.py:502(can_cast)\n",
       "        4    0.000    0.000    0.000    0.000 <__array_function__ internals>:177(argpartition)\n",
       "        8    0.000    0.000    0.000    0.000 _optimize.py:172(__getattr__)\n",
       "        8    0.000    0.000    0.000    0.000 {method 'rpartition' of 'str' objects}\n",
       "        6    0.000    0.000    0.000    0.000 linalg.py:180(_assert_stacked_2d)\n",
       "        8    0.000    0.000    0.000    0.000 _methods.py:39(_amax)\n",
       "        4    0.000    0.000    0.000    0.000 __init__.py:400(_make)\n",
       "        4    0.000    0.000    0.000    0.000 {method 'lower' of 'str' objects}\n",
       "       12    0.000    0.000    0.000    0.000 fromnumeric.py:2328(_any_dispatcher)\n",
       "        6    0.000    0.000    0.000    0.000 {method '__array_prepare__' of 'numpy.ndarray' objects}\n",
       "        8    0.000    0.000    0.000    0.000 _methods.py:43(_amin)\n",
       "       14    0.000    0.000    0.000    0.000 shape_base.py:19(_atleast_1d_dispatcher)\n",
       "        4    0.000    0.000    0.000    0.000 {method 'startswith' of 'str' objects}\n",
       "        4    0.000    0.000    0.000    0.000 {built-in method builtins.hash}\n",
       "        4    0.000    0.000    0.000    0.000 {method 'update' of 'dict' objects}\n",
       "        3    0.000    0.000    0.000    0.000 {method 'item' of 'numpy.ndarray' objects}\n",
       "        8    0.000    0.000    0.000    0.000 numeric.py:2403(_array_equal_dispatcher)\n",
       "        6    0.000    0.000    0.000    0.000 linalg.py:465(_unary_dispatcher)\n",
       "        4    0.000    0.000    0.000    0.000 _data.py:23(_get_dtype)\n",
       "        4    0.000    0.000    0.000    0.000 _optimize.py:216(_check_unknown_options)\n",
       "        4    0.000    0.000    0.000    0.000 _linprog_util.py:1022(<dictcomp>)\n",
       "        4    0.000    0.000    0.000    0.000 fromnumeric.py:788(_argpartition_dispatcher)\n",
       "        1    0.000    0.000    0.000    0.000 {method 'disable' of '_lsprof.Profiler' objects}\n",
       "        4    0.000    0.000    0.000    0.000 {method 'pop' of 'dict' objects}"
      ]
     },
     "metadata": {},
     "output_type": "display_data"
    }
   ],
   "source": [
    "file = random.choice(os.listdir('./tests/10d/simplex-in-ball/')) \n",
    "support_a, support_b, delta = read_tests_simplex_in_ball(f'./tests/10d/simplex-in-ball/{file}', 10) \n",
    "GradientDescentSolver(10, support_a, support_b, max_num_iterations=100, \n",
    "                                                max_finding_distinct_minimums_attempts=10, learning_rate=1)\n",
    "%prun solver_instance.solve()"
   ]
  },
  {
   "cell_type": "code",
   "execution_count": null,
   "id": "d73d508d-e17d-463a-aeed-55d6d4e9513c",
   "metadata": {},
   "outputs": [],
   "source": [
    "def get_baseline_test_results(dimension: int, number_tests: int, lowest_grid_density: float=100, highest_grid_density: float=10000,\n",
    "                             silent=True) -> tp.Tuple[np.ndarray, np.ndarray]:\n",
    "    times = []\n",
    "    t_errors = []\n",
    "    for _ in range(number_tests):\n",
    "        time, t_error = run_random_test(BaselineSolver, dimension, \n",
    "                                        {'grid_density': np.exp(np.random.uniform(np.log(lowest_grid_density), np.log(highest_grid_density)))}, \n",
    "                                        read_tests_simplex_in_ball, f'./tests/{dimension}d/simplex-in-ball/', silent=silent)\n",
    "        times.append(time)\n",
    "        t_errors.append(t_error)\n",
    "    \n",
    "    return np.array(times), np.array(t_errors)"
   ]
  },
  {
   "cell_type": "code",
   "execution_count": null,
   "id": "9c284819-3677-4d0a-b451-b39896399348",
   "metadata": {},
   "outputs": [],
   "source": [
    "def get_iterative_test_results(dimension: int, number_tests: int, lowest_cap_grid_diameter: int=3, \n",
    "                               highest_cap_grid_diameter: int=10,\n",
    "                              silent=True) -> tp.Tuple[np.ndarray, np.ndarray]:\n",
    "    times = []\n",
    "    t_errors = []\n",
    "    for _ in range(number_tests):\n",
    "        cap_grid_diameter = int(np.round(np.exp(np.random.uniform(np.log(lowest_cap_grid_diameter), np.log(highest_cap_grid_diameter)))))\n",
    "        time, t_error = run_random_test(IterativeSolver, dimension, \n",
    "                                        {'cap_grid_diameter': cap_grid_diameter}, \n",
    "                                        read_tests_simplex_in_ball, f'./tests/{dimension}d/simplex-in-ball/', silent=silent)\n",
    "        times.append(time)\n",
    "        t_errors.append(t_error)\n",
    "    \n",
    "    return np.array(times), np.array(t_errors)"
   ]
  },
  {
   "cell_type": "code",
   "execution_count": null,
   "id": "0d3e3ad2-1763-4558-be2c-68138ac0de19",
   "metadata": {},
   "outputs": [],
   "source": [
    "def get_greedy_simplex_in_ball_results(dimension: int, lowest_max_iteration: int=80, highest_max_iteration: int=80, \n",
    "                            silent=True) -> tp.Tuple[np.ndarray, np.ndarray]:\n",
    "    times = []\n",
    "    t_errors = []\n",
    "    deltas = []\n",
    "    for file in sorted(os.listdir(f'./tests/{dimension}d/simplex-in-ball/')):\n",
    "        support_a, support_b, delta = read_tests_simplex_in_ball(f'./tests/{dimension}d/simplex-in-ball/{file}', dimension)\n",
    "        solver_instance = GreedySolver(dimension, support_a, support_b, \n",
    "                                 num_iterations=int(np.exp(np.random.uniform(np.log(lowest_max_iteration), np.log(highest_max_iteration)))))\n",
    "        start_time = time.time()\n",
    "        solver_instance.solve()\n",
    "        end_time = time.time()\n",
    "        times.append(end_time - start_time)\n",
    "        t_errors.append(abs(1. - solver_instance.t))\n",
    "        deltas.append(delta)\n",
    "        if not silent:\n",
    "            print(f'test \\t{file}\\t time \\t{end_time - start_time}\\t t_error \\t{abs(1. - solver_instance.t)}')\n",
    "\n",
    "    return np.array(times), np.array(t_errors), np.array(deltas)"
   ]
  },
  {
   "cell_type": "code",
   "execution_count": null,
   "id": "556f6be3-ee12-4753-86dd-fec59143bc0c",
   "metadata": {},
   "outputs": [],
   "source": [
    "def get_greedy_simplex_plus_ball_in_ball_results(dimension: int, lowest_max_iteration: int=100, highest_max_iteration: int=100, \n",
    "                            silent=True) -> tp.Tuple[np.ndarray, np.ndarray]:\n",
    "    times = []\n",
    "    t_errors = []\n",
    "    deltas = []\n",
    "    for file in sorted(os.listdir(f'./tests/{dimension}d/simplex-in-ball/')):\n",
    "        support_a, support_b, delta = read_tests_simplex_plus_ball_in_ball(f'./tests/{dimension}d/simplex-plus-ball-in-ball/{file}', dimension)\n",
    "        solver_instance = GreedySolver(dimension, support_a, support_b, \n",
    "                                 num_iterations=int(np.exp(np.random.uniform(np.log(lowest_max_iteration), np.log(highest_max_iteration)))))\n",
    "        start_time = time.time()\n",
    "        solver_instance.solve()\n",
    "        end_time = time.time()\n",
    "        times.append(end_time - start_time)\n",
    "        t_errors.append(abs(1. - solver_instance.t))\n",
    "        deltas.append(delta)\n",
    "        if not silent:\n",
    "            print(f'test \\t{file}\\t time \\t{end_time - start_time}\\t t_error \\t{abs(1. - solver_instance.t)}')\n",
    "\n",
    "    return np.array(times), np.array(t_errors), np.array(deltas)"
   ]
  },
  {
   "cell_type": "code",
   "execution_count": null,
   "id": "17820ad2-22cd-48a3-8066-23e9abbca21c",
   "metadata": {},
   "outputs": [],
   "source": [
    "def get_greedy_degenerate_simplex_in_ball_results(dimension: int, lowest_max_iteration: int=100, highest_max_iteration: int=100, \n",
    "                            silent=True) -> tp.Tuple[np.ndarray, np.ndarray]:\n",
    "    times = []\n",
    "    t_errors = []\n",
    "    for file in sorted(os.listdir(f'./tests/{dimension}d/simplex-in-ball/')):\n",
    "        support_a, support_b = read_tests_degenerate_simplex_in_ball(f'./tests/{dimension}d/degenerate-simplex-in-ball/{file}', dimension)\n",
    "        solver_instance = GreedySolver(dimension, support_a, support_b, \n",
    "                                 num_iterations=int(np.exp(np.random.uniform(np.log(lowest_max_iteration), np.log(highest_max_iteration)))))\n",
    "        start_time = time.time()\n",
    "        solver_instance.solve()\n",
    "        end_time = time.time()\n",
    "        times.append(end_time - start_time)\n",
    "        t_errors.append(abs(1. - solver_instance.t))\n",
    "        if not silent:\n",
    "            print(f'test \\t{file}\\t time \\t{end_time - start_time}\\t t_error \\t{abs(1. - solver_instance.t)}')\n",
    "\n",
    "    return np.array(times), np.array(t_errors)"
   ]
  },
  {
   "cell_type": "code",
   "execution_count": null,
   "id": "896cb504-f8fe-4db5-8f1f-d6ef83a5c0c8",
   "metadata": {},
   "outputs": [],
   "source": [
    "def get_greedy_polyhedron_in_ball_results(dimension: int, lowest_max_iteration: int=100, highest_max_iteration: int=100, \n",
    "                            silent=True) -> tp.Tuple[np.ndarray, np.ndarray]:\n",
    "    times = []\n",
    "    t_errors = []\n",
    "    d = []\n",
    "    for file in sorted(os.listdir(f'./tests/{dimension}d/polyhedron-in-ball/')):\n",
    "        support_a, support_b, current_d = read_tests_polyhedron_in_ball(f'./tests/{dimension}d/polyhedron-in-ball/{file}', dimension)\n",
    "        solver_instance = GreedySolver(dimension, support_a, support_b, \n",
    "                                 num_iterations=int(np.exp(np.random.uniform(np.log(lowest_max_iteration), np.log(highest_max_iteration)))))\n",
    "        start_time = time.time()\n",
    "        solver_instance.solve()\n",
    "        end_time = time.time()\n",
    "        times.append(end_time - start_time)\n",
    "        t_errors.append(abs(1. - solver_instance.t))\n",
    "        d.append(current_d)\n",
    "        if not silent:\n",
    "            print(f'test \\t{file}\\t time \\t{end_time - start_time}\\t t_error \\t{abs(1. - solver_instance.t)}')\n",
    "\n",
    "    return np.array(times), np.array(t_errors), np.array(d)"
   ]
  },
  {
   "cell_type": "markdown",
   "id": "96154660-312e-4a6c-9bb7-2ebbe887098b",
   "metadata": {},
   "source": [
    "file = random.choice(os.listdir('./tests/10d/simplex-in-ball/'))\n",
    "support_a, support_b, delta = read_tests_simplex_in_ball(f'./tests/10d/simplex-in-ball/{file}', 10)\n",
    "solver_instance = GreedySolver(10, support_a, support_b, num_iterations=500)"
   ]
  },
  {
   "cell_type": "markdown",
   "id": "4da42902-3f86-478c-a78c-d9a92d580a8a",
   "metadata": {},
   "source": [
    "%prun solver_instance.solve()"
   ]
  },
  {
   "cell_type": "markdown",
   "id": "f890c400-eb82-4849-8b51-cd3d9f97b6f5",
   "metadata": {},
   "source": [
    "times_greedy_2d, errors_greedy_2d, d_greedy_2d = get_greedy_polyhedron_in_ball_results(2, silent=True)\n",
    "plot_test_results(times_greedy_2d, errors_greedy_2d, 'GreedySolver, 2d, polyhedron in ball', fit=False, colors=d_greedy_2d, \n",
    "                  colorbar_name='minimal distance from a non-based vertex to the sphere')"
   ]
  },
  {
   "cell_type": "markdown",
   "id": "884a33ff-8801-4619-84b7-b51dcc64edcf",
   "metadata": {},
   "source": [
    "times_greedy_3d, errors_greedy_3d, d_greedy_3d = get_greedy_polyhedron_in_ball_results(3, silent=True) \n",
    "plot_test_results(times_greedy_3d, errors_greedy_3d, 'GreedySolver, 3d, polyhedron in ball', fit=False, colors=d_greedy_3d, \n",
    "                  colorbar_name='minimal distance from a non-based vertex to the sphere')"
   ]
  },
  {
   "cell_type": "markdown",
   "id": "f863e59c-0719-4ac3-a8d5-bbdb4f51a021",
   "metadata": {},
   "source": [
    "times_greedy_4d, errors_greedy_4d, d_greedy_4d = get_greedy_polyhedron_in_ball_results(4, silent=True) \n",
    "plot_test_results(times_greedy_4d, errors_greedy_4d, 'GreedySolver, 4d, polyhedron in ball', fit=False, colors=d_greedy_4d, \n",
    "                  colorbar_name='minimal distance from a non-based vertex to the sphere')"
   ]
  },
  {
   "cell_type": "markdown",
   "id": "d089a6a1-0405-4475-b783-f6e5e6901828",
   "metadata": {},
   "source": [
    "times_greedy_5d, errors_greedy_5d, d_greedy_5d = get_greedy_polyhedron_in_ball_results(5, silent=True) \n",
    "plot_test_results(times_greedy_5d, errors_greedy_5d, 'GreedySolver, 5d, polyhedron in ball', fit=False, colors=d_greedy_5d, \n",
    "                  colorbar_name='minimal distance from a non-based vertex to the sphere')"
   ]
  },
  {
   "cell_type": "markdown",
   "id": "6db0e54d-b024-4dc4-8223-5c5171a662ea",
   "metadata": {},
   "source": [
    "times_greedy_10d, errors_greedy_10d, d_greedy_10d = get_greedy_polyhedron_in_ball_results(10, silent=False) \n",
    "plot_test_results(times_greedy_10d, errors_greedy_10d, 'GreedySolver, 10d, polyhedron in ball', fit=False, colors=d_greedy_10d, \n",
    "                  colorbar_name='minimal distance from a non-based vertex to the sphere')"
   ]
  },
  {
   "cell_type": "code",
   "execution_count": null,
   "id": "fe063273-e09a-411f-9081-7db2b6514ee7",
   "metadata": {},
   "outputs": [],
   "source": []
  },
  {
   "cell_type": "code",
   "execution_count": null,
   "id": "135c23be-d5fe-47e1-93b6-f001d705447b",
   "metadata": {},
   "outputs": [],
   "source": []
  },
  {
   "cell_type": "markdown",
   "id": "cc7d62a5-eb96-48fe-8523-04d05982deb3",
   "metadata": {},
   "source": [
    "times_greedy_2d, errors_greedy_2d = get_greedy_degenerate_simplex_in_ball_results(2, silent=True)\n",
    "plot_test_results(times_greedy_2d, errors_greedy_2d, 'GreedySolver, 2d, degenerate simplex', fit=False)"
   ]
  },
  {
   "cell_type": "markdown",
   "id": "4585abda-fd9f-475a-af09-d6265adc4ef0",
   "metadata": {},
   "source": [
    "times_greedy_3d, errors_greedy_3d = get_greedy_degenerate_simplex_in_ball_results(3, silent=True)\n",
    "plot_test_results(times_greedy_3d, errors_greedy_3d, 'GreedySolver, 3d, degenerate simplex', fit=False)"
   ]
  },
  {
   "cell_type": "markdown",
   "id": "2d7c61e4-721f-476e-91c2-ab66abbd9881",
   "metadata": {},
   "source": [
    "times_greedy_4d, errors_greedy_4d = get_greedy_degenerate_simplex_in_ball_results(4, silent=True)\n",
    "plot_test_results(times_greedy_4d, errors_greedy_4d, 'GreedySolver, 4d, degenerate simplex', fit=False)"
   ]
  },
  {
   "cell_type": "markdown",
   "id": "0fb39fb4-9d53-4ddf-85b5-2e19c9e6c52a",
   "metadata": {},
   "source": [
    "times_greedy_5d, errors_greedy_5d = get_greedy_degenerate_simplex_in_ball_results(5, silent=True)\n",
    "plot_test_results(times_greedy_5d, errors_greedy_5d, 'GreedySolver, 5d, degenerate simplex', fit=False)"
   ]
  },
  {
   "cell_type": "markdown",
   "id": "cfee97ba-6d98-450f-91ce-eb23fd00f99e",
   "metadata": {
    "tags": []
   },
   "source": [
    "times_greedy_10d, errors_greedy_10d = get_greedy_degenerate_simplex_in_ball_results(10, silent=False)\n",
    "plot_test_results(times_greedy_10d, errors_greedy_10d, 'GreedySolver, 10d, degenerate simplex', fit=False)"
   ]
  },
  {
   "cell_type": "code",
   "execution_count": null,
   "id": "1191bbe6-317d-4ba3-8375-f3fbbc5d2a76",
   "metadata": {},
   "outputs": [],
   "source": []
  },
  {
   "cell_type": "markdown",
   "id": "a7094e14-bd5a-4ecc-a1c0-7000c3bc1a30",
   "metadata": {
    "tags": []
   },
   "source": [
    "times_greedy_2d, errors_greedy_2d, deltas_greedy_2d = get_greedy_simplex_plus_ball_in_ball_results(2, silent=True)\n",
    "plot_test_results(times_greedy_2d, errors_greedy_2d, deltas_greedy_2d, 'GreedySolver, 2d, simplex + ball, 50 iterations', fit=False)"
   ]
  },
  {
   "cell_type": "markdown",
   "id": "f7346631-1a21-45d2-9731-57136c2b9151",
   "metadata": {},
   "source": [
    "times_greedy_3d, errors_greedy_3d, deltas_greedy_3d = get_greedy_simplex_plus_ball_in_ball_results(3, silent=True)\n",
    "plot_test_results(times_greedy_3d, errors_greedy_3d, deltas_greedy_3d, 'GreedySolver, 3d, simplex + ball, 50 iterations', fit=False)"
   ]
  },
  {
   "cell_type": "markdown",
   "id": "685f2489-8b64-4be2-9fae-5780fc47d771",
   "metadata": {},
   "source": [
    "times_greedy_4d, errors_greedy_4d, deltas_greedy_4d = get_greedy_simplex_plus_ball_in_ball_results(4, silent=True)\n",
    "plot_test_results(times_greedy_4d, errors_greedy_4d, deltas_greedy_4d, 'GreedySolver, 4d, simplex + ball, 50 iterations', fit=False)"
   ]
  },
  {
   "cell_type": "markdown",
   "id": "48d730be-84f5-404f-a210-9adafc147d05",
   "metadata": {},
   "source": [
    "times_greedy_5d, errors_greedy_5d, deltas_greedy_5d = get_greedy_simplex_plus_ball_in_ball_results(5, silent=True)\n",
    "plot_test_results(times_greedy_5d, errors_greedy_5d, deltas_greedy_5d, 'GreedySolver, 5d, simplex + ball, 80 iterations', fit=False)"
   ]
  },
  {
   "cell_type": "markdown",
   "id": "815998ce-44d3-45ea-94d2-c8202c1176cd",
   "metadata": {
    "tags": []
   },
   "source": [
    "times_greedy_10d, errors_greedy_10d, deltas_greedy_10d = get_greedy_simplex_plus_ball_in_ball_results(10, silent=False)\n",
    "plot_test_results(times_greedy_10d, errors_greedy_10d, deltas_greedy_10d, 'GreedySolver, 10d, simplex + ball, 100 iterations', fit=False)"
   ]
  },
  {
   "cell_type": "code",
   "execution_count": null,
   "id": "b5321e42-07d9-44d2-9f72-afb04a46841d",
   "metadata": {},
   "outputs": [],
   "source": []
  },
  {
   "cell_type": "markdown",
   "id": "969d28af-849b-4701-a792-3ef414178ade",
   "metadata": {
    "tags": []
   },
   "source": [
    "times_greedy_2d, errors_greedy_2d, deltas_greedy_2d = get_greedy_test_results(2, silent=False)\n",
    "plot_test_results(times_greedy_2d, errors_greedy_2d, deltas_greedy_2d, 'GreedySolver, 2d, n(n+1) caps with heuristic, random inscribed simplex', fit=False)"
   ]
  },
  {
   "cell_type": "markdown",
   "id": "6ba5da10-3896-430a-b93e-039a67c6168f",
   "metadata": {
    "tags": []
   },
   "source": [
    "times_greedy_3d, errors_greedy_3d, deltas_greedy_3d = get_greedy_test_results(3, silent=False)\n",
    "plot_test_results(times_greedy_3d, errors_greedy_3d, deltas_greedy_3d, 'GreedySolver, 3d, n(n+1) caps with heuristic, random inscribed simplex', fit=False)"
   ]
  },
  {
   "cell_type": "markdown",
   "id": "d9626817-bc83-4f2c-b840-d5023f8352df",
   "metadata": {},
   "source": [
    "times_greedy_4d, errors_greedy_4d, deltas_greedy_4d = get_greedy_test_results(4, silent=False)\n",
    "plot_test_results(times_greedy_4d, errors_greedy_4d, deltas_greedy_4d, 'GreedySolver, 4d, n(n+1) caps with heuristic, random inscribed simplex', fit=False)"
   ]
  },
  {
   "cell_type": "markdown",
   "id": "f0e4105a-6981-40e4-b027-8e7783cb1272",
   "metadata": {},
   "source": [
    "times_greedy_5d, errors_greedy_5d, deltas_greedy_5d = get_greedy_test_results(5, silent=False)\n",
    "plot_test_results(times_greedy_5d, errors_greedy_5d, deltas_greedy_5d, 'GreedySolver, 5d, n(n+1) caps with heuristic, random inscribed simplex', fit=False)"
   ]
  },
  {
   "cell_type": "markdown",
   "id": "3b394b64-caa8-4248-9fc1-38bbd2a600c4",
   "metadata": {
    "tags": []
   },
   "source": [
    "times_greedy_10d, errors_greedy_10d, deltas_greedy_10d = get_greedy_test_results(10, silent=False)\n",
    "plot_test_results(times_greedy_10d, errors_greedy_10d, deltas_greedy_10d, 'GreedySolver, 10d, n(n+1) caps with heuristic, random inscribed simplex', fit=False)"
   ]
  },
  {
   "cell_type": "markdown",
   "id": "6bcdc672-84c9-4151-b2be-84e99d0d0d72",
   "metadata": {
    "tags": []
   },
   "source": [
    "times_iterative_2d, errors_iterative_2d = get_iterative_test_results(2, 100, silent=True, highest_cap_grid_diameter=3)\n",
    "plot_test_results(times_iterative_2d, errors_iterative_2d, 'IterativeSolver, 2d, n(n+1) caps with startovers, random inscribed simplex', fit=False)"
   ]
  },
  {
   "cell_type": "markdown",
   "id": "3baaf541-e43d-469b-b5b8-7bb5081c737a",
   "metadata": {},
   "source": [
    "times_iterative_3d, errors_iterative_3d = get_iterative_test_results(3, 100, silent=True, highest_cap_grid_diameter=3)\n",
    "plot_test_results(times_iterative_3d, errors_iterative_3d, 'IterativeSolver, 3d, n(n+1) caps with startovers, random inscribed simplex', fit=False)"
   ]
  },
  {
   "cell_type": "markdown",
   "id": "8da5eb04-36b9-4b01-8acc-ca3227246efe",
   "metadata": {},
   "source": [
    "times_iterative_4d, errors_iterative_4d = get_iterative_test_results(4, 100, silent=True, highest_cap_grid_diameter=3)\n",
    "plot_test_results(times_iterative_4d, errors_iterative_4d, 'IterativeSolver, 4d, n(n+1) caps with startovers, random inscribed simplex', fit=False)"
   ]
  },
  {
   "cell_type": "markdown",
   "id": "e1b182d6-5b56-4852-8e24-2aa50b3ad65a",
   "metadata": {},
   "source": [
    "times_iterative_5d, errors_iterative_5d = get_iterative_test_results(5, 100, silent=True, highest_cap_grid_diameter=3)\n",
    "plot_test_results(times_iterative_5d, errors_iterative_5d, 'IterativeSolver, 5d, n(n+1) caps with startovers, random inscribed simplex', fit=False)"
   ]
  },
  {
   "cell_type": "markdown",
   "id": "064a2556-6261-44cc-8ea5-97968bbd2d87",
   "metadata": {},
   "source": [
    "times_baseline_2d, errors_baseline_2d = get_baseline_test_results(2, 1000)"
   ]
  },
  {
   "cell_type": "markdown",
   "id": "053791a1-bf7c-49a9-b491-1772a04df16d",
   "metadata": {},
   "source": [
    "plot_test_results(times_baseline_2d, errors_baseline_2d, 'BaselineSolver, 2d, grid_from_cube, random inscribed simplex')"
   ]
  },
  {
   "cell_type": "markdown",
   "id": "2274b531-c36b-4ec4-9321-85405dc7c6c3",
   "metadata": {},
   "source": [
    "times_baseline_3d, errors_baseline_3d = get_baseline_test_results(3, 1000)"
   ]
  },
  {
   "cell_type": "markdown",
   "id": "9cbd8833-06cf-4d58-b84b-8ed6e17641b8",
   "metadata": {},
   "source": [
    "plot_test_results(times_baseline_3d, errors_baseline_3d, 'BaselineSolver, 3d, grid_from_cube, random inscribed simplex')"
   ]
  },
  {
   "cell_type": "markdown",
   "id": "b6e18b40-46f6-48fe-beea-56c0fa512f7c",
   "metadata": {},
   "source": [
    "times_baseline_4d, errors_baseline_4d = get_baseline_test_results(4, 1000)"
   ]
  },
  {
   "cell_type": "markdown",
   "id": "8d78a71f-ef58-46e4-a75f-83af34495ca4",
   "metadata": {},
   "source": [
    "plot_test_results(times_baseline_4d, errors_baseline_4d, 'BaselineSolver, 4d, grid_from_cube, random inscribed simplex')"
   ]
  },
  {
   "cell_type": "markdown",
   "id": "e9a6727c-0707-49a2-b156-6cf202b11d9a",
   "metadata": {},
   "source": [
    "times_baseline_5d, errors_baseline_5d = get_baseline_test_results(5, 1000)"
   ]
  },
  {
   "cell_type": "markdown",
   "id": "1fef6a7d-eddd-4c8e-b7e4-8ffe0d348b07",
   "metadata": {},
   "source": [
    "plot_test_results(times_baseline_5d, errors_baseline_5d, 'BaselineSolver, 5d, grid_from_cube, random inscribed simplex')"
   ]
  }
 ],
 "metadata": {
  "kernelspec": {
   "display_name": "Python 3 (ipykernel)",
   "language": "python",
   "name": "python3"
  },
  "language_info": {
   "codemirror_mode": {
    "name": "ipython",
    "version": 3
   },
   "file_extension": ".py",
   "mimetype": "text/x-python",
   "name": "python",
   "nbconvert_exporter": "python",
   "pygments_lexer": "ipython3",
   "version": "3.8.10"
  }
 },
 "nbformat": 4,
 "nbformat_minor": 5
}
