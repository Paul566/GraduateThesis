{
 "cells": [
  {
   "cell_type": "code",
   "execution_count": 1,
   "id": "f5754fdf-fc77-479e-82a7-2590f554cd16",
   "metadata": {},
   "outputs": [],
   "source": [
    "import numpy as np"
   ]
  },
  {
   "cell_type": "code",
   "execution_count": 2,
   "id": "7480db92-f2d7-482a-9a5f-ba817e77ce3e",
   "metadata": {},
   "outputs": [],
   "source": [
    "def support_poly(grid, vertices):\n",
    "    try:\n",
    "        return np.max(vertices @ (grid.T), axis=0)\n",
    "    except Exception as e:\n",
    "        print('vertices', vertices)\n",
    "        print('grid', grid)\n",
    "        raise e"
   ]
  },
  {
   "cell_type": "code",
   "execution_count": 3,
   "id": "cfdb52b3-d6da-4f5d-85e3-b3a883021d78",
   "metadata": {},
   "outputs": [],
   "source": [
    "vertices_a = np.array([\n",
    "    [np.cos(0), np.sin(0)],\n",
    "    [np.cos(0 + 2 * np.pi / 3), np.sin(0 + 2 * np.pi / 3)],\n",
    "    [np.cos(0 + 4 * np.pi / 3), np.sin(0 + 4 * np.pi / 3)]\n",
    "])  # A is a triangle\n",
    "support_A = lambda x: support_poly(x, vertices_a)\n",
    "support_B = lambda x: np.ones(len(x))"
   ]
  },
  {
   "cell_type": "code",
   "execution_count": 4,
   "id": "0004aa44-9b22-4ffa-a9d2-839ddf3cf177",
   "metadata": {},
   "outputs": [],
   "source": [
    "from src import random_spherical_grid, solve_primal\n",
    "grid = random_spherical_grid(2, 4)"
   ]
  },
  {
   "cell_type": "code",
   "execution_count": 5,
   "id": "0c7af1c9-2773-447e-a10e-918a3429387f",
   "metadata": {},
   "outputs": [
    {
     "data": {
      "text/plain": [
       "array([1.        , 0.8660254 , 0.5       , 0.8660254 , 0.60578456,\n",
       "       0.90459819, 0.58294364, 0.91163569])"
      ]
     },
     "execution_count": 5,
     "metadata": {},
     "output_type": "execute_result"
    }
   ],
   "source": [
    "support_A(grid)"
   ]
  },
  {
   "cell_type": "code",
   "execution_count": 6,
   "id": "3067816a-9e99-4d58-81aa-7b52cb454c8a",
   "metadata": {},
   "outputs": [
    {
     "data": {
      "text/plain": [
       "(0.9404338075296166, array([0.05956619, 0.02296336]))"
      ]
     },
     "execution_count": 6,
     "metadata": {},
     "output_type": "execute_result"
    }
   ],
   "source": [
    "t, x = solve_primal(grid, support_A(grid), support_B(grid))\n",
    "t, x"
   ]
  },
  {
   "cell_type": "code",
   "execution_count": 59,
   "id": "88597f0e-8a61-4d50-8f53-c4bb4012d2cd",
   "metadata": {},
   "outputs": [],
   "source": [
    "from src import BaselineSolver, IterativeSolver\n",
    "iterative_solver = IterativeSolver(2, support_A, support_B, max_iteration=100, initial_grid_size=10, number_of_gridpoints_in_cap=10, tolerance=1e-9)"
   ]
  },
  {
   "cell_type": "code",
   "execution_count": 60,
   "id": "c2983b0f-067f-44fa-8d0a-3f2817730601",
   "metadata": {},
   "outputs": [],
   "source": [
    "iterative_solver.solve()"
   ]
  },
  {
   "cell_type": "code",
   "execution_count": 61,
   "id": "4e5d618b-5abd-49c5-aee1-2654a13fa073",
   "metadata": {},
   "outputs": [
    {
     "data": {
      "text/plain": [
       "(array([ 6.63902783e-08, -3.48390136e-08]), 0.9999999336097218)"
      ]
     },
     "execution_count": 61,
     "metadata": {},
     "output_type": "execute_result"
    }
   ],
   "source": [
    "iterative_solver.x, iterative_solver.t"
   ]
  },
  {
   "cell_type": "code",
   "execution_count": null,
   "id": "d4c54977-9301-4b23-ac9a-7556d65eea04",
   "metadata": {},
   "outputs": [],
   "source": []
  },
  {
   "cell_type": "code",
   "execution_count": 10,
   "id": "4e534bbb-5d17-4638-ad64-52b8038e715a",
   "metadata": {},
   "outputs": [
    {
     "data": {
      "text/plain": [
       "array([[[1, 1],\n",
       "        [2, 2],\n",
       "        [3, 3]],\n",
       "\n",
       "       [[4, 4],\n",
       "        [5, 5],\n",
       "        [6, 6]]])"
      ]
     },
     "execution_count": 10,
     "metadata": {},
     "output_type": "execute_result"
    }
   ],
   "source": [
    "np.array([[1,1],[2,2],[3,3],[4,4],[5,5],[6,6]]).reshape((2, 3, 2))"
   ]
  }
 ],
 "metadata": {
  "kernelspec": {
   "display_name": "Python 3 (ipykernel)",
   "language": "python",
   "name": "python3"
  },
  "language_info": {
   "codemirror_mode": {
    "name": "ipython",
    "version": 3
   },
   "file_extension": ".py",
   "mimetype": "text/x-python",
   "name": "python",
   "nbconvert_exporter": "python",
   "pygments_lexer": "ipython3",
   "version": "3.8.10"
  }
 },
 "nbformat": 4,
 "nbformat_minor": 5
}
