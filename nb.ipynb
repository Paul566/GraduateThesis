{
 "cells": [
  {
   "cell_type": "code",
   "execution_count": 1,
   "id": "f5754fdf-fc77-479e-82a7-2590f554cd16",
   "metadata": {},
   "outputs": [],
   "source": [
    "import numpy as np\n",
    "import typing as tp\n",
    "import matplotlib.pyplot as plt\n",
    "import sys"
   ]
  },
  {
   "cell_type": "code",
   "execution_count": 2,
   "id": "df7da57d-c486-4574-ab97-00cb0fec97bd",
   "metadata": {},
   "outputs": [],
   "source": [
    "from BaselineSolver import BaselineSolver\n",
    "from IterativeSolver import IterativeSolver\n",
    "from utils import run_tests, read_tests_simplex_in_ball, run_random_test"
   ]
  },
  {
   "cell_type": "code",
   "execution_count": 3,
   "id": "d73d508d-e17d-463a-aeed-55d6d4e9513c",
   "metadata": {},
   "outputs": [],
   "source": [
    "def get_baseline_test_results(dimension: int, number_tests: int, lowest_grid_density: float=100, highest_grid_density: float=10000,\n",
    "                             silent=True) -> tp.Tuple[np.ndarray, np.ndarray]:\n",
    "    times = []\n",
    "    t_errors = []\n",
    "    for _ in range(number_tests):\n",
    "        time, t_error = run_random_test(BaselineSolver, dimension, \n",
    "                                        {'grid_density': np.exp(np.random.uniform(np.log(lowest_grid_density), np.log(highest_grid_density)))}, \n",
    "                                        read_tests_simplex_in_ball, f'./tests/{dimension}d/simplex-in-ball/', silent=silent)\n",
    "        times.append(time)\n",
    "        t_errors.append(t_error)\n",
    "    \n",
    "    return np.array(times), np.array(t_errors)"
   ]
  },
  {
   "cell_type": "code",
   "execution_count": 4,
   "id": "9c284819-3677-4d0a-b451-b39896399348",
   "metadata": {},
   "outputs": [],
   "source": [
    "def get_iterative_test_results(dimension: int, number_tests: int, lowest_cap_grid_diameter: int=3, \n",
    "                               highest_cap_grid_diameter: int=10,\n",
    "                              silent=True) -> tp.Tuple[np.ndarray, np.ndarray]:\n",
    "    times = []\n",
    "    t_errors = []\n",
    "    for _ in range(number_tests):\n",
    "        cap_grid_diameter = int(np.round(np.exp(np.random.uniform(np.log(lowest_cap_grid_diameter), np.log(highest_cap_grid_diameter)))))\n",
    "        time, t_error = run_random_test(IterativeSolver, dimension, \n",
    "                                        {'cap_grid_diameter': cap_grid_diameter}, \n",
    "                                        read_tests_simplex_in_ball, f'./tests/{dimension}d/simplex-in-ball/', silent=silent)\n",
    "        times.append(time)\n",
    "        t_errors.append(t_error)\n",
    "    \n",
    "    return np.array(times), np.array(t_errors)"
   ]
  },
  {
   "cell_type": "code",
   "execution_count": 5,
   "id": "3f494a19-f128-4eeb-9efb-d0f069406d95",
   "metadata": {},
   "outputs": [],
   "source": [
    "def plot_test_results(times: np.ndarray, t_errors: np.ndarray, title: str, fit=True) -> None:\n",
    "    t_errors_without_zeros = np.copy(t_errors)\n",
    "    t_errors_without_zeros[t_errors_without_zeros == 0.] = 1e-16\n",
    "    \n",
    "    fig = plt.figure(figsize=(10, 7))\n",
    "    ax = fig.add_subplot(111)\n",
    "    plt.xlabel('time, s')\n",
    "    plt.ylabel('t_error')\n",
    "    ax.set_xscale('log')\n",
    "    ax.set_yscale('log')\n",
    "    plt.scatter(times, t_errors_without_zeros)\n",
    "    if fit:\n",
    "        a, b = np.polyfit(np.log(times), np.log(t_errors_without_zeros), 1)\n",
    "        plt.plot(times, np.exp(a * np.log(times) + b), 'r', label=f't_error ~ 1 / time^{-a:.2f}')\n",
    "        plt.legend()\n",
    "    plt.title(title)\n",
    "    plt.savefig(f'figures/{title.replace(\" \", \"_\").replace(\",\", \"\")}')"
   ]
  },
  {
   "cell_type": "code",
   "execution_count": null,
   "id": "dafb5bae-5de2-40d8-976e-cc88605d752a",
   "metadata": {
    "tags": []
   },
   "outputs": [],
   "source": [
    "times_iterative_2d, errors_iterative_2d = get_iterative_test_results(2, 100, silent=True, highest_cap_grid_diameter=3)\n",
    "plot_test_results(times_iterative_2d, errors_iterative_2d, 'IterativeSolver, 2d, n(n+1) caps with startovers, random inscribed simplex', fit=False)"
   ]
  },
  {
   "cell_type": "code",
   "execution_count": null,
   "id": "da6ae3bb-a80b-4f19-aa8f-c0dae4f43a33",
   "metadata": {},
   "outputs": [],
   "source": [
    "times_iterative_3d, errors_iterative_3d = get_iterative_test_results(3, 100, silent=True, highest_cap_grid_diameter=3)\n",
    "plot_test_results(times_iterative_3d, errors_iterative_3d, 'IterativeSolver, 3d, n(n+1) caps with startovers, random inscribed simplex', fit=False)"
   ]
  },
  {
   "cell_type": "code",
   "execution_count": null,
   "id": "f23497e8-f042-47c8-a263-c3994f028cef",
   "metadata": {},
   "outputs": [],
   "source": [
    "times_iterative_4d, errors_iterative_4d = get_iterative_test_results(4, 100, silent=True, highest_cap_grid_diameter=3)\n",
    "plot_test_results(times_iterative_4d, errors_iterative_4d, 'IterativeSolver, 4d, n(n+1) caps with startovers, random inscribed simplex', fit=False)"
   ]
  },
  {
   "cell_type": "code",
   "execution_count": null,
   "id": "bfb526e8-b88a-492f-8a86-9905d1e1e75c",
   "metadata": {},
   "outputs": [],
   "source": [
    "times_iterative_5d, errors_iterative_5d = get_iterative_test_results(5, 100, silent=True, highest_cap_grid_diameter=3)\n",
    "plot_test_results(times_iterative_5d, errors_iterative_5d, 'IterativeSolver, 5d, n(n+1) caps with startovers, random inscribed simplex', fit=False)"
   ]
  },
  {
   "cell_type": "markdown",
   "id": "064a2556-6261-44cc-8ea5-97968bbd2d87",
   "metadata": {},
   "source": [
    "times_baseline_2d, errors_baseline_2d = get_baseline_test_results(2, 1000)"
   ]
  },
  {
   "cell_type": "markdown",
   "id": "053791a1-bf7c-49a9-b491-1772a04df16d",
   "metadata": {},
   "source": [
    "plot_test_results(times_baseline_2d, errors_baseline_2d, 'BaselineSolver, 2d, grid_from_cube, random inscribed simplex')"
   ]
  },
  {
   "cell_type": "markdown",
   "id": "2274b531-c36b-4ec4-9321-85405dc7c6c3",
   "metadata": {},
   "source": [
    "times_baseline_3d, errors_baseline_3d = get_baseline_test_results(3, 1000)"
   ]
  },
  {
   "cell_type": "markdown",
   "id": "9cbd8833-06cf-4d58-b84b-8ed6e17641b8",
   "metadata": {},
   "source": [
    "plot_test_results(times_baseline_3d, errors_baseline_3d, 'BaselineSolver, 3d, grid_from_cube, random inscribed simplex')"
   ]
  },
  {
   "cell_type": "markdown",
   "id": "b6e18b40-46f6-48fe-beea-56c0fa512f7c",
   "metadata": {},
   "source": [
    "times_baseline_4d, errors_baseline_4d = get_baseline_test_results(4, 1000)"
   ]
  },
  {
   "cell_type": "markdown",
   "id": "8d78a71f-ef58-46e4-a75f-83af34495ca4",
   "metadata": {},
   "source": [
    "plot_test_results(times_baseline_4d, errors_baseline_4d, 'BaselineSolver, 4d, grid_from_cube, random inscribed simplex')"
   ]
  },
  {
   "cell_type": "markdown",
   "id": "e9a6727c-0707-49a2-b156-6cf202b11d9a",
   "metadata": {},
   "source": [
    "times_baseline_5d, errors_baseline_5d = get_baseline_test_results(5, 1000)"
   ]
  },
  {
   "cell_type": "markdown",
   "id": "1fef6a7d-eddd-4c8e-b7e4-8ffe0d348b07",
   "metadata": {},
   "source": [
    "plot_test_results(times_baseline_5d, errors_baseline_5d, 'BaselineSolver, 5d, grid_from_cube, random inscribed simplex')"
   ]
  }
 ],
 "metadata": {
  "kernelspec": {
   "display_name": "Python 3 (ipykernel)",
   "language": "python",
   "name": "python3"
  },
  "language_info": {
   "codemirror_mode": {
    "name": "ipython",
    "version": 3
   },
   "file_extension": ".py",
   "mimetype": "text/x-python",
   "name": "python",
   "nbconvert_exporter": "python",
   "pygments_lexer": "ipython3",
   "version": "3.8.10"
  }
 },
 "nbformat": 4,
 "nbformat_minor": 5
}
