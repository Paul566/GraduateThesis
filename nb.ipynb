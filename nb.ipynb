{
 "cells": [
  {
   "cell_type": "code",
   "execution_count": 1,
   "id": "f5754fdf-fc77-479e-82a7-2590f554cd16",
   "metadata": {},
   "outputs": [],
   "source": [
    "import numpy as np\n",
    "import typing as tp\n",
    "import matplotlib.pyplot as plt\n",
    "from matplotlib.colors import LogNorm\n",
    "import sys\n",
    "import os\n",
    "import time\n",
    "import random"
   ]
  },
  {
   "cell_type": "code",
   "execution_count": 2,
   "id": "df7da57d-c486-4574-ab97-00cb0fec97bd",
   "metadata": {},
   "outputs": [],
   "source": [
    "from BaselineSolver import BaselineSolver\n",
    "from IterativeSolver import IterativeSolver\n",
    "from GreedySolver import GreedySolver\n",
    "from GradientDescentSolver import GradientDescentSolver\n",
    "from utils import run_tests, read_tests_simplex_in_ball, run_random_test, read_tests_simplex_plus_ball_in_ball\n",
    "from utils import read_tests_degenerate_simplex_in_ball, read_tests_polyhedron_in_ball, read_tests_simplex_in_ball_with_argmaxes"
   ]
  },
  {
   "cell_type": "markdown",
   "id": "15aebbbf-7f18-4845-b379-ae87cbc7f6de",
   "metadata": {},
   "source": [
    "support_a, support_b = read_tests_simplex_in_ball_with_argmaxes(f'./tests/2d/simplex-in-ball/5', 2)\n",
    "solver_instance = GradientDescentSolver(2, support_a, support_b, num_iterations=1000, learning_rate=0.5)\n",
    "solver_instance.solve()"
   ]
  },
  {
   "cell_type": "code",
   "execution_count": 3,
   "id": "5e1da5f3-6a46-4c7f-b598-3d607761afae",
   "metadata": {},
   "outputs": [],
   "source": [
    "def plot_test_results(times: np.ndarray, t_errors: np.ndarray, title: str, colors: tp.Optional[np.ndarray] = None, fit=True, colorbar_name='delta') -> None:\n",
    "    t_errors_without_zeros = np.copy(t_errors)\n",
    "    t_errors_without_zeros[t_errors_without_zeros == 0.] = 1e-16\n",
    "    \n",
    "    fig = plt.figure(figsize=(10, 7))\n",
    "    ax = fig.add_subplot(111)\n",
    "    plt.xlabel('time, s')\n",
    "    plt.ylabel('t_error')\n",
    "    ax.set_xscale('log')\n",
    "    ax.set_yscale('log')\n",
    "    \n",
    "    if colors is not None:\n",
    "        plt.scatter(times, t_errors_without_zeros, c=colors, cmap='viridis_r', norm=LogNorm())\n",
    "        plt.colorbar(label=colorbar_name)\n",
    "    else:\n",
    "        plt.scatter(times, t_errors_without_zeros)\n",
    "\n",
    "    if fit:\n",
    "        a, b = np.polyfit(np.log(times), np.log(t_errors_without_zeros), 1)\n",
    "        plt.plot(times, np.exp(a * np.log(times) + b), 'r', label=f't_error ~ 1 / time^{-a:.2f}')\n",
    "        plt.legend()\n",
    "    plt.title(title)\n",
    "    plt.savefig(f'figures/{title.replace(\" \", \"_\").replace(\",\", \"\")}')"
   ]
  },
  {
   "cell_type": "code",
   "execution_count": 4,
   "id": "7bcc8a56-7f15-4e31-ba02-8e6e2a3c3944",
   "metadata": {},
   "outputs": [],
   "source": [
    "def get_gd_simplex_in_ball_results(dimension: int, silent=True) -> tp.Tuple[np.ndarray, np.ndarray]:\n",
    "    times = []\n",
    "    t_errors = []\n",
    "    for file in sorted(os.listdir(f'./tests/{dimension}d/simplex-in-ball/')):\n",
    "        support_a, support_b = read_tests_simplex_in_ball_with_argmaxes(f'./tests/{dimension}d/simplex-in-ball/{file}', dimension)\n",
    "        solver_instance = GradientDescentSolver(dimension, support_a, support_b, num_iterations=1000, learning_rate=1)\n",
    "        start_time = time.time()\n",
    "        solver_instance.solve()\n",
    "        end_time = time.time()\n",
    "        times.append(end_time - start_time)\n",
    "        t_errors.append(abs(1. - solver_instance.t))\n",
    "        if not silent:\n",
    "            print(f'test {file}\\t time {end_time - start_time}\\t t_error {abs(1. - solver_instance.t)}\\t num_restarts {solver_instance.restarts}')\n",
    "\n",
    "    return np.array(times), np.array(t_errors)"
   ]
  },
  {
   "cell_type": "code",
   "execution_count": 5,
   "id": "345fe1bc-9aef-4779-a5f1-f685baf67967",
   "metadata": {},
   "outputs": [
    {
     "name": "stdout",
     "output_type": "stream",
     "text": [
      "test 1\t time 0.024553537368774414\t t_error 1.5234480343906398e-12\t num_restarts 0\n",
      "test 10\t time 0.012830018997192383\t t_error 8.810729923425242e-13\t num_restarts 0\n",
      "test 100\t time 0.012189388275146484\t t_error 5.39124300757976e-13\t num_restarts 0\n",
      "test 11\t time 0.0539088249206543\t t_error 1.0144107776000055e-12\t num_restarts 1\n",
      "test 12\t time 0.013253450393676758\t t_error 1.9813040097460544e-12\t num_restarts 0\n",
      "test 13\t time 0.009388446807861328\t t_error 5.220268661787486e-13\t num_restarts 0\n",
      "test 14\t time 0.06277942657470703\t t_error 1.3023915279575249e-11\t num_restarts 0\n",
      "test 15\t time 0.014129638671875\t t_error 1.4872547637878597e-12\t num_restarts 0\n",
      "test 16\t time 0.01883721351623535\t t_error 2.7686741788102154e-12\t num_restarts 0\n",
      "test 17\t time 0.03394913673400879\t t_error 5.4115600889304005e-12\t num_restarts 0\n",
      "test 18\t time 0.025159835815429688\t t_error 2.2918333897337106e-12\t num_restarts 0\n",
      "test 19\t time 0.009814977645874023\t t_error 5.870859354217828e-13\t num_restarts 0\n",
      "test 2\t time 0.025745868682861328\t t_error 4.279243626115203e-12\t num_restarts 0\n",
      "test 20\t time 0.017606019973754883\t t_error 2.7290392168310973e-12\t num_restarts 0\n",
      "test 21\t time 0.010248422622680664\t t_error 1.0342837697407958e-12\t num_restarts 0\n",
      "test 22\t time 0.010001897811889648\t t_error 1.3143930388537228e-12\t num_restarts 0\n",
      "test 23\t time 0.009973287582397461\t t_error 1.213251721310371e-12\t num_restarts 0\n",
      "test 24\t time 0.008378744125366211\t t_error 6.581402089977928e-13\t num_restarts 0\n",
      "test 25\t time 0.02480316162109375\t t_error 5.788480805790641e-12\t num_restarts 0\n",
      "test 26\t time 0.008224248886108398\t t_error 9.85878045867139e-13\t num_restarts 0\n",
      "test 27\t time 0.008610248565673828\t t_error 8.255618411112664e-13\t num_restarts 0\n",
      "test 28\t time 0.008930683135986328\t t_error 9.450218385609332e-13\t num_restarts 0\n",
      "test 29\t time 0.03292584419250488\t t_error 7.818856673225127e-12\t num_restarts 0\n",
      "test 3\t time 0.023639678955078125\t t_error 2.982614155655483e-12\t num_restarts 0\n",
      "test 30\t time 0.13865113258361816\t t_error 2.9960034453324624e-11\t num_restarts 0\n",
      "test 31\t time 0.00928950309753418\t t_error 1.0602629885170245e-12\t num_restarts 0\n",
      "test 32\t time 0.014129638671875\t t_error 2.0836665726164938e-12\t num_restarts 0\n",
      "test 33\t time 0.009369134902954102\t t_error 1.4389600622166654e-12\t num_restarts 0\n",
      "test 34\t time 0.007944822311401367\t t_error 1.0055289934030043e-12\t num_restarts 0\n",
      "test 35\t time 0.05833029747009277\t t_error 1.2369882895768569e-11\t num_restarts 0\n",
      "test 36\t time 0.013529062271118164\t t_error 1.4314105456492143e-12\t num_restarts 0\n",
      "test 37\t time 0.02034473419189453\t t_error 1.712519015484304e-12\t num_restarts 0\n",
      "test 38\t time 0.028347492218017578\t t_error 4.669375996968483e-12\t num_restarts 0\n",
      "test 39\t time 0.029644489288330078\t t_error 4.806710585114615e-12\t num_restarts 0\n",
      "test 4\t time 0.024178743362426758\t t_error 4.125144670297232e-12\t num_restarts 0\n",
      "test 40\t time 0.01612710952758789\t t_error 2.258304654390031e-12\t num_restarts 0\n",
      "test 41\t time 0.024989604949951172\t t_error 5.2132742567323476e-12\t num_restarts 0\n",
      "test 42\t time 0.04375600814819336\t t_error 9.030221015393636e-12\t num_restarts 0\n",
      "test 43\t time 0.01866292953491211\t t_error 2.6603164116068e-12\t num_restarts 0\n",
      "test 44\t time 0.123016357421875\t t_error 3.0665692207776374e-11\t num_restarts 0\n",
      "test 45\t time 0.008072614669799805\t t_error 9.563461134121098e-13\t num_restarts 0\n",
      "test 46\t time 0.03734183311462402\t t_error 7.836731263921592e-12\t num_restarts 0\n",
      "test 47\t time 0.02145838737487793\t t_error 4.104827588946591e-12\t num_restarts 0\n",
      "test 48\t time 0.01974773406982422\t t_error 4.863776048580348e-12\t num_restarts 0\n",
      "test 49\t time 0.06373763084411621\t t_error 3.919309321531728e-12\t num_restarts 1\n",
      "test 5\t time 0.015497922897338867\t t_error 1.2174705688039467e-12\t num_restarts 0\n",
      "test 50\t time 0.07166886329650879\t t_error 1.5678458531453998e-11\t num_restarts 0\n",
      "test 51\t time 0.008803844451904297\t t_error 1.0446088438698098e-12\t num_restarts 0\n",
      "test 52\t time 0.011781930923461914\t t_error 9.935385847370526e-13\t num_restarts 0\n",
      "test 53\t time 0.011353492736816406\t t_error 8.537615059367454e-13\t num_restarts 0\n",
      "test 54\t time 0.00886225700378418\t t_error 5.729861030090433e-13\t num_restarts 0\n",
      "test 55\t time 0.023913860321044922\t t_error 4.8728798773822746e-12\t num_restarts 0\n",
      "test 56\t time 0.024188995361328125\t t_error 4.362732397567015e-12\t num_restarts 0\n",
      "test 57\t time 0.009632110595703125\t t_error 1.039501817956534e-12\t num_restarts 0\n",
      "test 58\t time 0.02827310562133789\t t_error 4.276135001646253e-12\t num_restarts 0\n",
      "test 59\t time 0.009116649627685547\t t_error 9.504619313815965e-13\t num_restarts 0\n",
      "test 6\t time 0.01272273063659668\t t_error 1.780797731498751e-12\t num_restarts 0\n",
      "test 60\t time 0.04895496368408203\t t_error 1.4859224961583095e-12\t num_restarts 1\n",
      "test 61\t time 0.008727312088012695\t t_error 6.360467708077522e-13\t num_restarts 0\n",
      "test 62\t time 0.016416311264038086\t t_error 1.4837020501090592e-12\t num_restarts 0\n",
      "test 63\t time 0.013295412063598633\t t_error 1.8389734179891093e-12\t num_restarts 0\n",
      "test 64\t time 0.01625204086303711\t t_error 1.974531649295841e-12\t num_restarts 0\n",
      "test 65\t time 0.01836228370666504\t t_error 6.823208664741287e-12\t num_restarts 0\n",
      "test 66\t time 0.009786605834960938\t t_error 7.23421322845752e-13\t num_restarts 0\n",
      "test 67\t time 0.28328704833984375\t t_error 9.472012063582724e-11\t num_restarts 0\n",
      "test 68\t time 0.012603044509887695\t t_error 2.0956569812824455e-12\t num_restarts 0\n",
      "test 69\t time 0.023386240005493164\t t_error 3.796185588100798e-12\t num_restarts 0\n",
      "test 7\t time 0.014502286911010742\t t_error 2.5224267119483557e-12\t num_restarts 0\n",
      "test 70\t time 0.008912086486816406\t t_error 8.394396289190809e-13\t num_restarts 0\n",
      "test 71\t time 0.17115521430969238\t t_error 4.922162677445385e-11\t num_restarts 0\n",
      "test 72\t time 0.01238250732421875\t t_error 8.72413252750448e-13\t num_restarts 0\n",
      "test 73\t time 0.010591506958007812\t t_error 7.274181257344026e-13\t num_restarts 0\n",
      "test 74\t time 0.019698619842529297\t t_error 3.060329767379244e-12\t num_restarts 0\n",
      "test 75\t time 0.04441642761230469\t t_error 8.761324998829423e-12\t num_restarts 0\n",
      "test 76\t time 0.011806726455688477\t t_error 3.165033801710848e-08\t num_restarts 0\n",
      "test 77\t time 0.02156543731689453\t t_error 3.5232927686479343e-12\t num_restarts 0\n",
      "test 78\t time 0.013805866241455078\t t_error 1.9380053117856733e-12\t num_restarts 0\n",
      "test 79\t time 0.008330345153808594\t t_error 6.215028491851626e-13\t num_restarts 0\n",
      "test 8\t time 0.08451986312866211\t t_error 1.067435029256103e-11\t num_restarts 1\n",
      "test 80\t time 0.02013421058654785\t t_error 1.5616397064377452e-12\t num_restarts 0\n",
      "test 81\t time 0.05427050590515137\t t_error 9.172662629453043e-12\t num_restarts 0\n",
      "test 82\t time 0.06170940399169922\t t_error 1.836086838125084e-12\t num_restarts 1\n",
      "test 83\t time 0.019192218780517578\t t_error 4.498068584268822e-12\t num_restarts 0\n",
      "test 84\t time 0.009754657745361328\t t_error 1.2179146580137967e-12\t num_restarts 0\n",
      "test 85\t time 0.011707067489624023\t t_error 1.3838930001952576e-12\t num_restarts 0\n",
      "test 86\t time 0.00880742073059082\t t_error 7.421840919619171e-13\t num_restarts 0\n",
      "test 87\t time 0.35162949562072754\t t_error 1.8241763655169052e-10\t num_restarts 0\n",
      "test 88\t time 0.022430419921875\t t_error 2.5660584768161243e-12\t num_restarts 0\n",
      "test 89\t time 0.01505279541015625\t t_error 1.7630341631047486e-12\t num_restarts 0\n",
      "test 9\t time 0.0531919002532959\t t_error 1.1694756274494011e-11\t num_restarts 0\n",
      "test 90\t time 0.01192474365234375\t t_error 1.048938713665848e-12\t num_restarts 0\n",
      "test 91\t time 0.013173103332519531\t t_error 1.262767668208653e-12\t num_restarts 0\n",
      "test 92\t time 0.007639408111572266\t t_error 8.554268404736831e-13\t num_restarts 0\n",
      "test 93\t time 0.07850933074951172\t t_error 1.9937940187730874e-11\t num_restarts 0\n",
      "test 94\t time 0.022616147994995117\t t_error 3.442690577060148e-12\t num_restarts 0\n",
      "test 95\t time 0.03085923194885254\t t_error 7.906675314472977e-12\t num_restarts 0\n",
      "test 96\t time 0.011990547180175781\t t_error 1.468603016974157e-12\t num_restarts 0\n",
      "test 97\t time 0.013662099838256836\t t_error 8.923972671937008e-13\t num_restarts 0\n",
      "test 98\t time 0.011873483657836914\t t_error 1.6835421945415874e-12\t num_restarts 0\n",
      "test 99\t time 0.03177237510681152\t t_error 6.839528943203277e-12\t num_restarts 0\n"
     ]
    },
    {
     "data": {
      "image/png": "[encoded data removed]",
      "text/plain": [
       "<Figure size 1000x700 with 1 Axes>"
      ]
     },
     "metadata": {},
     "output_type": "display_data"
    }
   ],
   "source": [
    "times_gd_2d, errors_gd_2d = get_gd_simplex_in_ball_results(2, silent=False)\n",
    "plot_test_results(times_gd_2d, errors_gd_2d, 'GD, 2d, simplex in ball, feasibilify if infeasible, lr=1', fit=False)"
   ]
  },
  {
   "cell_type": "code",
   "execution_count": 6,
   "id": "a8c75db2-19ca-475d-8f86-18810c1d6823",
   "metadata": {},
   "outputs": [
    {
     "name": "stdout",
     "output_type": "stream",
     "text": [
      "test 1\t time 0.02947211265563965\t t_error 2.265410081747632e-12\t num_restarts 0\n",
      "test 10\t time 0.044759273529052734\t t_error 7.5307537983349e-12\t num_restarts 0\n",
      "test 100\t time 0.031497955322265625\t t_error 2.8967939158519584e-12\t num_restarts 0\n",
      "test 11\t time 0.03248953819274902\t t_error 2.0174972803488345e-12\t num_restarts 0\n",
      "test 12\t time 0.038375139236450195\t t_error 6.109668326814699e-12\t num_restarts 0\n",
      "test 13\t time 0.02874159812927246\t t_error 3.178346474896898e-12\t num_restarts 0\n",
      "test 14\t time 0.05367279052734375\t t_error 1.2266521132175967e-11\t num_restarts 0\n",
      "test 15\t time 0.027192115783691406\t t_error 2.255973186038318e-12\t num_restarts 0\n",
      "test 16\t time 0.046996116638183594\t t_error 7.30349114519413e-12\t num_restarts 0\n",
      "test 17\t time 0.022288799285888672\t t_error 3.2589486664846845e-12\t num_restarts 0\n",
      "test 18\t time 0.01829671859741211\t t_error 1.9083623570281816e-12\t num_restarts 0\n",
      "test 19\t time 0.23611950874328613\t t_error 3.033717721478979e-11\t num_restarts 0\n",
      "test 2\t time 0.9154388904571533\t t_error 1.8020662739814952e-10\t num_restarts 0\n",
      "test 20\t time 0.09438967704772949\t t_error 1.5987655643812104e-11\t num_restarts 0\n",
      "test 21\t time 0.01745128631591797\t t_error 2.4353852268177434e-12\t num_restarts 0\n",
      "test 22\t time 0.053733110427856445\t t_error 4.5921044744545725e-12\t num_restarts 0\n",
      "test 23\t time 0.09859514236450195\t t_error 1.031508212179233e-11\t num_restarts 0\n",
      "test 24\t time 0.5463089942932129\t t_error 7.037148641586555e-12\t num_restarts 0\n",
      "test 25\t time 0.05279207229614258\t t_error 8.682388141778574e-12\t num_restarts 0\n",
      "test 26\t time 0.0365753173828125\t t_error 5.737410546657884e-12\t num_restarts 0\n",
      "test 27\t time 0.24013257026672363\t t_error 4.571476530657037e-11\t num_restarts 0\n",
      "test 28\t time 0.05296969413757324\t t_error 3.1041835768519377e-12\t num_restarts 0\n",
      "test 29\t time 0.06348037719726562\t t_error 3.743116927523715e-12\t num_restarts 0\n",
      "test 3\t time 0.12079858779907227\t t_error 9.830802838450836e-12\t num_restarts 0\n",
      "test 30\t time 0.038567543029785156\t t_error 1.1015632850330803e-12\t num_restarts 0\n",
      "test 31\t time 0.0991826057434082\t t_error 8.326006550873899e-12\t num_restarts 0\n",
      "test 32\t time 4.08563494682312\t t_error 5.68911584508669e-12\t num_restarts 1\n",
      "test 33\t time 0.06352806091308594\t t_error 7.315925643069932e-12\t num_restarts 0\n",
      "test 34\t time 0.7447495460510254\t t_error 1.1405965061328516e-10\t num_restarts 0\n",
      "test 35\t time 0.07934880256652832\t t_error 8.109068971862143e-12\t num_restarts 0\n",
      "test 36\t time 0.5098519325256348\t t_error 3.2516211945221585e-12\t num_restarts 0\n",
      "test 37\t time 1.0859136581420898\t t_error 2.5549307114403064e-10\t num_restarts 0\n",
      "test 38\t time 0.1258842945098877\t t_error 1.5578982548447584e-11\t num_restarts 0\n",
      "test 39\t time 0.1472635269165039\t t_error 8.794631689568178e-12\t num_restarts 0\n",
      "test 4\t time 0.032569169998168945\t t_error 1.3530288001106783e-12\t num_restarts 0\n",
      "test 40\t time 0.26470375061035156\t t_error 3.710232121534318e-11\t num_restarts 0\n",
      "test 41\t time 0.05179786682128906\t t_error 2.347677607872356e-12\t num_restarts 0\n",
      "test 42\t time 0.06873536109924316\t t_error 6.438627409011133e-12\t num_restarts 0\n",
      "test 43\t time 0.023682832717895508\t t_error 1.3059553438665716e-12\t num_restarts 0\n",
      "test 44\t time 0.08974456787109375\t t_error 1.1414091893868772e-11\t num_restarts 0\n",
      "test 45\t time 0.0429079532623291\t t_error 1.9253487693049465e-12\t num_restarts 0\n",
      "test 46\t time 0.02838730812072754\t t_error 2.206901328349886e-12\t num_restarts 0\n",
      "test 47\t time 0.7227194309234619\t t_error 1.8580825766889575e-10\t num_restarts 0\n",
      "test 48\t time 0.04678940773010254\t t_error 1.893596390800667e-12\t num_restarts 0\n",
      "test 49\t time 0.06324267387390137\t t_error 1.4358736422082075e-11\t num_restarts 0\n",
      "test 5\t time 0.06472015380859375\t t_error 6.554090603572149e-12\t num_restarts 0\n",
      "test 50\t time 0.022420406341552734\t t_error 1.142419492339286e-12\t num_restarts 0\n",
      "test 51\t time 0.09064078330993652\t t_error 1.0337286582284833e-11\t num_restarts 0\n",
      "test 52\t time 0.06432247161865234\t t_error 5.3971271896102735e-12\t num_restarts 0\n",
      "test 53\t time 0.3234570026397705\t t_error 7.022715742266428e-11\t num_restarts 0\n",
      "test 54\t time 0.0950934886932373\t t_error 9.270806344829907e-12\t num_restarts 0\n",
      "test 55\t time 0.09731507301330566\t t_error 1.5335510639147287e-11\t num_restarts 0\n",
      "test 56\t time 0.13220906257629395\t t_error 1.9964141451112027e-11\t num_restarts 0\n",
      "test 57\t time 0.06284117698669434\t t_error 4.821698595947055e-12\t num_restarts 0\n",
      "test 58\t time 0.02987957000732422\t t_error 1.981415032048517e-12\t num_restarts 0\n",
      "test 59\t time 0.05738949775695801\t t_error 3.800293413291911e-12\t num_restarts 0\n",
      "test 6\t time 0.0467226505279541\t t_error 6.025957510757962e-12\t num_restarts 0\n",
      "test 60\t time 0.09328913688659668\t t_error 1.018229944804716e-11\t num_restarts 0\n",
      "test 61\t time 0.560089111328125\t t_error 1.0463485633493974e-10\t num_restarts 0\n",
      "test 62\t time 0.02663588523864746\t t_error 2.4300561562995426e-12\t num_restarts 0\n",
      "test 63\t time 0.2051248550415039\t t_error 3.521472002887549e-11\t num_restarts 0\n",
      "test 64\t time 0.11244487762451172\t t_error 1.1054268611587759e-11\t num_restarts 0\n",
      "test 65\t time 0.14997649192810059\t t_error 2.321332015498001e-11\t num_restarts 0\n",
      "test 66\t time 0.10204696655273438\t t_error 1.2673861959910937e-11\t num_restarts 0\n",
      "test 67\t time 0.03725171089172363\t t_error 2.6256774532384952e-12\t num_restarts 0\n",
      "test 68\t time 0.07986283302307129\t t_error 8.381739746710082e-12\t num_restarts 0\n",
      "test 69\t time 0.1008915901184082\t t_error 1.6844303729612875e-11\t num_restarts 0\n",
      "test 7\t time 0.08529257774353027\t t_error 5.160316618457728e-12\t num_restarts 0\n",
      "test 70\t time 0.09843230247497559\t t_error 1.567768137533676e-11\t num_restarts 0\n",
      "test 71\t time 0.42634057998657227\t t_error 1.1044498648971057e-12\t num_restarts 0\n",
      "test 72\t time 0.04891085624694824\t t_error 3.929079284148429e-12\t num_restarts 0\n",
      "test 73\t time 0.06647086143493652\t t_error 6.668776642015928e-12\t num_restarts 0\n",
      "test 74\t time 0.04993867874145508\t t_error 5.030198479971659e-12\t num_restarts 0\n",
      "test 75\t time 0.3058919906616211\t t_error 5.223177446112004e-11\t num_restarts 0\n",
      "test 76\t time 0.047250986099243164\t t_error 3.490097100211642e-12\t num_restarts 0\n",
      "test 77\t time 0.05417919158935547\t t_error 4.9462656193099974e-12\t num_restarts 0\n",
      "test 78\t time 0.0889277458190918\t t_error 1.0791811888566372e-11\t num_restarts 0\n",
      "test 79\t time 0.03183937072753906\t t_error 2.483568906086475e-12\t num_restarts 0\n",
      "test 8\t time 0.06754493713378906\t t_error 4.973577105715776e-12\t num_restarts 0\n",
      "test 80\t time 0.1291038990020752\t t_error 1.088529266723981e-11\t num_restarts 0\n",
      "test 81\t time 0.1149146556854248\t t_error 4.3516301673207636e-12\t num_restarts 0\n",
      "test 82\t time 0.05278372764587402\t t_error 3.682276705774257e-12\t num_restarts 0\n",
      "test 83\t time 0.08080863952636719\t t_error 1.054456522098235e-11\t num_restarts 0\n",
      "test 84\t time 0.058188438415527344\t t_error 4.762079619524684e-12\t num_restarts 0\n",
      "test 85\t time 0.1759049892425537\t t_error 2.344680005705868e-11\t num_restarts 0\n",
      "test 86\t time 0.13633084297180176\t t_error 2.248601305154807e-11\t num_restarts 0\n",
      "test 87\t time 0.04843401908874512\t t_error 4.672484621437434e-12\t num_restarts 0\n",
      "test 88\t time 0.041422128677368164\t t_error 2.3402391136073675e-12\t num_restarts 0\n",
      "test 89\t time 0.07492828369140625\t t_error 6.2372329523441294e-12\t num_restarts 0\n",
      "test 9\t time 0.05487942695617676\t t_error 3.42159633959227e-12\t num_restarts 0\n",
      "test 90\t time 0.15056705474853516\t t_error 1.8488210962175344e-11\t num_restarts 0\n",
      "test 91\t time 0.12473344802856445\t t_error 1.3273715460115909e-11\t num_restarts 0\n",
      "test 92\t time 0.1824958324432373\t t_error 4.650280160944931e-12\t num_restarts 0\n",
      "test 93\t time 0.08843851089477539\t t_error 8.271938689574654e-12\t num_restarts 0\n",
      "test 94\t time 3.6789605617523193\t t_error 9.123524158383134e-11\t num_restarts 0\n",
      "test 95\t time 0.05898475646972656\t t_error 6.0497162834849405e-12\t num_restarts 0\n",
      "test 96\t time 0.05292630195617676\t t_error 3.8327119256109654e-12\t num_restarts 0\n",
      "test 97\t time 1.7437348365783691\t t_error 7.703393478664111e-12\t num_restarts 0\n",
      "test 98\t time 0.05066990852355957\t t_error 5.709654971042255e-12\t num_restarts 0\n",
      "test 99\t time 3.8784372806549072\t t_error 0.00020438030013358865\t num_restarts 0\n"
     ]
    },
    {
     "data": {
      "image/png": "[encoded data removed]",
      "text/plain": [
       "<Figure size 1000x700 with 1 Axes>"
      ]
     },
     "metadata": {},
     "output_type": "display_data"
    }
   ],
   "source": [
    "times_gd, errors_gd = get_gd_simplex_in_ball_results(3, silent=False)\n",
    "plot_test_results(times_gd, errors_gd, 'GD, 3d, simplex in ball, feasibilify if infeasible, lr=1', fit=False)"
   ]
  },
  {
   "cell_type": "code",
   "execution_count": 7,
   "id": "3f0329ae-fdea-4789-9470-c17a31da858b",
   "metadata": {
    "tags": []
   },
   "outputs": [
    {
     "name": "stdout",
     "output_type": "stream",
     "text": [
      "test 1\t time 0.0953824520111084\t t_error 1.0167200414912259e-11\t num_restarts 0\n",
      "test 10\t time 12.475255966186523\t t_error 0.014529664252610597\t num_restarts 2\n",
      "test 100\t time 0.08497023582458496\t t_error 6.147193865047029e-12\t num_restarts 0\n",
      "test 11\t time 0.04611611366271973\t t_error 4.00635080666234e-12\t num_restarts 0\n",
      "test 12\t time 0.08725523948669434\t t_error 6.921241357815688e-12\t num_restarts 0\n",
      "test 13\t time 0.17805123329162598\t t_error 8.61466453727644e-12\t num_restarts 0\n",
      "test 14\t time 0.10138368606567383\t t_error 9.476530671292949e-12\t num_restarts 0\n",
      "test 15\t time 0.07253503799438477\t t_error 2.792099884629806e-12\t num_restarts 0\n",
      "test 16\t time 0.30223774909973145\t t_error 4.269817832636136e-11\t num_restarts 0\n",
      "test 17\t time 0.580603837966919\t t_error 9.30533428089575e-12\t num_restarts 0\n",
      "test 18\t time 0.07600116729736328\t t_error 1.0582867915331917e-11\t num_restarts 0\n",
      "test 19\t time 0.06660723686218262\t t_error 8.937184325930048e-12\t num_restarts 0\n",
      "test 2\t time 0.08880376815795898\t t_error 9.046541293855626e-12\t num_restarts 0\n",
      "test 20\t time 0.10317015647888184\t t_error 1.0805911720979111e-11\t num_restarts 0\n",
      "test 21\t time 0.03517293930053711\t t_error 1.8353096820078463e-12\t num_restarts 0\n",
      "test 22\t time 0.337862491607666\t t_error 2.7851054795746677e-12\t num_restarts 0\n",
      "test 23\t time 0.05781245231628418\t t_error 7.0672356855538965e-12\t num_restarts 0\n",
      "test 24\t time 3.9325356483459473\t t_error 3.2380764736217316e-12\t num_restarts 0\n",
      "test 25\t time 0.09691715240478516\t t_error 3.8863356977003605e-12\t num_restarts 0\n",
      "test 26\t time 0.1885509490966797\t t_error 2.9466651341181205e-11\t num_restarts 0\n",
      "test 27\t time 0.3453378677368164\t t_error 5.5633275763966594e-12\t num_restarts 0\n",
      "test 28\t time 0.04924583435058594\t t_error 4.955036381204536e-12\t num_restarts 0\n",
      "test 29\t time 0.08707952499389648\t t_error 6.423084286666381e-12\t num_restarts 0\n",
      "test 3\t time 0.17678165435791016\t t_error 3.1452618287630685e-12\t num_restarts 0\n",
      "test 30\t time 0.08361649513244629\t t_error 9.475309425965861e-12\t num_restarts 0\n",
      "test 31\t time 0.06869697570800781\t t_error 6.34892138862142e-12\t num_restarts 0\n",
      "test 32\t time 1.0755970478057861\t t_error 8.803624496067641e-12\t num_restarts 0\n",
      "test 33\t time 0.11079525947570801\t t_error 1.2344569810807116e-11\t num_restarts 0\n",
      "test 34\t time 0.03798508644104004\t t_error 2.8110846983508964e-12\t num_restarts 0\n",
      "test 35\t time 0.10689020156860352\t t_error 1.24965593428783e-11\t num_restarts 0\n",
      "test 36\t time 0.052047014236450195\t t_error 4.793720975726501e-12\t num_restarts 0\n",
      "test 37\t time 0.08670949935913086\t t_error 3.795186387378635e-12\t num_restarts 0\n",
      "test 38\t time 0.1060478687286377\t t_error 8.183231869907104e-12\t num_restarts 0\n",
      "test 39\t time 0.04916691780090332\t t_error 2.9383162569729393e-12\t num_restarts 0\n",
      "test 4\t time 4.277872800827026\t t_error 0.0008581650890048254\t num_restarts 0\n",
      "test 40\t time 0.0525965690612793\t t_error 5.51392265180084e-12\t num_restarts 0\n",
      "test 41\t time 0.08369064331054688\t t_error 1.154598638919424e-11\t num_restarts 0\n",
      "test 42\t time 0.1422266960144043\t t_error 5.535683023083493e-12\t num_restarts 0\n",
      "test 43\t time 0.10162591934204102\t t_error 1.047395503661619e-11\t num_restarts 0\n",
      "test 44\t time 0.1391587257385254\t t_error 1.547950656544117e-11\t num_restarts 0\n",
      "test 45\t time 0.12483000755310059\t t_error 4.488409643954583e-12\t num_restarts 0\n",
      "test 46\t time 0.1292431354522705\t t_error 1.445032982161365e-11\t num_restarts 0\n",
      "test 47\t time 0.0723721981048584\t t_error 6.461831070225799e-12\t num_restarts 0\n",
      "test 48\t time 0.5527548789978027\t t_error 1.457567400109383e-11\t num_restarts 0\n",
      "test 49\t time 0.22266316413879395\t t_error 3.5772829143354556e-11\t num_restarts 0\n",
      "test 5\t time 0.1116647720336914\t t_error 1.3690049094350343e-11\t num_restarts 0\n",
      "test 50\t time 1.7676868438720703\t t_error 7.683176317385687e-10\t num_restarts 0\n",
      "test 51\t time 0.09531188011169434\t t_error 1.5056511593058985e-11\t num_restarts 0\n",
      "test 52\t time 0.2257397174835205\t t_error 2.3419710615257827e-11\t num_restarts 0\n",
      "test 53\t time 0.2692089080810547\t t_error 1.8717249972155514e-11\t num_restarts 0\n",
      "test 54\t time 0.1999664306640625\t t_error 6.4923622034029904e-12\t num_restarts 0\n",
      "test 55\t time 5.188186883926392\t t_error 0.005288767192757726\t num_restarts 0\n",
      "test 56\t time 0.13340473175048828\t t_error 1.8772428056479384e-11\t num_restarts 0\n",
      "test 57\t time 0.1394186019897461\t t_error 6.1483040880716544e-12\t num_restarts 0\n",
      "test 58\t time 0.05696821212768555\t t_error 4.48341364034377e-12\t num_restarts 0\n",
      "test 59\t time 0.04324603080749512\t t_error 2.9036772986046344e-12\t num_restarts 0\n",
      "test 6\t time 0.26322364807128906\t t_error 3.7172154243592104e-11\t num_restarts 0\n",
      "test 60\t time 1.5121333599090576\t t_error 9.660772182229493e-11\t num_restarts 0\n",
      "test 61\t time 0.09387636184692383\t t_error 3.2731595211998865e-12\t num_restarts 0\n",
      "test 62\t time 0.04951906204223633\t t_error 3.3247848918449563e-12\t num_restarts 0\n",
      "test 63\t time 0.14997625350952148\t t_error 1.5608958570112463e-11\t num_restarts 0\n",
      "test 64\t time 0.6153249740600586\t t_error 6.233191740534494e-11\t num_restarts 0\n",
      "test 65\t time 0.049089908599853516\t t_error 2.333244708552229e-12\t num_restarts 0\n",
      "test 66\t time 0.07596611976623535\t t_error 4.9968917892329046e-12\t num_restarts 0\n",
      "test 67\t time 0.1113131046295166\t t_error 8.361311643056979e-12\t num_restarts 0\n",
      "test 68\t time 0.13341903686523438\t t_error 9.25282073183098e-12\t num_restarts 0\n",
      "test 69\t time 0.4807467460632324\t t_error 1.5353385229843752e-11\t num_restarts 0\n",
      "test 7\t time 0.06292986869812012\t t_error 2.6219026949547697e-12\t num_restarts 0\n",
      "test 70\t time 0.10719513893127441\t t_error 6.556644116528787e-12\t num_restarts 0\n",
      "test 71\t time 0.05633354187011719\t t_error 2.7839952565500425e-12\t num_restarts 0\n",
      "test 72\t time 0.1935124397277832\t t_error 1.514366410049206e-11\t num_restarts 0\n",
      "test 73\t time 0.6516299247741699\t t_error 8.24950108224698e-11\t num_restarts 0\n",
      "test 74\t time 0.09372615814208984\t t_error 5.595301999505864e-12\t num_restarts 0\n",
      "test 75\t time 0.11313891410827637\t t_error 1.01928465667811e-11\t num_restarts 0\n",
      "test 76\t time 0.15903592109680176\t t_error 3.6703973194107675e-12\t num_restarts 0\n",
      "test 77\t time 0.12371826171875\t t_error 1.1758483076107495e-11\t num_restarts 0\n",
      "test 78\t time 16.790729999542236\t t_error 0.0005964107069968971\t num_restarts 2\n",
      "test 79\t time 0.12644433975219727\t t_error 8.957279362675763e-12\t num_restarts 0\n",
      "test 8\t time 0.479611873626709\t t_error 2.825850664578411e-12\t num_restarts 0\n",
      "test 80\t time 0.7415924072265625\t t_error 8.905765014333156e-12\t num_restarts 0\n",
      "test 81\t time 0.09012246131896973\t t_error 6.478706460200101e-12\t num_restarts 0\n",
      "test 82\t time 0.09043717384338379\t t_error 5.222378085534274e-12\t num_restarts 0\n",
      "test 83\t time 0.06860041618347168\t t_error 3.611333454500709e-12\t num_restarts 0\n",
      "test 84\t time 0.06846427917480469\t t_error 3.765099343411293e-12\t num_restarts 0\n",
      "test 85\t time 5.822178363800049\t t_error 1.0996759058912176e-11\t num_restarts 1\n",
      "test 86\t time 0.09165501594543457\t t_error 3.789857316860434e-12\t num_restarts 0\n",
      "test 87\t time 0.12798285484313965\t t_error 7.10753678134779e-12\t num_restarts 0\n",
      "test 88\t time 0.20162749290466309\t t_error 1.6319945395082414e-11\t num_restarts 0\n",
      "test 89\t time 0.07400941848754883\t t_error 4.757638727426183e-12\t num_restarts 0\n",
      "test 9\t time 0.08376574516296387\t t_error 3.3071323457534163e-12\t num_restarts 0\n",
      "test 90\t time 0.17583060264587402\t t_error 2.348787830896981e-12\t num_restarts 0\n",
      "test 91\t time 0.10040855407714844\t t_error 3.817279825568676e-12\t num_restarts 0\n",
      "test 92\t time 0.12095046043395996\t t_error 8.403944207202585e-12\t num_restarts 0\n",
      "test 93\t time 0.07879304885864258\t t_error 5.714317907745681e-12\t num_restarts 0\n",
      "test 94\t time 0.22761082649230957\t t_error 2.1316171050500543e-11\t num_restarts 0\n",
      "test 95\t time 0.1418745517730713\t t_error 9.789391519632318e-12\t num_restarts 0\n",
      "test 96\t time 0.07703304290771484\t t_error 5.2841064857034326e-12\t num_restarts 0\n",
      "test 97\t time 0.11294102668762207\t t_error 1.1644685216083417e-11\t num_restarts 0\n",
      "test 98\t time 0.06586027145385742\t t_error 4.3931525084417444e-12\t num_restarts 0\n",
      "test 99\t time 5.692817211151123\t t_error 0.0013663600286631938\t num_restarts 0\n"
     ]
    },
    {
     "data": {
      "image/png": "[encoded data removed]",
      "text/plain": [
       "<Figure size 1000x700 with 1 Axes>"
      ]
     },
     "metadata": {},
     "output_type": "display_data"
    }
   ],
   "source": [
    "times_gd, errors_gd = get_gd_simplex_in_ball_results(4, silent=False)\n",
    "plot_test_results(times_gd, errors_gd, 'GD, 4d, simplex in ball, feasibilify if infeasible, lr=1', fit=False)"
   ]
  },
  {
   "cell_type": "code",
   "execution_count": 8,
   "id": "bbe146a8-54d1-4ace-a183-a23fa4d60370",
   "metadata": {},
   "outputs": [
    {
     "name": "stdout",
     "output_type": "stream",
     "text": [
      "test 1\t time 0.5146856307983398\t t_error 6.169031951941406e-11\t num_restarts 0\n",
      "test 10\t time 0.19299650192260742\t t_error 2.2247759190463512e-11\t num_restarts 0\n",
      "test 100\t time 0.06725311279296875\t t_error 4.519051799434237e-12\t num_restarts 0\n",
      "test 11\t time 0.2197737693786621\t t_error 4.2006065292810035e-11\t num_restarts 0\n",
      "test 12\t time 0.11835193634033203\t t_error 9.664713473966913e-12\t num_restarts 0\n",
      "test 13\t time 0.3718855381011963\t t_error 2.338762516984616e-11\t num_restarts 0\n",
      "test 14\t time 0.08768153190612793\t t_error 3.0937474804204612e-12\t num_restarts 0\n",
      "test 15\t time 5.926404714584351\t t_error 7.933711716878733e-05\t num_restarts 0\n",
      "test 16\t time 6.155828237533569\t t_error 3.287081717928686e-11\t num_restarts 1\n",
      "test 17\t time 0.06204390525817871\t t_error 2.9203306439740118e-12\t num_restarts 0\n",
      "test 18\t time 0.22814011573791504\t t_error 7.474132424079016e-12\t num_restarts 0\n",
      "test 19\t time 0.9254953861236572\t t_error 1.59756763373764e-10\t num_restarts 0\n",
      "test 2\t time 0.28163647651672363\t t_error 8.33755287033e-12\t num_restarts 0\n",
      "test 20\t time 0.16446185111999512\t t_error 3.0629943026383444e-12\t num_restarts 0\n",
      "test 21\t time 0.2320873737335205\t t_error 9.04143426794235e-12\t num_restarts 0\n",
      "test 22\t time 0.34433794021606445\t t_error 1.1447398584607527e-11\t num_restarts 0\n",
      "test 23\t time 0.2625722885131836\t t_error 1.617328493352943e-11\t num_restarts 0\n",
      "test 24\t time 0.32013440132141113\t t_error 4.0384695587647457e-11\t num_restarts 0\n",
      "test 25\t time 0.1963515281677246\t t_error 1.499800283966124e-11\t num_restarts 0\n",
      "test 26\t time 0.2967109680175781\t t_error 3.023292727277749e-11\t num_restarts 0\n",
      "test 27\t time 11.8614981174469\t t_error 0.0009875499795766185\t num_restarts 1\n",
      "test 28\t time 0.42000532150268555\t t_error 6.433520383097857e-12\t num_restarts 0\n",
      "test 29\t time 0.7934496402740479\t t_error 3.5136338283336954e-12\t num_restarts 0\n",
      "test 3\t time 0.5410120487213135\t t_error 1.0792811089288534e-11\t num_restarts 0\n",
      "test 30\t time 0.8902990818023682\t t_error 1.4459988761927889e-11\t num_restarts 0\n",
      "test 31\t time 0.2146317958831787\t t_error 3.057032404996107e-11\t num_restarts 0\n",
      "test 32\t time 5.9711644649505615\t t_error 0.002489102958243672\t num_restarts 0\n",
      "test 33\t time 0.3958258628845215\t t_error 2.2006618749514928e-11\t num_restarts 0\n",
      "test 34\t time 2.0527801513671875\t t_error 8.8164808786928e-11\t num_restarts 0\n",
      "test 35\t time 0.1965925693511963\t t_error 1.784283831796074e-11\t num_restarts 0\n",
      "test 36\t time 0.09044766426086426\t t_error 6.121103623968338e-12\t num_restarts 0\n",
      "test 37\t time 0.11283659934997559\t t_error 1.1446177339280439e-11\t num_restarts 0\n",
      "test 38\t time 1.3574776649475098\t t_error 1.7611245795023933e-11\t num_restarts 0\n",
      "test 39\t time 4.137801170349121\t t_error 3.994804487206238e-12\t num_restarts 0\n",
      "test 4\t time 7.906887531280518\t t_error 1.0361822511129049e-11\t num_restarts 1\n",
      "test 40\t time 2.6029958724975586\t t_error 2.8334223856063545e-11\t num_restarts 0\n",
      "test 41\t time 0.19562935829162598\t t_error 4.9260595602618196e-12\t num_restarts 0\n",
      "test 42\t time 0.2999722957611084\t t_error 3.3664182552683997e-11\t num_restarts 0\n",
      "test 43\t time 0.1607677936553955\t t_error 1.2837508833740685e-11\t num_restarts 0\n",
      "test 44\t time 0.12242627143859863\t t_error 5.54922774398392e-12\t num_restarts 0\n",
      "test 45\t time 2.0137343406677246\t t_error 7.672529278579532e-12\t num_restarts 0\n",
      "test 46\t time 0.2657899856567383\t t_error 1.8936185952611595e-11\t num_restarts 0\n",
      "test 47\t time 0.5629947185516357\t t_error 1.4217071964139905e-11\t num_restarts 0\n",
      "test 48\t time 22.92336869239807\t t_error 0.0012876256157479116\t num_restarts 3\n",
      "test 49\t time 0.5503368377685547\t t_error 6.189027068614905e-11\t num_restarts 0\n",
      "test 5\t time 0.399066686630249\t t_error 2.300548640477018e-11\t num_restarts 0\n",
      "test 50\t time 0.14341282844543457\t t_error 1.1751710715657282e-11\t num_restarts 0\n",
      "test 51\t time 0.10658049583435059\t t_error 4.516831353384987e-12\t num_restarts 0\n",
      "test 52\t time 1.289536714553833\t t_error 1.482991507373299e-11\t num_restarts 0\n",
      "test 53\t time 0.954521656036377\t t_error 2.982575297849621e-10\t num_restarts 0\n",
      "test 54\t time 0.3219425678253174\t t_error 1.651523362511398e-11\t num_restarts 0\n",
      "test 55\t time 0.12430834770202637\t t_error 1.2010503702697406e-11\t num_restarts 0\n",
      "test 56\t time 0.17107868194580078\t t_error 1.4712231433122724e-11\t num_restarts 0\n",
      "test 57\t time 0.08625388145446777\t t_error 8.723022304479855e-12\t num_restarts 0\n",
      "test 58\t time 0.04908895492553711\t t_error 2.9953817204386723e-12\t num_restarts 0\n",
      "test 59\t time 0.04926180839538574\t t_error 3.2589486664846845e-12\t num_restarts 0\n",
      "test 6\t time 0.16256213188171387\t t_error 1.86177739891491e-11\t num_restarts 0\n",
      "test 60\t time 2.0348029136657715\t t_error 4.126265995552103e-11\t num_restarts 0\n",
      "test 61\t time 0.36931633949279785\t t_error 1.3732681658495949e-11\t num_restarts 0\n",
      "test 62\t time 1.0367710590362549\t t_error 2.1969093211282598e-12\t num_restarts 0\n",
      "test 63\t time 0.2440793514251709\t t_error 2.0980550630156358e-11\t num_restarts 0\n",
      "test 64\t time 0.6748814582824707\t t_error 1.4300782780196641e-11\t num_restarts 0\n",
      "test 65\t time 4.801329851150513\t t_error 3.743227949826178e-12\t num_restarts 0\n",
      "test 66\t time 4.897164583206177\t t_error 0.0024318276368988645\t num_restarts 0\n",
      "test 67\t time 0.3382151126861572\t t_error 1.4629297773183225e-11\t num_restarts 0\n",
      "test 68\t time 0.22793316841125488\t t_error 8.707257137530178e-12\t num_restarts 0\n",
      "test 69\t time 1.6683287620544434\t t_error 6.183387135649809e-12\t num_restarts 0\n",
      "test 7\t time 0.1478581428527832\t t_error 1.7652324046935064e-11\t num_restarts 0\n",
      "test 70\t time 0.11984610557556152\t t_error 1.610978017652087e-11\t num_restarts 0\n",
      "test 71\t time 4.744960069656372\t t_error 0.0004630212353518015\t num_restarts 0\n",
      "test 72\t time 0.2107236385345459\t t_error 3.9257486150745535e-11\t num_restarts 0\n",
      "test 73\t time 0.6009049415588379\t t_error 1.3220646799538827e-11\t num_restarts 0\n",
      "test 74\t time 5.973529577255249\t t_error 2.041755653436894e-11\t num_restarts 1\n",
      "test 75\t time 0.19624614715576172\t t_error 2.5299984329762992e-11\t num_restarts 0\n",
      "test 76\t time 5.5761802196502686\t t_error 5.236366895644551e-12\t num_restarts 1\n",
      "test 77\t time 0.32451415061950684\t t_error 3.536615444943436e-11\t num_restarts 0\n",
      "test 78\t time 0.5920939445495605\t t_error 4.5815573557206335e-12\t num_restarts 0\n",
      "test 79\t time 1.9017596244812012\t t_error 1.049471620717668e-10\t num_restarts 0\n",
      "test 8\t time 0.1530284881591797\t t_error 1.0134670880290741e-11\t num_restarts 0\n",
      "test 80\t time 0.10028743743896484\t t_error 4.845901457883883e-12\t num_restarts 0\n",
      "test 81\t time 0.9462227821350098\t t_error 1.2017054018542694e-11\t num_restarts 0\n",
      "test 82\t time 0.19423508644104004\t t_error 1.0930589766644516e-11\t num_restarts 0\n",
      "test 83\t time 0.061875104904174805\t t_error 2.793321129956894e-12\t num_restarts 0\n",
      "test 84\t time 0.10464787483215332\t t_error 1.0321854482242543e-11\t num_restarts 0\n",
      "test 85\t time 5.828155755996704\t t_error 1.2920331471377722e-11\t num_restarts 1\n",
      "test 86\t time 0.21437788009643555\t t_error 2.1138979455770368e-11\t num_restarts 0\n",
      "test 87\t time 5.93359375\t t_error 0.01831031687468443\t num_restarts 0\n",
      "test 88\t time 10.751539945602417\t t_error 1.1210254946547593e-11\t num_restarts 2\n",
      "test 89\t time 0.1343533992767334\t t_error 3.4556801864482622e-12\t num_restarts 0\n",
      "test 9\t time 0.5421314239501953\t t_error 1.1618928041912113e-11\t num_restarts 0\n",
      "test 90\t time 5.011610269546509\t t_error 0.021797152761544147\t num_restarts 0\n",
      "test 91\t time 0.2118682861328125\t t_error 9.887091145799332e-12\t num_restarts 0\n",
      "test 92\t time 0.09217143058776855\t t_error 5.168865335747341e-12\t num_restarts 0\n",
      "test 93\t time 0.4535033702850342\t t_error 4.643641027257672e-11\t num_restarts 0\n",
      "test 94\t time 0.1974024772644043\t t_error 1.2879697308676441e-11\t num_restarts 0\n",
      "test 95\t time 5.780147075653076\t t_error 0.010357866010006322\t num_restarts 0\n",
      "test 96\t time 0.5731728076934814\t t_error 2.0461299321539173e-11\t num_restarts 0\n",
      "test 97\t time 0.08772850036621094\t t_error 7.58637597186862e-12\t num_restarts 0\n",
      "test 98\t time 0.10492134094238281\t t_error 6.354694548349471e-12\t num_restarts 0\n",
      "test 99\t time 0.589308500289917\t t_error 1.0384471060831402e-10\t num_restarts 0\n"
     ]
    },
    {
     "data": {
      "image/png": "[encoded data removed]",
      "text/plain": [
       "<Figure size 1000x700 with 1 Axes>"
      ]
     },
     "metadata": {},
     "output_type": "display_data"
    }
   ],
   "source": [
    "times_gd, errors_gd = get_gd_simplex_in_ball_results(5, silent=False)\n",
    "plot_test_results(times_gd, errors_gd, 'GD, 5d, simplex in ball, feasibilify if infeasible, lr=1', fit=False)"
   ]
  },
  {
   "cell_type": "code",
   "execution_count": null,
   "id": "f7957841-3f5d-479d-9a9d-12bfbc29fb33",
   "metadata": {},
   "outputs": [],
   "source": []
  },
  {
   "cell_type": "code",
   "execution_count": null,
   "id": "9795d34b-a410-447c-82d5-3085f8703674",
   "metadata": {},
   "outputs": [],
   "source": []
  },
  {
   "cell_type": "code",
   "execution_count": 9,
   "id": "052c2257-3f40-4693-8e41-830207a4a3a4",
   "metadata": {},
   "outputs": [],
   "source": [
    "%load_ext line_profiler"
   ]
  },
  {
   "cell_type": "code",
   "execution_count": 10,
   "id": "d73d508d-e17d-463a-aeed-55d6d4e9513c",
   "metadata": {},
   "outputs": [],
   "source": [
    "def get_baseline_test_results(dimension: int, number_tests: int, lowest_grid_density: float=100, highest_grid_density: float=10000,\n",
    "                             silent=True) -> tp.Tuple[np.ndarray, np.ndarray]:\n",
    "    times = []\n",
    "    t_errors = []\n",
    "    for _ in range(number_tests):\n",
    "        time, t_error = run_random_test(BaselineSolver, dimension, \n",
    "                                        {'grid_density': np.exp(np.random.uniform(np.log(lowest_grid_density), np.log(highest_grid_density)))}, \n",
    "                                        read_tests_simplex_in_ball, f'./tests/{dimension}d/simplex-in-ball/', silent=silent)\n",
    "        times.append(time)\n",
    "        t_errors.append(t_error)\n",
    "    \n",
    "    return np.array(times), np.array(t_errors)"
   ]
  },
  {
   "cell_type": "code",
   "execution_count": 11,
   "id": "9c284819-3677-4d0a-b451-b39896399348",
   "metadata": {},
   "outputs": [],
   "source": [
    "def get_iterative_test_results(dimension: int, number_tests: int, lowest_cap_grid_diameter: int=3, \n",
    "                               highest_cap_grid_diameter: int=10,\n",
    "                              silent=True) -> tp.Tuple[np.ndarray, np.ndarray]:\n",
    "    times = []\n",
    "    t_errors = []\n",
    "    for _ in range(number_tests):\n",
    "        cap_grid_diameter = int(np.round(np.exp(np.random.uniform(np.log(lowest_cap_grid_diameter), np.log(highest_cap_grid_diameter)))))\n",
    "        time, t_error = run_random_test(IterativeSolver, dimension, \n",
    "                                        {'cap_grid_diameter': cap_grid_diameter}, \n",
    "                                        read_tests_simplex_in_ball, f'./tests/{dimension}d/simplex-in-ball/', silent=silent)\n",
    "        times.append(time)\n",
    "        t_errors.append(t_error)\n",
    "    \n",
    "    return np.array(times), np.array(t_errors)"
   ]
  },
  {
   "cell_type": "code",
   "execution_count": 12,
   "id": "0d3e3ad2-1763-4558-be2c-68138ac0de19",
   "metadata": {},
   "outputs": [],
   "source": [
    "def get_greedy_simplex_in_ball_results(dimension: int, lowest_max_iteration: int=80, highest_max_iteration: int=80, \n",
    "                            silent=True) -> tp.Tuple[np.ndarray, np.ndarray]:\n",
    "    times = []\n",
    "    t_errors = []\n",
    "    deltas = []\n",
    "    for file in sorted(os.listdir(f'./tests/{dimension}d/simplex-in-ball/')):\n",
    "        support_a, support_b, delta = read_tests_simplex_in_ball(f'./tests/{dimension}d/simplex-in-ball/{file}', dimension)\n",
    "        solver_instance = GreedySolver(dimension, support_a, support_b, \n",
    "                                 num_iterations=int(np.exp(np.random.uniform(np.log(lowest_max_iteration), np.log(highest_max_iteration)))))\n",
    "        start_time = time.time()\n",
    "        solver_instance.solve()\n",
    "        end_time = time.time()\n",
    "        times.append(end_time - start_time)\n",
    "        t_errors.append(abs(1. - solver_instance.t))\n",
    "        deltas.append(delta)\n",
    "        if not silent:\n",
    "            print(f'test \\t{file}\\t time \\t{end_time - start_time}\\t t_error \\t{abs(1. - solver_instance.t)}')\n",
    "\n",
    "    return np.array(times), np.array(t_errors), np.array(deltas)"
   ]
  },
  {
   "cell_type": "code",
   "execution_count": 13,
   "id": "556f6be3-ee12-4753-86dd-fec59143bc0c",
   "metadata": {},
   "outputs": [],
   "source": [
    "def get_greedy_simplex_plus_ball_in_ball_results(dimension: int, lowest_max_iteration: int=100, highest_max_iteration: int=100, \n",
    "                            silent=True) -> tp.Tuple[np.ndarray, np.ndarray]:\n",
    "    times = []\n",
    "    t_errors = []\n",
    "    deltas = []\n",
    "    for file in sorted(os.listdir(f'./tests/{dimension}d/simplex-in-ball/')):\n",
    "        support_a, support_b, delta = read_tests_simplex_plus_ball_in_ball(f'./tests/{dimension}d/simplex-plus-ball-in-ball/{file}', dimension)\n",
    "        solver_instance = GreedySolver(dimension, support_a, support_b, \n",
    "                                 num_iterations=int(np.exp(np.random.uniform(np.log(lowest_max_iteration), np.log(highest_max_iteration)))))\n",
    "        start_time = time.time()\n",
    "        solver_instance.solve()\n",
    "        end_time = time.time()\n",
    "        times.append(end_time - start_time)\n",
    "        t_errors.append(abs(1. - solver_instance.t))\n",
    "        deltas.append(delta)\n",
    "        if not silent:\n",
    "            print(f'test \\t{file}\\t time \\t{end_time - start_time}\\t t_error \\t{abs(1. - solver_instance.t)}')\n",
    "\n",
    "    return np.array(times), np.array(t_errors), np.array(deltas)"
   ]
  },
  {
   "cell_type": "code",
   "execution_count": 14,
   "id": "17820ad2-22cd-48a3-8066-23e9abbca21c",
   "metadata": {},
   "outputs": [],
   "source": [
    "def get_greedy_degenerate_simplex_in_ball_results(dimension: int, lowest_max_iteration: int=100, highest_max_iteration: int=100, \n",
    "                            silent=True) -> tp.Tuple[np.ndarray, np.ndarray]:\n",
    "    times = []\n",
    "    t_errors = []\n",
    "    for file in sorted(os.listdir(f'./tests/{dimension}d/simplex-in-ball/')):\n",
    "        support_a, support_b = read_tests_degenerate_simplex_in_ball(f'./tests/{dimension}d/degenerate-simplex-in-ball/{file}', dimension)\n",
    "        solver_instance = GreedySolver(dimension, support_a, support_b, \n",
    "                                 num_iterations=int(np.exp(np.random.uniform(np.log(lowest_max_iteration), np.log(highest_max_iteration)))))\n",
    "        start_time = time.time()\n",
    "        solver_instance.solve()\n",
    "        end_time = time.time()\n",
    "        times.append(end_time - start_time)\n",
    "        t_errors.append(abs(1. - solver_instance.t))\n",
    "        if not silent:\n",
    "            print(f'test \\t{file}\\t time \\t{end_time - start_time}\\t t_error \\t{abs(1. - solver_instance.t)}')\n",
    "\n",
    "    return np.array(times), np.array(t_errors)"
   ]
  },
  {
   "cell_type": "code",
   "execution_count": 15,
   "id": "896cb504-f8fe-4db5-8f1f-d6ef83a5c0c8",
   "metadata": {},
   "outputs": [],
   "source": [
    "def get_greedy_polyhedron_in_ball_results(dimension: int, lowest_max_iteration: int=100, highest_max_iteration: int=100, \n",
    "                            silent=True) -> tp.Tuple[np.ndarray, np.ndarray]:\n",
    "    times = []\n",
    "    t_errors = []\n",
    "    d = []\n",
    "    for file in sorted(os.listdir(f'./tests/{dimension}d/polyhedron-in-ball/')):\n",
    "        support_a, support_b, current_d = read_tests_polyhedron_in_ball(f'./tests/{dimension}d/polyhedron-in-ball/{file}', dimension)\n",
    "        solver_instance = GreedySolver(dimension, support_a, support_b, \n",
    "                                 num_iterations=int(np.exp(np.random.uniform(np.log(lowest_max_iteration), np.log(highest_max_iteration)))))\n",
    "        start_time = time.time()\n",
    "        solver_instance.solve()\n",
    "        end_time = time.time()\n",
    "        times.append(end_time - start_time)\n",
    "        t_errors.append(abs(1. - solver_instance.t))\n",
    "        d.append(current_d)\n",
    "        if not silent:\n",
    "            print(f'test \\t{file}\\t time \\t{end_time - start_time}\\t t_error \\t{abs(1. - solver_instance.t)}')\n",
    "\n",
    "    return np.array(times), np.array(t_errors), np.array(d)"
   ]
  },
  {
   "cell_type": "markdown",
   "id": "96154660-312e-4a6c-9bb7-2ebbe887098b",
   "metadata": {},
   "source": [
    "file = random.choice(os.listdir('./tests/10d/simplex-in-ball/'))\n",
    "support_a, support_b, delta = read_tests_simplex_in_ball(f'./tests/10d/simplex-in-ball/{file}', 10)\n",
    "solver_instance = GreedySolver(10, support_a, support_b, num_iterations=500)"
   ]
  },
  {
   "cell_type": "markdown",
   "id": "4da42902-3f86-478c-a78c-d9a92d580a8a",
   "metadata": {},
   "source": [
    "%prun solver_instance.solve()"
   ]
  },
  {
   "cell_type": "markdown",
   "id": "f890c400-eb82-4849-8b51-cd3d9f97b6f5",
   "metadata": {},
   "source": [
    "times_greedy_2d, errors_greedy_2d, d_greedy_2d = get_greedy_polyhedron_in_ball_results(2, silent=True)\n",
    "plot_test_results(times_greedy_2d, errors_greedy_2d, 'GreedySolver, 2d, polyhedron in ball', fit=False, colors=d_greedy_2d, \n",
    "                  colorbar_name='minimal distance from a non-based vertex to the sphere')"
   ]
  },
  {
   "cell_type": "markdown",
   "id": "884a33ff-8801-4619-84b7-b51dcc64edcf",
   "metadata": {},
   "source": [
    "times_greedy_3d, errors_greedy_3d, d_greedy_3d = get_greedy_polyhedron_in_ball_results(3, silent=True) \n",
    "plot_test_results(times_greedy_3d, errors_greedy_3d, 'GreedySolver, 3d, polyhedron in ball', fit=False, colors=d_greedy_3d, \n",
    "                  colorbar_name='minimal distance from a non-based vertex to the sphere')"
   ]
  },
  {
   "cell_type": "markdown",
   "id": "f863e59c-0719-4ac3-a8d5-bbdb4f51a021",
   "metadata": {},
   "source": [
    "times_greedy_4d, errors_greedy_4d, d_greedy_4d = get_greedy_polyhedron_in_ball_results(4, silent=True) \n",
    "plot_test_results(times_greedy_4d, errors_greedy_4d, 'GreedySolver, 4d, polyhedron in ball', fit=False, colors=d_greedy_4d, \n",
    "                  colorbar_name='minimal distance from a non-based vertex to the sphere')"
   ]
  },
  {
   "cell_type": "markdown",
   "id": "d089a6a1-0405-4475-b783-f6e5e6901828",
   "metadata": {},
   "source": [
    "times_greedy_5d, errors_greedy_5d, d_greedy_5d = get_greedy_polyhedron_in_ball_results(5, silent=True) \n",
    "plot_test_results(times_greedy_5d, errors_greedy_5d, 'GreedySolver, 5d, polyhedron in ball', fit=False, colors=d_greedy_5d, \n",
    "                  colorbar_name='minimal distance from a non-based vertex to the sphere')"
   ]
  },
  {
   "cell_type": "markdown",
   "id": "6db0e54d-b024-4dc4-8223-5c5171a662ea",
   "metadata": {},
   "source": [
    "times_greedy_10d, errors_greedy_10d, d_greedy_10d = get_greedy_polyhedron_in_ball_results(10, silent=False) \n",
    "plot_test_results(times_greedy_10d, errors_greedy_10d, 'GreedySolver, 10d, polyhedron in ball', fit=False, colors=d_greedy_10d, \n",
    "                  colorbar_name='minimal distance from a non-based vertex to the sphere')"
   ]
  },
  {
   "cell_type": "code",
   "execution_count": null,
   "id": "fe063273-e09a-411f-9081-7db2b6514ee7",
   "metadata": {},
   "outputs": [],
   "source": []
  },
  {
   "cell_type": "code",
   "execution_count": null,
   "id": "135c23be-d5fe-47e1-93b6-f001d705447b",
   "metadata": {},
   "outputs": [],
   "source": []
  },
  {
   "cell_type": "markdown",
   "id": "cc7d62a5-eb96-48fe-8523-04d05982deb3",
   "metadata": {},
   "source": [
    "times_greedy_2d, errors_greedy_2d = get_greedy_degenerate_simplex_in_ball_results(2, silent=True)\n",
    "plot_test_results(times_greedy_2d, errors_greedy_2d, 'GreedySolver, 2d, degenerate simplex', fit=False)"
   ]
  },
  {
   "cell_type": "markdown",
   "id": "4585abda-fd9f-475a-af09-d6265adc4ef0",
   "metadata": {},
   "source": [
    "times_greedy_3d, errors_greedy_3d = get_greedy_degenerate_simplex_in_ball_results(3, silent=True)\n",
    "plot_test_results(times_greedy_3d, errors_greedy_3d, 'GreedySolver, 3d, degenerate simplex', fit=False)"
   ]
  },
  {
   "cell_type": "markdown",
   "id": "2d7c61e4-721f-476e-91c2-ab66abbd9881",
   "metadata": {},
   "source": [
    "times_greedy_4d, errors_greedy_4d = get_greedy_degenerate_simplex_in_ball_results(4, silent=True)\n",
    "plot_test_results(times_greedy_4d, errors_greedy_4d, 'GreedySolver, 4d, degenerate simplex', fit=False)"
   ]
  },
  {
   "cell_type": "markdown",
   "id": "0fb39fb4-9d53-4ddf-85b5-2e19c9e6c52a",
   "metadata": {},
   "source": [
    "times_greedy_5d, errors_greedy_5d = get_greedy_degenerate_simplex_in_ball_results(5, silent=True)\n",
    "plot_test_results(times_greedy_5d, errors_greedy_5d, 'GreedySolver, 5d, degenerate simplex', fit=False)"
   ]
  },
  {
   "cell_type": "markdown",
   "id": "cfee97ba-6d98-450f-91ce-eb23fd00f99e",
   "metadata": {
    "tags": []
   },
   "source": [
    "times_greedy_10d, errors_greedy_10d = get_greedy_degenerate_simplex_in_ball_results(10, silent=False)\n",
    "plot_test_results(times_greedy_10d, errors_greedy_10d, 'GreedySolver, 10d, degenerate simplex', fit=False)"
   ]
  },
  {
   "cell_type": "code",
   "execution_count": null,
   "id": "1191bbe6-317d-4ba3-8375-f3fbbc5d2a76",
   "metadata": {},
   "outputs": [],
   "source": []
  },
  {
   "cell_type": "markdown",
   "id": "a7094e14-bd5a-4ecc-a1c0-7000c3bc1a30",
   "metadata": {
    "tags": []
   },
   "source": [
    "times_greedy_2d, errors_greedy_2d, deltas_greedy_2d = get_greedy_simplex_plus_ball_in_ball_results(2, silent=True)\n",
    "plot_test_results(times_greedy_2d, errors_greedy_2d, deltas_greedy_2d, 'GreedySolver, 2d, simplex + ball, 50 iterations', fit=False)"
   ]
  },
  {
   "cell_type": "markdown",
   "id": "f7346631-1a21-45d2-9731-57136c2b9151",
   "metadata": {},
   "source": [
    "times_greedy_3d, errors_greedy_3d, deltas_greedy_3d = get_greedy_simplex_plus_ball_in_ball_results(3, silent=True)\n",
    "plot_test_results(times_greedy_3d, errors_greedy_3d, deltas_greedy_3d, 'GreedySolver, 3d, simplex + ball, 50 iterations', fit=False)"
   ]
  },
  {
   "cell_type": "markdown",
   "id": "685f2489-8b64-4be2-9fae-5780fc47d771",
   "metadata": {},
   "source": [
    "times_greedy_4d, errors_greedy_4d, deltas_greedy_4d = get_greedy_simplex_plus_ball_in_ball_results(4, silent=True)\n",
    "plot_test_results(times_greedy_4d, errors_greedy_4d, deltas_greedy_4d, 'GreedySolver, 4d, simplex + ball, 50 iterations', fit=False)"
   ]
  },
  {
   "cell_type": "markdown",
   "id": "48d730be-84f5-404f-a210-9adafc147d05",
   "metadata": {},
   "source": [
    "times_greedy_5d, errors_greedy_5d, deltas_greedy_5d = get_greedy_simplex_plus_ball_in_ball_results(5, silent=True)\n",
    "plot_test_results(times_greedy_5d, errors_greedy_5d, deltas_greedy_5d, 'GreedySolver, 5d, simplex + ball, 80 iterations', fit=False)"
   ]
  },
  {
   "cell_type": "markdown",
   "id": "815998ce-44d3-45ea-94d2-c8202c1176cd",
   "metadata": {
    "tags": []
   },
   "source": [
    "times_greedy_10d, errors_greedy_10d, deltas_greedy_10d = get_greedy_simplex_plus_ball_in_ball_results(10, silent=False)\n",
    "plot_test_results(times_greedy_10d, errors_greedy_10d, deltas_greedy_10d, 'GreedySolver, 10d, simplex + ball, 100 iterations', fit=False)"
   ]
  },
  {
   "cell_type": "code",
   "execution_count": null,
   "id": "b5321e42-07d9-44d2-9f72-afb04a46841d",
   "metadata": {},
   "outputs": [],
   "source": []
  },
  {
   "cell_type": "markdown",
   "id": "969d28af-849b-4701-a792-3ef414178ade",
   "metadata": {
    "tags": []
   },
   "source": [
    "times_greedy_2d, errors_greedy_2d, deltas_greedy_2d = get_greedy_test_results(2, silent=False)\n",
    "plot_test_results(times_greedy_2d, errors_greedy_2d, deltas_greedy_2d, 'GreedySolver, 2d, n(n+1) caps with heuristic, random inscribed simplex', fit=False)"
   ]
  },
  {
   "cell_type": "markdown",
   "id": "6ba5da10-3896-430a-b93e-039a67c6168f",
   "metadata": {
    "tags": []
   },
   "source": [
    "times_greedy_3d, errors_greedy_3d, deltas_greedy_3d = get_greedy_test_results(3, silent=False)\n",
    "plot_test_results(times_greedy_3d, errors_greedy_3d, deltas_greedy_3d, 'GreedySolver, 3d, n(n+1) caps with heuristic, random inscribed simplex', fit=False)"
   ]
  },
  {
   "cell_type": "markdown",
   "id": "d9626817-bc83-4f2c-b840-d5023f8352df",
   "metadata": {},
   "source": [
    "times_greedy_4d, errors_greedy_4d, deltas_greedy_4d = get_greedy_test_results(4, silent=False)\n",
    "plot_test_results(times_greedy_4d, errors_greedy_4d, deltas_greedy_4d, 'GreedySolver, 4d, n(n+1) caps with heuristic, random inscribed simplex', fit=False)"
   ]
  },
  {
   "cell_type": "markdown",
   "id": "f0e4105a-6981-40e4-b027-8e7783cb1272",
   "metadata": {},
   "source": [
    "times_greedy_5d, errors_greedy_5d, deltas_greedy_5d = get_greedy_test_results(5, silent=False)\n",
    "plot_test_results(times_greedy_5d, errors_greedy_5d, deltas_greedy_5d, 'GreedySolver, 5d, n(n+1) caps with heuristic, random inscribed simplex', fit=False)"
   ]
  },
  {
   "cell_type": "markdown",
   "id": "3b394b64-caa8-4248-9fc1-38bbd2a600c4",
   "metadata": {
    "tags": []
   },
   "source": [
    "times_greedy_10d, errors_greedy_10d, deltas_greedy_10d = get_greedy_test_results(10, silent=False)\n",
    "plot_test_results(times_greedy_10d, errors_greedy_10d, deltas_greedy_10d, 'GreedySolver, 10d, n(n+1) caps with heuristic, random inscribed simplex', fit=False)"
   ]
  },
  {
   "cell_type": "markdown",
   "id": "6bcdc672-84c9-4151-b2be-84e99d0d0d72",
   "metadata": {
    "tags": []
   },
   "source": [
    "times_iterative_2d, errors_iterative_2d = get_iterative_test_results(2, 100, silent=True, highest_cap_grid_diameter=3)\n",
    "plot_test_results(times_iterative_2d, errors_iterative_2d, 'IterativeSolver, 2d, n(n+1) caps with startovers, random inscribed simplex', fit=False)"
   ]
  },
  {
   "cell_type": "markdown",
   "id": "3baaf541-e43d-469b-b5b8-7bb5081c737a",
   "metadata": {},
   "source": [
    "times_iterative_3d, errors_iterative_3d = get_iterative_test_results(3, 100, silent=True, highest_cap_grid_diameter=3)\n",
    "plot_test_results(times_iterative_3d, errors_iterative_3d, 'IterativeSolver, 3d, n(n+1) caps with startovers, random inscribed simplex', fit=False)"
   ]
  },
  {
   "cell_type": "markdown",
   "id": "8da5eb04-36b9-4b01-8acc-ca3227246efe",
   "metadata": {},
   "source": [
    "times_iterative_4d, errors_iterative_4d = get_iterative_test_results(4, 100, silent=True, highest_cap_grid_diameter=3)\n",
    "plot_test_results(times_iterative_4d, errors_iterative_4d, 'IterativeSolver, 4d, n(n+1) caps with startovers, random inscribed simplex', fit=False)"
   ]
  },
  {
   "cell_type": "markdown",
   "id": "e1b182d6-5b56-4852-8e24-2aa50b3ad65a",
   "metadata": {},
   "source": [
    "times_iterative_5d, errors_iterative_5d = get_iterative_test_results(5, 100, silent=True, highest_cap_grid_diameter=3)\n",
    "plot_test_results(times_iterative_5d, errors_iterative_5d, 'IterativeSolver, 5d, n(n+1) caps with startovers, random inscribed simplex', fit=False)"
   ]
  },
  {
   "cell_type": "markdown",
   "id": "064a2556-6261-44cc-8ea5-97968bbd2d87",
   "metadata": {},
   "source": [
    "times_baseline_2d, errors_baseline_2d = get_baseline_test_results(2, 1000)"
   ]
  },
  {
   "cell_type": "markdown",
   "id": "053791a1-bf7c-49a9-b491-1772a04df16d",
   "metadata": {},
   "source": [
    "plot_test_results(times_baseline_2d, errors_baseline_2d, 'BaselineSolver, 2d, grid_from_cube, random inscribed simplex')"
   ]
  },
  {
   "cell_type": "markdown",
   "id": "2274b531-c36b-4ec4-9321-85405dc7c6c3",
   "metadata": {},
   "source": [
    "times_baseline_3d, errors_baseline_3d = get_baseline_test_results(3, 1000)"
   ]
  },
  {
   "cell_type": "markdown",
   "id": "9cbd8833-06cf-4d58-b84b-8ed6e17641b8",
   "metadata": {},
   "source": [
    "plot_test_results(times_baseline_3d, errors_baseline_3d, 'BaselineSolver, 3d, grid_from_cube, random inscribed simplex')"
   ]
  },
  {
   "cell_type": "markdown",
   "id": "b6e18b40-46f6-48fe-beea-56c0fa512f7c",
   "metadata": {},
   "source": [
    "times_baseline_4d, errors_baseline_4d = get_baseline_test_results(4, 1000)"
   ]
  },
  {
   "cell_type": "markdown",
   "id": "8d78a71f-ef58-46e4-a75f-83af34495ca4",
   "metadata": {},
   "source": [
    "plot_test_results(times_baseline_4d, errors_baseline_4d, 'BaselineSolver, 4d, grid_from_cube, random inscribed simplex')"
   ]
  },
  {
   "cell_type": "markdown",
   "id": "e9a6727c-0707-49a2-b156-6cf202b11d9a",
   "metadata": {},
   "source": [
    "times_baseline_5d, errors_baseline_5d = get_baseline_test_results(5, 1000)"
   ]
  },
  {
   "cell_type": "markdown",
   "id": "1fef6a7d-eddd-4c8e-b7e4-8ffe0d348b07",
   "metadata": {},
   "source": [
    "plot_test_results(times_baseline_5d, errors_baseline_5d, 'BaselineSolver, 5d, grid_from_cube, random inscribed simplex')"
   ]
  }
 ],
 "metadata": {
  "kernelspec": {
   "display_name": "Python 3 (ipykernel)",
   "language": "python",
   "name": "python3"
  },
  "language_info": {
   "codemirror_mode": {
    "name": "ipython",
    "version": 3
   },
   "file_extension": ".py",
   "mimetype": "text/x-python",
   "name": "python",
   "nbconvert_exporter": "python",
   "pygments_lexer": "ipython3",
   "version": "3.8.10"
  }
 },
 "nbformat": 4,
 "nbformat_minor": 5
}
