{
 "cells": [
  {
   "cell_type": "code",
   "execution_count": 1,
   "id": "f5754fdf-fc77-479e-82a7-2590f554cd16",
   "metadata": {},
   "outputs": [],
   "source": [
    "import numpy as np\n",
    "import typing as tp\n",
    "import matplotlib.pyplot as plt\n",
    "from matplotlib.colors import LogNorm\n",
    "import sys\n",
    "import os\n",
    "import time\n",
    "import random"
   ]
  },
  {
   "cell_type": "code",
   "execution_count": 2,
   "id": "df7da57d-c486-4574-ab97-00cb0fec97bd",
   "metadata": {},
   "outputs": [],
   "source": [
    "from BaselineSolver import BaselineSolver\n",
    "from IterativeSolver import IterativeSolver\n",
    "from GreedySolver import GreedySolver\n",
    "from GradientDescentSolver import GradientDescentSolver\n",
    "from utils import run_tests, read_tests_simplex_in_ball, run_random_test, read_tests_simplex_plus_ball_in_ball\n",
    "from utils import read_tests_degenerate_simplex_in_ball, read_tests_polyhedron_in_ball, read_tests_simplex_in_ball_with_argmaxes\n",
    "from utils import read_tests_simplex_plus_ball_in_ball_with_argmaxes"
   ]
  },
  {
   "cell_type": "code",
   "execution_count": 3,
   "id": "7aeb6a7c-5de3-42bb-b8c5-898efc1dfcfc",
   "metadata": {},
   "outputs": [],
   "source": [
    "support_a, support_b = read_tests_simplex_in_ball_with_argmaxes(f'./tests/3d/simplex-in-ball/10', 3)\n",
    "solver_instance = GradientDescentSolver(3, support_a, support_b, max_num_iterations=100, learning_rate=1)\n",
    "solver_instance.solve()"
   ]
  },
  {
   "cell_type": "code",
   "execution_count": 4,
   "id": "5e1da5f3-6a46-4c7f-b598-3d607761afae",
   "metadata": {},
   "outputs": [],
   "source": [
    "def plot_test_results(times: np.ndarray, t_errors: np.ndarray, title: str, colors: tp.Optional[np.ndarray] = None, fit=True, colorbar_name='delta') -> None:\n",
    "    t_errors_without_zeros = np.copy(t_errors)\n",
    "    t_errors_without_zeros[t_errors_without_zeros == 0.] = 1e-16\n",
    "    \n",
    "    fig = plt.figure(figsize=(10, 7))\n",
    "    ax = fig.add_subplot(111)\n",
    "    plt.xlabel('time, s')\n",
    "    plt.ylabel('t_error')\n",
    "    ax.set_xscale('log')\n",
    "    ax.set_yscale('log')\n",
    "    \n",
    "    if colors is not None:\n",
    "        plt.scatter(times, t_errors_without_zeros, c=colors, cmap='viridis_r', norm=LogNorm())\n",
    "        plt.colorbar(label=colorbar_name)\n",
    "    else:\n",
    "        plt.scatter(times, t_errors_without_zeros)\n",
    "\n",
    "    if fit:\n",
    "        a, b = np.polyfit(np.log(times), np.log(t_errors_without_zeros), 1)\n",
    "        plt.plot(times, np.exp(a * np.log(times) + b), 'r', label=f't_error ~ 1 / time^{-a:.2f}')\n",
    "        plt.legend()\n",
    "    plt.title(title)\n",
    "    plt.savefig(f'figures/{title.replace(\" \", \"_\").replace(\",\", \"\")}')"
   ]
  },
  {
   "cell_type": "code",
   "execution_count": null,
   "id": "7bcc8a56-7f15-4e31-ba02-8e6e2a3c3944",
   "metadata": {},
   "outputs": [],
   "source": [
    "def get_gd_simplex_in_ball_results(dimension: int, silent=True) -> tp.Tuple[np.ndarray, np.ndarray]:\n",
    "    times = []\n",
    "    t_errors = []\n",
    "    for file in sorted(os.listdir(f'./tests/{dimension}d/simplex-in-ball/')):\n",
    "        support_a, support_b = read_tests_simplex_in_ball_with_argmaxes(f'./tests/{dimension}d/simplex-in-ball/{file}', dimension)\n",
    "        solver_instance = GradientDescentSolver(dimension, support_a, support_b, max_num_iterations=100, \n",
    "                                                max_finding_distinct_minimums_attempts=10, learning_rate=1)\n",
    "        start_time = time.time()\n",
    "        solver_instance.solve()\n",
    "        end_time = time.time()\n",
    "        times.append(end_time - start_time)\n",
    "        t_errors.append(abs(1. - solver_instance.t))\n",
    "        if not silent:\n",
    "            print(f'test {file}\\t time {end_time - start_time}\\t t_error {abs(1. - solver_instance.t)}\\t num_iterations {solver_instance.iteration}')\n",
    "\n",
    "    return np.array(times), np.array(t_errors)"
   ]
  },
  {
   "cell_type": "code",
   "execution_count": 15,
   "id": "a4cc732a-d457-4e4a-a84b-610a3e8a3266",
   "metadata": {},
   "outputs": [],
   "source": [
    "def get_gd_simplex_plus_ball_in_ball_results(dimension: int, silent=True) -> tp.Tuple[np.ndarray, np.ndarray]:\n",
    "    times = []\n",
    "    t_errors = []\n",
    "    for file in sorted(os.listdir(f'./tests/{dimension}d/simplex-in-ball/')):\n",
    "        support_a, support_b = read_tests_simplex_plus_ball_in_ball_with_argmaxes(f'./tests/{dimension}d/simplex-plus-ball-in-ball/{file}', dimension)\n",
    "        solver_instance = GradientDescentSolver(dimension, support_a, support_b, max_num_iterations=20, \n",
    "                                                max_finding_distinct_minimums_attempts=10, learning_rate=1)\n",
    "        start_time = time.time()\n",
    "        solver_instance.solve()\n",
    "        end_time = time.time()\n",
    "        times.append(end_time - start_time)\n",
    "        t_errors.append(abs(1. - solver_instance.t))\n",
    "        if not silent:\n",
    "            print(f'test {file}\\t time {end_time - start_time}\\t t_error {abs(1. - solver_instance.t)}\\t num_iterations {solver_instance.iteration}')\n",
    "\n",
    "    return np.array(times), np.array(t_errors)"
   ]
  },
  {
   "cell_type": "code",
   "execution_count": 8,
   "id": "2685a5c8-5f58-4b4f-9738-abdb9f829ce7",
   "metadata": {},
   "outputs": [
    {
     "name": "stdout",
     "output_type": "stream",
     "text": [
      "test 1\t time 0.07392334938049316\t t_error 2.220446049250313e-16\t num_iterations 5\n",
      "test 10\t time 0.019028425216674805\t t_error 0.0\t num_iterations 5\n",
      "test 100\t time 0.014132499694824219\t t_error 0.0\t num_iterations 5\n",
      "test 11\t time 0.030141830444335938\t t_error 3.3306690738754696e-16\t num_iterations 6\n",
      "test 12\t time 0.02427053451538086\t t_error 0.0\t num_iterations 5\n",
      "test 13\t time 0.16266894340515137\t t_error 1.1102230246251565e-16\t num_iterations 7\n",
      "test 14\t time 0.015230178833007812\t t_error 0.0\t num_iterations 5\n",
      "test 15\t time 0.037656545639038086\t t_error 0.0\t num_iterations 5\n",
      "test 16\t time 0.015757083892822266\t t_error 0.0\t num_iterations 5\n",
      "test 17\t time 0.11989498138427734\t t_error 1.1102230246251565e-16\t num_iterations 12\n",
      "test 18\t time 0.0068912506103515625\t t_error 0.0\t num_iterations 5\n",
      "test 19\t time 0.02501225471496582\t t_error 2.220446049250313e-16\t num_iterations 5\n",
      "test 2\t time 0.1884772777557373\t t_error 4.440892098500626e-16\t num_iterations 5\n",
      "test 20\t time 0.02569746971130371\t t_error 0.0\t num_iterations 5\n",
      "test 21\t time 0.015564680099487305\t t_error 4.440892098500626e-16\t num_iterations 5\n",
      "test 22\t time 0.012008428573608398\t t_error 0.0\t num_iterations 5\n",
      "test 23\t time 0.02046060562133789\t t_error 0.0\t num_iterations 5\n",
      "test 24\t time 0.15696334838867188\t t_error 0.0\t num_iterations 5\n",
      "test 25\t time 0.025619983673095703\t t_error 4.440892098500626e-16\t num_iterations 5\n",
      "test 26\t time 0.04515337944030762\t t_error 4.440892098500626e-16\t num_iterations 5\n",
      "test 27\t time 0.013202905654907227\t t_error 2.220446049250313e-16\t num_iterations 5\n",
      "test 28\t time 0.01111292839050293\t t_error 0.0\t num_iterations 5\n",
      "test 29\t time 0.027804851531982422\t t_error 1.7763568394002505e-15\t num_iterations 5\n",
      "test 3\t time 0.02310323715209961\t t_error 2.220446049250313e-16\t num_iterations 5\n",
      "test 30\t time 0.08352780342102051\t t_error 0.0\t num_iterations 5\n",
      "test 31\t time 0.010129451751708984\t t_error 0.0\t num_iterations 5\n",
      "test 32\t time 0.03253507614135742\t t_error 4.440892098500626e-16\t num_iterations 5\n",
      "test 33\t time 0.01658487319946289\t t_error 4.440892098500626e-16\t num_iterations 5\n",
      "test 34\t time 0.022716999053955078\t t_error 0.0\t num_iterations 5\n",
      "test 35\t time 0.008690118789672852\t t_error 0.0\t num_iterations 5\n",
      "test 36\t time 0.013855218887329102\t t_error 1.1102230246251565e-16\t num_iterations 5\n",
      "test 37\t time 0.008486032485961914\t t_error 0.0\t num_iterations 5\n",
      "test 38\t time 0.011878728866577148\t t_error 0.0\t num_iterations 5\n",
      "test 39\t time 0.0503385066986084\t t_error 0.0\t num_iterations 4\n",
      "test 4\t time 0.00980067253112793\t t_error 1.1102230246251565e-16\t num_iterations 5\n",
      "test 40\t time 0.01230001449584961\t t_error 0.0\t num_iterations 4\n",
      "test 41\t time 0.01176595687866211\t t_error 0.0\t num_iterations 5\n",
      "test 42\t time 0.01489400863647461\t t_error 0.0\t num_iterations 5\n",
      "test 43\t time 0.02460169792175293\t t_error 4.440892098500626e-16\t num_iterations 5\n",
      "test 44\t time 0.19349884986877441\t t_error 0.0\t num_iterations 4\n",
      "test 45\t time 0.05828666687011719\t t_error 0.0\t num_iterations 5\n",
      "test 46\t time 0.16640329360961914\t t_error 3.3306690738754696e-16\t num_iterations 5\n",
      "test 47\t time 0.04470062255859375\t t_error 0.0\t num_iterations 5\n",
      "test 48\t time 0.0928492546081543\t t_error 6.661338147750939e-16\t num_iterations 5\n",
      "test 49\t time 0.0160062313079834\t t_error 0.0\t num_iterations 5\n",
      "test 5\t time 0.15617775917053223\t t_error 1.1102230246251565e-16\t num_iterations 6\n",
      "test 50\t time 0.05118298530578613\t t_error 2.220446049250313e-16\t num_iterations 5\n",
      "test 51\t time 0.02726888656616211\t t_error 2.220446049250313e-16\t num_iterations 5\n",
      "test 52\t time 0.5588779449462891\t t_error 2.220446049250313e-16\t num_iterations 5\n",
      "test 53\t time 0.012622594833374023\t t_error 1.1102230246251565e-16\t num_iterations 5\n",
      "test 54\t time 0.012227535247802734\t t_error 0.0\t num_iterations 5\n",
      "test 55\t time 0.020076513290405273\t t_error 0.0\t num_iterations 5\n",
      "test 56\t time 0.022787809371948242\t t_error 6.661338147750939e-16\t num_iterations 5\n",
      "test 57\t time 0.15492796897888184\t t_error 2.220446049250313e-16\t num_iterations 5\n",
      "test 58\t time 0.019086360931396484\t t_error 2.220446049250313e-16\t num_iterations 5\n",
      "test 59\t time 0.5610616207122803\t t_error 4.440892098500626e-16\t num_iterations 5\n",
      "test 6\t time 0.027868270874023438\t t_error 0.0\t num_iterations 5\n",
      "test 60\t time 0.02089214324951172\t t_error 0.0\t num_iterations 5\n",
      "test 61\t time 0.019550323486328125\t t_error 0.0\t num_iterations 5\n",
      "test 62\t time 0.04602169990539551\t t_error 0.0\t num_iterations 5\n",
      "test 63\t time 0.01654529571533203\t t_error 0.0\t num_iterations 5\n",
      "test 64\t time 0.08613777160644531\t t_error 0.0\t num_iterations 5\n",
      "test 65\t time 0.014706611633300781\t t_error 0.0\t num_iterations 5\n",
      "test 66\t time 0.5155847072601318\t t_error 2.220446049250313e-16\t num_iterations 4\n",
      "test 67\t time 0.06180596351623535\t t_error 2.220446049250313e-16\t num_iterations 5\n",
      "test 68\t time 0.015690088272094727\t t_error 0.0\t num_iterations 5\n",
      "test 69\t time 0.04990100860595703\t t_error 4.440892098500626e-16\t num_iterations 5\n",
      "test 7\t time 0.12774038314819336\t t_error 0.0\t num_iterations 5\n",
      "test 70\t time 0.0632333755493164\t t_error 0.0\t num_iterations 5\n",
      "test 71\t time 0.01888561248779297\t t_error 4.440892098500626e-16\t num_iterations 5\n",
      "test 72\t time 0.01740550994873047\t t_error 2.220446049250313e-16\t num_iterations 5\n",
      "test 73\t time 0.05489921569824219\t t_error 2.220446049250313e-16\t num_iterations 5\n",
      "test 74\t time 0.023035764694213867\t t_error 4.440892098500626e-16\t num_iterations 5\n",
      "test 75\t time 0.02833247184753418\t t_error 4.440892098500626e-16\t num_iterations 5\n",
      "test 76\t time 0.02167487144470215\t t_error 2.220446049250313e-16\t num_iterations 5\n",
      "test 77\t time 1.5892882347106934\t t_error 2.220446049250313e-16\t num_iterations 5\n",
      "test 78\t time 0.12291955947875977\t t_error 4.440892098500626e-16\t num_iterations 5\n",
      "test 79\t time 0.029134035110473633\t t_error 2.220446049250313e-16\t num_iterations 5\n",
      "test 8\t time 2.4217991828918457\t t_error 4.440892098500626e-16\t num_iterations 4\n",
      "test 80\t time 0.01201486587524414\t t_error 0.0\t num_iterations 5\n",
      "test 81\t time 0.03739213943481445\t t_error 0.0\t num_iterations 5\n",
      "test 82\t time 0.007529497146606445\t t_error 2.220446049250313e-16\t num_iterations 5\n",
      "test 83\t time 0.014158964157104492\t t_error 0.0\t num_iterations 5\n",
      "test 84\t time 0.014223575592041016\t t_error 2.220446049250313e-16\t num_iterations 5\n",
      "test 85\t time 0.021216154098510742\t t_error 2.220446049250313e-16\t num_iterations 5\n",
      "test 86\t time 0.12950539588928223\t t_error 0.0\t num_iterations 4\n",
      "test 87\t time 0.04584670066833496\t t_error 4.440892098500626e-16\t num_iterations 5\n",
      "test 88\t time 0.0728909969329834\t t_error 4.440892098500626e-16\t num_iterations 5\n",
      "test 89\t time 0.012920856475830078\t t_error 8.881784197001252e-16\t num_iterations 6\n",
      "test 9\t time 0.11242985725402832\t t_error 8.881784197001252e-16\t num_iterations 5\n",
      "test 90\t time 0.013164043426513672\t t_error 1.1102230246251565e-16\t num_iterations 5\n",
      "test 91\t time 0.009552478790283203\t t_error 0.0\t num_iterations 5\n",
      "test 92\t time 0.05151224136352539\t t_error 1.1102230246251565e-16\t num_iterations 5\n",
      "test 93\t time 0.07855582237243652\t t_error 8.881784197001252e-16\t num_iterations 8\n",
      "test 94\t time 0.006989240646362305\t t_error 2.220446049250313e-16\t num_iterations 5\n",
      "test 95\t time 0.07198524475097656\t t_error 0.0\t num_iterations 5\n",
      "test 96\t time 0.011176109313964844\t t_error 0.0\t num_iterations 5\n",
      "test 97\t time 0.008989810943603516\t t_error 1.1102230246251565e-16\t num_iterations 5\n",
      "test 98\t time 0.22362256050109863\t t_error 0.0\t num_iterations 10\n",
      "test 99\t time 0.016658544540405273\t t_error 2.220446049250313e-16\t num_iterations 5\n"
     ]
    },
    {
     "data": {
      "image/png": "[encoded data removed]",
      "text/plain": [
       "<Figure size 1000x700 with 1 Axes>"
      ]
     },
     "metadata": {},
     "output_type": "display_data"
    }
   ],
   "source": [
    "times_gd, errors_gd = get_gd_simplex_plus_ball_in_ball_results(5, silent=False)\n",
    "plot_test_results(times_gd, errors_gd, 'GD, 5d, simplex plus ball in ball', fit=False)"
   ]
  },
  {
   "cell_type": "code",
   "execution_count": 9,
   "id": "708dea75-3b8b-46e3-9a86-6c87c624f909",
   "metadata": {},
   "outputs": [
    {
     "name": "stdout",
     "output_type": "stream",
     "text": [
      "test 1\t time 0.09898805618286133\t t_error 2.220446049250313e-16\t num_iterations 5\n",
      "test 10\t time 0.03231453895568848\t t_error 0.0\t num_iterations 5\n",
      "test 100\t time 0.04432177543640137\t t_error 0.0\t num_iterations 5\n",
      "test 11\t time 0.032901763916015625\t t_error 2.220446049250313e-16\t num_iterations 5\n",
      "test 12\t time 0.030595064163208008\t t_error 4.440892098500626e-16\t num_iterations 5\n",
      "test 13\t time 0.05573225021362305\t t_error 4.440892098500626e-16\t num_iterations 5\n",
      "test 14\t time 0.08672237396240234\t t_error 6.661338147750939e-16\t num_iterations 5\n",
      "test 15\t time 0.03840041160583496\t t_error 0.0\t num_iterations 5\n",
      "test 16\t time 0.2428147792816162\t t_error 4.440892098500626e-16\t num_iterations 5\n",
      "test 17\t time 0.06442427635192871\t t_error 1.1102230246251565e-16\t num_iterations 5\n",
      "test 18\t time 0.2046971321105957\t t_error 0.0\t num_iterations 5\n",
      "test 19\t time 0.06218695640563965\t t_error 0.0\t num_iterations 5\n",
      "test 2\t time 0.1212160587310791\t t_error 1.1102230246251565e-15\t num_iterations 5\n",
      "test 20\t time 0.04784083366394043\t t_error 2.220446049250313e-16\t num_iterations 5\n",
      "test 21\t time 0.03780341148376465\t t_error 0.0\t num_iterations 5\n",
      "test 22\t time 0.035651206970214844\t t_error 0.0\t num_iterations 5\n",
      "test 23\t time 0.06748747825622559\t t_error 1.1102230246251565e-16\t num_iterations 5\n",
      "test 24\t time 0.13118243217468262\t t_error 2.220446049250313e-16\t num_iterations 5\n",
      "test 25\t time 0.043933868408203125\t t_error 2.220446049250313e-16\t num_iterations 5\n",
      "test 26\t time 0.040068864822387695\t t_error 0.0\t num_iterations 5\n",
      "test 27\t time 0.028148412704467773\t t_error 4.440892098500626e-16\t num_iterations 5\n",
      "test 28\t time 0.04796099662780762\t t_error 2.220446049250313e-16\t num_iterations 5\n",
      "test 29\t time 0.02333998680114746\t t_error 4.440892098500626e-16\t num_iterations 5\n",
      "test 3\t time 0.11632013320922852\t t_error 2.220446049250313e-16\t num_iterations 5\n",
      "test 30\t time 0.0416712760925293\t t_error 6.661338147750939e-16\t num_iterations 5\n",
      "test 31\t time 0.05531048774719238\t t_error 2.220446049250313e-16\t num_iterations 5\n",
      "test 32\t time 0.0289459228515625\t t_error 2.220446049250313e-16\t num_iterations 5\n",
      "test 33\t time 0.0260162353515625\t t_error 2.220446049250313e-16\t num_iterations 5\n",
      "test 34\t time 0.023619413375854492\t t_error 2.220446049250313e-16\t num_iterations 5\n",
      "test 35\t time 0.09318780899047852\t t_error 2.220446049250313e-16\t num_iterations 5\n",
      "test 36\t time 0.03720736503601074\t t_error 0.0\t num_iterations 5\n",
      "test 37\t time 0.12821292877197266\t t_error 0.0\t num_iterations 5\n",
      "test 38\t time 0.019699573516845703\t t_error 8.881784197001252e-16\t num_iterations 5\n",
      "test 39\t time 0.12691044807434082\t t_error 2.220446049250313e-16\t num_iterations 5\n",
      "test 4\t time 0.06131267547607422\t t_error 4.440892098500626e-16\t num_iterations 5\n",
      "test 40\t time 0.08675670623779297\t t_error 2.220446049250313e-16\t num_iterations 5\n",
      "test 41\t time 0.14304208755493164\t t_error 0.0\t num_iterations 5\n",
      "test 42\t time 0.1272263526916504\t t_error 4.440892098500626e-16\t num_iterations 5\n",
      "test 43\t time 0.03028726577758789\t t_error 0.0\t num_iterations 5\n",
      "test 44\t time 0.027126073837280273\t t_error 0.0\t num_iterations 5\n",
      "test 45\t time 0.0727701187133789\t t_error 0.0\t num_iterations 5\n",
      "test 46\t time 0.037522315979003906\t t_error 2.220446049250313e-16\t num_iterations 5\n",
      "test 47\t time 0.024019241333007812\t t_error 2.220446049250313e-16\t num_iterations 6\n",
      "test 48\t time 0.031107187271118164\t t_error 2.220446049250313e-16\t num_iterations 5\n",
      "test 49\t time 0.04767274856567383\t t_error 1.1102230246251565e-16\t num_iterations 5\n",
      "test 5\t time 0.0820763111114502\t t_error 2.220446049250313e-16\t num_iterations 5\n",
      "test 50\t time 0.06591320037841797\t t_error 4.440892098500626e-16\t num_iterations 5\n",
      "test 51\t time 0.03324770927429199\t t_error 2.220446049250313e-16\t num_iterations 5\n",
      "test 52\t time 0.016141653060913086\t t_error 3.3306690738754696e-16\t num_iterations 5\n",
      "test 53\t time 0.2166731357574463\t t_error 4.440892098500626e-16\t num_iterations 5\n",
      "test 54\t time 0.06307625770568848\t t_error 2.220446049250313e-16\t num_iterations 5\n",
      "test 55\t time 0.8968093395233154\t t_error 2.220446049250313e-16\t num_iterations 4\n",
      "test 56\t time 0.023559093475341797\t t_error 3.3306690738754696e-16\t num_iterations 5\n",
      "test 57\t time 0.028194904327392578\t t_error 2.4424906541753444e-15\t num_iterations 5\n",
      "test 58\t time 0.7731990814208984\t t_error 6.661338147750939e-16\t num_iterations 5\n",
      "test 59\t time 0.16060495376586914\t t_error 2.220446049250313e-16\t num_iterations 5\n",
      "test 6\t time 0.09373044967651367\t t_error 2.220446049250313e-16\t num_iterations 5\n",
      "test 60\t time 0.0357966423034668\t t_error 2.220446049250313e-16\t num_iterations 5\n",
      "test 61\t time 0.0695033073425293\t t_error 0.0\t num_iterations 5\n",
      "test 62\t time 0.0489656925201416\t t_error 2.220446049250313e-16\t num_iterations 5\n",
      "test 63\t time 0.02715015411376953\t t_error 3.3306690738754696e-16\t num_iterations 5\n",
      "test 64\t time 0.03576374053955078\t t_error 0.0\t num_iterations 5\n",
      "test 65\t time 0.04649996757507324\t t_error 0.0\t num_iterations 5\n",
      "test 66\t time 0.028304576873779297\t t_error 0.0\t num_iterations 5\n",
      "test 67\t time 0.0214080810546875\t t_error 0.0\t num_iterations 5\n",
      "test 68\t time 0.4811398983001709\t t_error 4.440892098500626e-16\t num_iterations 5\n",
      "test 69\t time 0.16634631156921387\t t_error 2.220446049250313e-16\t num_iterations 5\n",
      "test 7\t time 0.06187796592712402\t t_error 0.0\t num_iterations 5\n",
      "test 70\t time 0.0303497314453125\t t_error 0.0\t num_iterations 5\n",
      "test 71\t time 0.042337656021118164\t t_error 1.1102230246251565e-16\t num_iterations 5\n",
      "test 72\t time 0.037957191467285156\t t_error 0.0\t num_iterations 5\n",
      "test 73\t time 0.038988590240478516\t t_error 2.220446049250313e-16\t num_iterations 5\n",
      "test 74\t time 0.035120487213134766\t t_error 4.440892098500626e-16\t num_iterations 5\n",
      "test 75\t time 0.05536365509033203\t t_error 2.220446049250313e-16\t num_iterations 5\n",
      "test 76\t time 0.03354644775390625\t t_error 0.0\t num_iterations 5\n",
      "test 77\t time 0.12441849708557129\t t_error 0.0\t num_iterations 5\n",
      "test 78\t time 0.03773784637451172\t t_error 2.220446049250313e-16\t num_iterations 5\n",
      "test 79\t time 0.04183197021484375\t t_error 5.551115123125783e-16\t num_iterations 5\n",
      "test 8\t time 0.039420366287231445\t t_error 2.220446049250313e-16\t num_iterations 5\n",
      "test 80\t time 0.026596784591674805\t t_error 8.881784197001252e-16\t num_iterations 5\n",
      "test 81\t time 0.026316165924072266\t t_error 2.220446049250313e-16\t num_iterations 5\n",
      "test 82\t time 0.0687112808227539\t t_error 0.0\t num_iterations 5\n",
      "test 83\t time 0.02377152442932129\t t_error 2.220446049250313e-16\t num_iterations 5\n",
      "test 84\t time 0.0350496768951416\t t_error 1.1102230246251565e-15\t num_iterations 5\n",
      "test 85\t time 0.0336308479309082\t t_error 0.0\t num_iterations 5\n",
      "test 86\t time 0.04058504104614258\t t_error 0.0\t num_iterations 5\n",
      "test 87\t time 0.025950908660888672\t t_error 4.440892098500626e-16\t num_iterations 5\n",
      "test 88\t time 0.018175601959228516\t t_error 0.0\t num_iterations 5\n",
      "test 89\t time 0.04274725914001465\t t_error 2.220446049250313e-16\t num_iterations 5\n",
      "test 9\t time 0.03417706489562988\t t_error 2.220446049250313e-16\t num_iterations 5\n",
      "test 90\t time 0.06694793701171875\t t_error 2.220446049250313e-16\t num_iterations 5\n",
      "test 91\t time 0.801856279373169\t t_error 0.0\t num_iterations 5\n",
      "test 92\t time 0.2847566604614258\t t_error 1.7763568394002505e-15\t num_iterations 5\n",
      "test 93\t time 0.06856083869934082\t t_error 4.440892098500626e-16\t num_iterations 5\n",
      "test 94\t time 0.046300649642944336\t t_error 0.0\t num_iterations 5\n",
      "test 95\t time 0.030070781707763672\t t_error 2.220446049250313e-16\t num_iterations 5\n",
      "test 96\t time 0.2894158363342285\t t_error 4.440892098500626e-16\t num_iterations 6\n",
      "test 97\t time 0.02352428436279297\t t_error 0.0\t num_iterations 5\n",
      "test 98\t time 0.32361626625061035\t t_error 2.220446049250313e-16\t num_iterations 5\n",
      "test 99\t time 0.03506731986999512\t t_error 0.0\t num_iterations 5\n"
     ]
    },
    {
     "data": {
      "image/png": "[encoded data removed]",
      "text/plain": [
       "<Figure size 1000x700 with 1 Axes>"
      ]
     },
     "metadata": {},
     "output_type": "display_data"
    }
   ],
   "source": [
    "times_gd, errors_gd = get_gd_simplex_plus_ball_in_ball_results(10, silent=False)\n",
    "plot_test_results(times_gd, errors_gd, 'GD, 10d, simplex plus ball in ball', fit=False)"
   ]
  },
  {
   "cell_type": "code",
   "execution_count": 11,
   "id": "4813e248-aa57-44d6-984c-f7f54a57ecad",
   "metadata": {},
   "outputs": [
    {
     "name": "stdout",
     "output_type": "stream",
     "text": [
      "test 1\t time 0.13470864295959473\t t_error 0.0\t num_iterations 5\n",
      "test 10\t time 0.07555532455444336\t t_error 5.551115123125783e-16\t num_iterations 5\n",
      "test 100\t time 0.08571982383728027\t t_error 9.992007221626409e-16\t num_iterations 5\n",
      "test 11\t time 0.20658564567565918\t t_error 0.0\t num_iterations 5\n",
      "test 12\t time 0.05744314193725586\t t_error 0.0\t num_iterations 5\n",
      "test 13\t time 0.3383498191833496\t t_error 4.440892098500626e-16\t num_iterations 5\n",
      "test 14\t time 0.09408402442932129\t t_error 0.0\t num_iterations 5\n",
      "test 15\t time 0.0719304084777832\t t_error 0.0\t num_iterations 5\n",
      "test 16\t time 0.07077932357788086\t t_error 6.661338147750939e-16\t num_iterations 5\n",
      "test 17\t time 0.07498526573181152\t t_error 2.220446049250313e-16\t num_iterations 6\n",
      "test 18\t time 0.10362553596496582\t t_error 2.220446049250313e-16\t num_iterations 5\n",
      "test 19\t time 0.062308311462402344\t t_error 3.3306690738754696e-16\t num_iterations 5\n",
      "test 2\t time 0.061313629150390625\t t_error 8.881784197001252e-16\t num_iterations 6\n",
      "test 20\t time 0.05735301971435547\t t_error 3.3306690738754696e-16\t num_iterations 5\n",
      "test 21\t time 0.04648995399475098\t t_error 2.220446049250313e-16\t num_iterations 5\n",
      "test 22\t time 0.21898865699768066\t t_error 2.220446049250313e-16\t num_iterations 5\n",
      "test 23\t time 0.5734772682189941\t t_error 4.440892098500626e-16\t num_iterations 5\n",
      "test 24\t time 0.357407808303833\t t_error 4.440892098500626e-16\t num_iterations 5\n",
      "test 25\t time 0.11244535446166992\t t_error 1.6653345369377348e-15\t num_iterations 5\n",
      "test 26\t time 0.15535569190979004\t t_error 5.551115123125783e-16\t num_iterations 5\n",
      "test 27\t time 0.06386423110961914\t t_error 5.551115123125783e-16\t num_iterations 5\n",
      "test 28\t time 0.10806727409362793\t t_error 4.440892098500626e-16\t num_iterations 5\n",
      "test 29\t time 0.08574461936950684\t t_error 1.1102230246251565e-16\t num_iterations 5\n",
      "test 3\t time 0.08015131950378418\t t_error 3.3306690738754696e-16\t num_iterations 5\n",
      "test 30\t time 0.043534278869628906\t t_error 5.551115123125783e-16\t num_iterations 5\n",
      "test 31\t time 0.5298347473144531\t t_error 4.440892098500626e-16\t num_iterations 5\n",
      "test 32\t time 0.25846338272094727\t t_error 4.884981308350689e-15\t num_iterations 5\n",
      "test 33\t time 0.05820655822753906\t t_error 3.3306690738754696e-16\t num_iterations 5\n",
      "test 34\t time 0.0992898941040039\t t_error 2.220446049250313e-16\t num_iterations 5\n",
      "test 35\t time 0.08423018455505371\t t_error 1.1102230246251565e-16\t num_iterations 5\n",
      "test 36\t time 0.07135462760925293\t t_error 0.0\t num_iterations 5\n",
      "test 37\t time 0.062283992767333984\t t_error 0.0\t num_iterations 5\n",
      "test 38\t time 0.10004138946533203\t t_error 0.0\t num_iterations 5\n",
      "test 39\t time 0.07872819900512695\t t_error 2.220446049250313e-16\t num_iterations 5\n",
      "test 4\t time 0.047267913818359375\t t_error 1.887379141862766e-15\t num_iterations 6\n",
      "test 40\t time 0.10885858535766602\t t_error 2.220446049250313e-16\t num_iterations 5\n",
      "test 41\t time 0.11745190620422363\t t_error 2.220446049250313e-15\t num_iterations 6\n",
      "test 42\t time 0.13400626182556152\t t_error 8.881784197001252e-16\t num_iterations 5\n",
      "test 43\t time 0.06508851051330566\t t_error 1.4432899320127035e-15\t num_iterations 5\n",
      "test 44\t time 0.05804872512817383\t t_error 1.1102230246251565e-16\t num_iterations 5\n",
      "test 45\t time 0.046534061431884766\t t_error 2.220446049250313e-16\t num_iterations 5\n",
      "test 46\t time 0.08578181266784668\t t_error 1.5543122344752192e-15\t num_iterations 5\n",
      "test 47\t time 0.12619805335998535\t t_error 1.1102230246251565e-16\t num_iterations 5\n",
      "test 48\t time 0.0453493595123291\t t_error 8.881784197001252e-16\t num_iterations 5\n",
      "test 49\t time 0.12921738624572754\t t_error 4.440892098500626e-16\t num_iterations 5\n",
      "test 5\t time 0.16401147842407227\t t_error 5.551115123125783e-16\t num_iterations 5\n",
      "test 50\t time 0.5958428382873535\t t_error 1.1102230246251565e-15\t num_iterations 5\n",
      "test 51\t time 0.33463478088378906\t t_error 4.440892098500626e-16\t num_iterations 5\n",
      "test 52\t time 0.08794546127319336\t t_error 2.220446049250313e-16\t num_iterations 5\n",
      "test 53\t time 0.07761502265930176\t t_error 7.771561172376096e-16\t num_iterations 5\n",
      "test 54\t time 0.09793996810913086\t t_error 2.220446049250313e-16\t num_iterations 5\n",
      "test 55\t time 0.0498814582824707\t t_error 1.1102230246251565e-16\t num_iterations 5\n",
      "test 56\t time 0.12456321716308594\t t_error 2.220446049250313e-16\t num_iterations 5\n",
      "test 57\t time 0.0893256664276123\t t_error 1.1102230246251565e-15\t num_iterations 5\n",
      "test 58\t time 11.277302742004395\t t_error 4.440892098500626e-16\t num_iterations 5\n",
      "test 59\t time 0.12086701393127441\t t_error 0.0\t num_iterations 5\n",
      "test 6\t time 0.05505871772766113\t t_error 4.440892098500626e-16\t num_iterations 5\n",
      "test 60\t time 0.13209056854248047\t t_error 1.9984014443252818e-15\t num_iterations 5\n",
      "test 61\t time 0.5383062362670898\t t_error 6.661338147750939e-16\t num_iterations 6\n",
      "test 62\t time 0.06627655029296875\t t_error 2.220446049250313e-16\t num_iterations 5\n",
      "test 63\t time 0.1730031967163086\t t_error 2.220446049250313e-16\t num_iterations 5\n",
      "test 64\t time 0.14336204528808594\t t_error 6.661338147750939e-16\t num_iterations 5\n",
      "test 65\t time 0.15532636642456055\t t_error 1.887379141862766e-15\t num_iterations 6\n",
      "test 66\t time 0.8084688186645508\t t_error 4.440892098500626e-16\t num_iterations 5\n",
      "test 67\t time 0.3078618049621582\t t_error 4.440892098500626e-16\t num_iterations 5\n",
      "test 68\t time 0.05160260200500488\t t_error 2.220446049250313e-16\t num_iterations 5\n",
      "test 69\t time 0.2447803020477295\t t_error 0.0\t num_iterations 5\n",
      "test 7\t time 0.13698649406433105\t t_error 5.551115123125783e-16\t num_iterations 5\n",
      "test 70\t time 0.14308381080627441\t t_error 6.661338147750939e-16\t num_iterations 5\n",
      "test 71\t time 0.1306624412536621\t t_error 5.551115123125783e-16\t num_iterations 5\n",
      "test 72\t time 0.18860721588134766\t t_error 7.771561172376096e-16\t num_iterations 5\n",
      "test 73\t time 0.1285698413848877\t t_error 8.881784197001252e-16\t num_iterations 5\n",
      "test 74\t time 0.12595033645629883\t t_error 2.220446049250313e-16\t num_iterations 5\n",
      "test 75\t time 0.16636943817138672\t t_error 4.440892098500626e-16\t num_iterations 5\n",
      "test 76\t time 0.11269998550415039\t t_error 4.440892098500626e-16\t num_iterations 5\n",
      "test 77\t time 0.18556809425354004\t t_error 1.9984014443252818e-15\t num_iterations 5\n",
      "test 78\t time 0.12899994850158691\t t_error 0.0\t num_iterations 5\n",
      "test 79\t time 0.11476516723632812\t t_error 0.0\t num_iterations 5\n",
      "test 8\t time 0.1342146396636963\t t_error 1.1102230246251565e-15\t num_iterations 5\n",
      "test 80\t time 0.1819465160369873\t t_error 2.3314683517128287e-15\t num_iterations 6\n",
      "test 81\t time 0.0896902084350586\t t_error 2.220446049250313e-16\t num_iterations 5\n",
      "test 82\t time 0.15575933456420898\t t_error 1.5543122344752192e-15\t num_iterations 5\n",
      "test 83\t time 0.11953353881835938\t t_error 2.220446049250313e-16\t num_iterations 5\n",
      "test 84\t time 0.299328088760376\t t_error 1.1102230246251565e-16\t num_iterations 5\n",
      "test 85\t time 0.07452988624572754\t t_error 0.0\t num_iterations 5\n",
      "test 86\t time 0.3034062385559082\t t_error 6.661338147750939e-16\t num_iterations 5\n",
      "test 87\t time 0.10559725761413574\t t_error 1.1102230246251565e-16\t num_iterations 5\n",
      "test 88\t time 0.280057430267334\t t_error 2.220446049250313e-16\t num_iterations 5\n",
      "test 89\t time 0.07687807083129883\t t_error 4.440892098500626e-16\t num_iterations 5\n",
      "test 9\t time 0.19689273834228516\t t_error 7.771561172376096e-16\t num_iterations 5\n",
      "test 90\t time 2.5230133533477783\t t_error 2.220446049250313e-16\t num_iterations 5\n",
      "test 91\t time 0.09051799774169922\t t_error 0.0\t num_iterations 5\n",
      "test 92\t time 0.1077110767364502\t t_error 7.771561172376096e-16\t num_iterations 5\n",
      "test 93\t time 0.19499874114990234\t t_error 0.0\t num_iterations 5\n",
      "test 94\t time 0.1833944320678711\t t_error 0.0\t num_iterations 5\n",
      "test 95\t time 0.11821436882019043\t t_error 7.771561172376096e-16\t num_iterations 6\n",
      "test 96\t time 0.10482954978942871\t t_error 4.440892098500626e-16\t num_iterations 5\n",
      "test 97\t time 0.07902884483337402\t t_error 6.661338147750939e-16\t num_iterations 5\n",
      "test 98\t time 0.13141107559204102\t t_error 0.0\t num_iterations 5\n",
      "test 99\t time 0.10904741287231445\t t_error 2.4424906541753444e-15\t num_iterations 5\n"
     ]
    },
    {
     "data": {
      "image/png": "[encoded data removed]",
      "text/plain": [
       "<Figure size 1000x700 with 1 Axes>"
      ]
     },
     "metadata": {},
     "output_type": "display_data"
    }
   ],
   "source": [
    "times_gd, errors_gd = get_gd_simplex_plus_ball_in_ball_results(20, silent=False)\n",
    "plot_test_results(times_gd, errors_gd, 'GD, 20d, simplex plus ball in ball', fit=False)"
   ]
  },
  {
   "cell_type": "code",
   "execution_count": 12,
   "id": "0bf16942-6624-40cd-ba27-2fa07f8539b9",
   "metadata": {},
   "outputs": [
    {
     "name": "stdout",
     "output_type": "stream",
     "text": [
      "test 1\t time 0.26169276237487793\t t_error 5.551115123125783e-16\t num_iterations 5\n",
      "test 10\t time 0.26874852180480957\t t_error 2.220446049250313e-16\t num_iterations 5\n",
      "test 100\t time 0.28551745414733887\t t_error 1.3322676295501878e-15\t num_iterations 5\n",
      "test 11\t time 0.2816452980041504\t t_error 3.3306690738754696e-16\t num_iterations 5\n",
      "test 12\t time 0.30701184272766113\t t_error 1.7763568394002505e-15\t num_iterations 5\n",
      "test 13\t time 0.2667880058288574\t t_error 2.220446049250313e-16\t num_iterations 5\n",
      "test 14\t time 0.34595775604248047\t t_error 3.885780586188048e-15\t num_iterations 5\n",
      "test 15\t time 0.3182504177093506\t t_error 1.7763568394002505e-15\t num_iterations 5\n",
      "test 16\t time 0.3592808246612549\t t_error 6.217248937900877e-15\t num_iterations 9\n",
      "test 17\t time 0.26594090461730957\t t_error 4.440892098500626e-16\t num_iterations 5\n",
      "test 18\t time 0.30704307556152344\t t_error 4.440892098500626e-16\t num_iterations 6\n",
      "test 19\t time 0.3077731132507324\t t_error 1.5543122344752192e-15\t num_iterations 5\n",
      "test 2\t time 0.32824158668518066\t t_error 6.661338147750939e-16\t num_iterations 5\n",
      "test 20\t time 0.554175853729248\t t_error 1.1102230246251565e-16\t num_iterations 5\n",
      "test 21\t time 0.26572537422180176\t t_error 4.440892098500626e-16\t num_iterations 5\n",
      "test 22\t time 0.2666146755218506\t t_error 4.440892098500626e-16\t num_iterations 5\n",
      "test 23\t time 0.3787722587585449\t t_error 1.3322676295501878e-15\t num_iterations 5\n",
      "test 24\t time 0.3278493881225586\t t_error 2.1094237467877974e-15\t num_iterations 5\n",
      "test 25\t time 0.30462074279785156\t t_error 0.0\t num_iterations 5\n",
      "test 26\t time 0.2637441158294678\t t_error 4.440892098500626e-16\t num_iterations 5\n",
      "test 27\t time 0.17569756507873535\t t_error 6.661338147750939e-16\t num_iterations 5\n",
      "test 28\t time 0.26366639137268066\t t_error 6.661338147750939e-16\t num_iterations 5\n",
      "test 29\t time 0.26546716690063477\t t_error 0.0\t num_iterations 5\n",
      "test 3\t time 0.23056840896606445\t t_error 2.7755575615628914e-15\t num_iterations 6\n",
      "test 30\t time 0.31934356689453125\t t_error 8.881784197001252e-16\t num_iterations 6\n",
      "test 31\t time 0.3405036926269531\t t_error 3.3306690738754696e-15\t num_iterations 6\n",
      "test 32\t time 0.26436853408813477\t t_error 6.661338147750939e-16\t num_iterations 5\n",
      "test 33\t time 0.2893562316894531\t t_error 1.1102230246251565e-15\t num_iterations 5\n",
      "test 34\t time 0.4046134948730469\t t_error 2.220446049250313e-16\t num_iterations 5\n",
      "test 35\t time 0.31206703186035156\t t_error 2.220446049250313e-16\t num_iterations 5\n",
      "test 36\t time 0.3319261074066162\t t_error 4.440892098500626e-16\t num_iterations 5\n",
      "test 37\t time 0.3229362964630127\t t_error 1.6653345369377348e-15\t num_iterations 5\n",
      "test 38\t time 0.30237364768981934\t t_error 3.3306690738754696e-15\t num_iterations 6\n",
      "test 39\t time 0.3231940269470215\t t_error 4.440892098500626e-16\t num_iterations 5\n",
      "test 4\t time 0.4525735378265381\t t_error 3.9968028886505635e-15\t num_iterations 6\n",
      "test 40\t time 0.3089258670806885\t t_error 1.887379141862766e-15\t num_iterations 5\n",
      "test 41\t time 0.310474157333374\t t_error 8.881784197001252e-16\t num_iterations 5\n",
      "test 42\t time 0.3336031436920166\t t_error 1.7763568394002505e-15\t num_iterations 5\n",
      "test 43\t time 0.6719326972961426\t t_error 5.551115123125783e-16\t num_iterations 5\n",
      "test 44\t time 0.316483736038208\t t_error 6.661338147750939e-16\t num_iterations 5\n",
      "test 45\t time 0.36255860328674316\t t_error 1.6653345369377348e-15\t num_iterations 5\n",
      "test 46\t time 0.30525755882263184\t t_error 8.881784197001252e-16\t num_iterations 5\n",
      "test 47\t time 0.3210330009460449\t t_error 1.4432899320127035e-15\t num_iterations 5\n",
      "test 48\t time 0.31173181533813477\t t_error 3.219646771412954e-15\t num_iterations 5\n",
      "test 49\t time 0.3248918056488037\t t_error 3.3306690738754696e-16\t num_iterations 5\n",
      "test 5\t time 0.2844240665435791\t t_error 4.440892098500626e-16\t num_iterations 5\n",
      "test 50\t time 0.3469226360321045\t t_error 7.771561172376096e-16\t num_iterations 5\n",
      "test 51\t time 0.28426599502563477\t t_error 5.551115123125783e-16\t num_iterations 5\n",
      "test 52\t time 0.28727173805236816\t t_error 5.551115123125783e-16\t num_iterations 5\n",
      "test 53\t time 0.6320741176605225\t t_error 1.0436096431476471e-14\t num_iterations 6\n",
      "test 54\t time 0.3585350513458252\t t_error 1.1102230246251565e-15\t num_iterations 5\n",
      "test 55\t time 0.33838438987731934\t t_error 1.1102230246251565e-15\t num_iterations 5\n",
      "test 56\t time 0.4245917797088623\t t_error 1.7763568394002505e-15\t num_iterations 5\n",
      "test 57\t time 0.36752891540527344\t t_error 4.440892098500626e-16\t num_iterations 5\n",
      "test 58\t time 0.42884278297424316\t t_error 2.886579864025407e-15\t num_iterations 5\n",
      "test 59\t time 0.4422292709350586\t t_error 4.440892098500626e-16\t num_iterations 5\n",
      "test 6\t time 0.36371922492980957\t t_error 1.1102230246251565e-16\t num_iterations 5\n",
      "test 60\t time 0.42464637756347656\t t_error 1.5543122344752192e-15\t num_iterations 5\n",
      "test 61\t time 0.437255859375\t t_error 1.3322676295501878e-15\t num_iterations 5\n",
      "test 62\t time 0.5579123497009277\t t_error 1.3322676295501878e-15\t num_iterations 5\n",
      "test 63\t time 0.46281862258911133\t t_error 3.552713678800501e-15\t num_iterations 5\n",
      "test 64\t time 0.5397632122039795\t t_error 2.886579864025407e-15\t num_iterations 6\n",
      "test 65\t time 2.3395872116088867\t t_error 1.9984014443252818e-15\t num_iterations 5\n",
      "test 66\t time 0.4353454113006592\t t_error 5.551115123125783e-16\t num_iterations 5\n",
      "test 67\t time 0.46773576736450195\t t_error 4.440892098500626e-16\t num_iterations 5\n",
      "test 68\t time 0.5035936832427979\t t_error 4.440892098500626e-16\t num_iterations 5\n",
      "test 69\t time 1.0509006977081299\t t_error 2.886579864025407e-15\t num_iterations 6\n",
      "test 7\t time 0.40476536750793457\t t_error 1.5543122344752192e-15\t num_iterations 5\n",
      "test 70\t time 0.41243481636047363\t t_error 4.440892098500626e-16\t num_iterations 5\n",
      "test 71\t time 0.4435281753540039\t t_error 5.329070518200751e-15\t num_iterations 5\n",
      "test 72\t time 1.065213918685913\t t_error 1.5543122344752192e-15\t num_iterations 5\n",
      "test 73\t time 0.4875609874725342\t t_error 4.6629367034256575e-15\t num_iterations 5\n",
      "test 74\t time 0.3749351501464844\t t_error 3.3306690738754696e-16\t num_iterations 5\n",
      "test 75\t time 0.723881721496582\t t_error 1.3322676295501878e-15\t num_iterations 5\n",
      "test 76\t time 0.35411667823791504\t t_error 4.440892098500626e-16\t num_iterations 5\n",
      "test 77\t time 0.36400365829467773\t t_error 1.5543122344752192e-15\t num_iterations 5\n",
      "test 78\t time 0.4343104362487793\t t_error 1.1102230246251565e-15\t num_iterations 5\n",
      "test 79\t time 0.7806229591369629\t t_error 1.2212453270876722e-15\t num_iterations 5\n",
      "test 8\t time 0.5317442417144775\t t_error 3.6637359812630166e-15\t num_iterations 5\n",
      "test 80\t time 0.40897703170776367\t t_error 1.1102230246251565e-15\t num_iterations 5\n",
      "test 81\t time 0.5411345958709717\t t_error 6.661338147750939e-16\t num_iterations 5\n",
      "test 82\t time 0.6858711242675781\t t_error 3.3306690738754696e-15\t num_iterations 5\n",
      "test 83\t time 0.3828568458557129\t t_error 3.3306690738754696e-16\t num_iterations 5\n",
      "test 84\t time 0.533663272857666\t t_error 1.7763568394002505e-15\t num_iterations 5\n",
      "test 85\t time 0.38085460662841797\t t_error 7.771561172376096e-16\t num_iterations 5\n",
      "test 86\t time 0.36488914489746094\t t_error 1.5543122344752192e-15\t num_iterations 5\n",
      "test 87\t time 0.3604893684387207\t t_error 6.661338147750939e-16\t num_iterations 5\n",
      "test 88\t time 0.3778107166290283\t t_error 5.551115123125783e-16\t num_iterations 5\n",
      "test 89\t time 0.6744003295898438\t t_error 2.220446049250313e-15\t num_iterations 5\n",
      "test 9\t time 0.6179811954498291\t t_error 1.1102230246251565e-15\t num_iterations 5\n",
      "test 90\t time 0.38456296920776367\t t_error 3.552713678800501e-15\t num_iterations 6\n",
      "test 91\t time 0.607724666595459\t t_error 1.1102230246251565e-16\t num_iterations 5\n",
      "test 92\t time 0.4202730655670166\t t_error 4.440892098500626e-16\t num_iterations 5\n",
      "test 93\t time 0.42319703102111816\t t_error 5.551115123125783e-16\t num_iterations 5\n",
      "test 94\t time 0.556917667388916\t t_error 8.881784197001252e-16\t num_iterations 5\n",
      "test 95\t time 0.33178234100341797\t t_error 5.551115123125783e-16\t num_iterations 5\n",
      "test 96\t time 0.34574341773986816\t t_error 1.9984014443252818e-15\t num_iterations 5\n",
      "test 97\t time 0.5412158966064453\t t_error 4.218847493575595e-15\t num_iterations 5\n",
      "test 98\t time 0.37495899200439453\t t_error 1.1102230246251565e-15\t num_iterations 5\n",
      "test 99\t time 0.5206155776977539\t t_error 8.881784197001252e-16\t num_iterations 5\n"
     ]
    },
    {
     "data": {
      "image/png": "[encoded data removed]",
      "text/plain": [
       "<Figure size 1000x700 with 1 Axes>"
      ]
     },
     "metadata": {},
     "output_type": "display_data"
    }
   ],
   "source": [
    "times_gd, errors_gd = get_gd_simplex_plus_ball_in_ball_results(50, silent=False)\n",
    "plot_test_results(times_gd, errors_gd, 'GD, 50d, simplex plus ball in ball', fit=False)"
   ]
  },
  {
   "cell_type": "code",
   "execution_count": 17,
   "id": "0c51b174-e3bb-41d7-ac00-12e5af461592",
   "metadata": {},
   "outputs": [
    {
     "name": "stdout",
     "output_type": "stream",
     "text": [
      "test 1\t time 1.821876049041748\t t_error 3.219646771412954e-15\t num_iterations 5\n",
      "test 10\t time 1.0464138984680176\t t_error 4.551914400963142e-15\t num_iterations 5\n",
      "test 100\t time 1.4140784740447998\t t_error 4.440892098500626e-16\t num_iterations 5\n",
      "test 11\t time 1.2447278499603271\t t_error 8.43769498715119e-15\t num_iterations 5\n",
      "test 12\t time 1.5095834732055664\t t_error 1.2212453270876722e-15\t num_iterations 5\n",
      "test 13\t time 1.5449633598327637\t t_error 1.9984014443252818e-15\t num_iterations 5\n",
      "test 14\t time 1.544755458831787\t t_error 7.771561172376096e-16\t num_iterations 5\n",
      "test 15\t time 1.4290735721588135\t t_error 2.220446049250313e-16\t num_iterations 5\n",
      "test 16\t time 1.4134035110473633\t t_error 1.4432899320127035e-15\t num_iterations 5\n",
      "test 17\t time 1.7257943153381348\t t_error 6.8833827526759706e-15\t num_iterations 5\n",
      "test 18\t time 1.4008195400238037\t t_error 4.440892098500626e-16\t num_iterations 5\n",
      "test 19\t time 1.7117714881896973\t t_error 2.6645352591003757e-15\t num_iterations 5\n",
      "test 2\t time 2.2469608783721924\t t_error 4.6629367034256575e-15\t num_iterations 5\n",
      "test 20\t time 1.9283902645111084\t t_error 9.992007221626409e-16\t num_iterations 5\n",
      "test 21\t time 1.9101016521453857\t t_error 5.551115123125783e-16\t num_iterations 5\n",
      "test 22\t time 1.4787814617156982\t t_error 1.3322676295501878e-15\t num_iterations 5\n",
      "test 23\t time 1.5711066722869873\t t_error 2.7755575615628914e-15\t num_iterations 5\n",
      "test 24\t time 1.490713119506836\t t_error 1.3322676295501878e-15\t num_iterations 5\n",
      "test 25\t time 1.4483656883239746\t t_error 2.4424906541753444e-15\t num_iterations 5\n",
      "test 26\t time 1.7587933540344238\t t_error 4.218847493575595e-15\t num_iterations 5\n",
      "test 27\t time 1.394444465637207\t t_error 1.1102230246251565e-15\t num_iterations 5\n",
      "test 28\t time 2.1676852703094482\t t_error 2.220446049250313e-15\t num_iterations 5\n",
      "test 29\t time 1.7642481327056885\t t_error 0.0\t num_iterations 5\n",
      "test 3\t time 2.2191479206085205\t t_error 4.6629367034256575e-15\t num_iterations 5\n",
      "test 30\t time 1.208604335784912\t t_error 3.1086244689504383e-15\t num_iterations 5\n",
      "test 31\t time 1.6951639652252197\t t_error 1.2656542480726785e-14\t num_iterations 6\n",
      "test 32\t time 1.7681918144226074\t t_error 2.4424906541753444e-15\t num_iterations 5\n",
      "test 33\t time 2.2333853244781494\t t_error 3.9968028886505635e-15\t num_iterations 5\n",
      "test 34\t time 1.193437099456787\t t_error 3.1086244689504383e-15\t num_iterations 5\n",
      "test 35\t time 1.2984154224395752\t t_error 1.9984014443252818e-15\t num_iterations 5\n",
      "test 36\t time 1.0857980251312256\t t_error 1.1102230246251565e-15\t num_iterations 5\n",
      "test 37\t time 0.838660717010498\t t_error 5.551115123125783e-16\t num_iterations 5\n",
      "test 38\t time 0.8905737400054932\t t_error 7.993605777301127e-15\t num_iterations 5\n",
      "test 39\t time 1.2038488388061523\t t_error 3.3306690738754696e-15\t num_iterations 5\n",
      "test 4\t time 3.2904036045074463\t t_error 8.881784197001252e-16\t num_iterations 5\n",
      "test 40\t time 2.14450740814209\t t_error 2.4424906541753444e-15\t num_iterations 5\n",
      "test 41\t time 2.548727035522461\t t_error 4.218847493575595e-15\t num_iterations 5\n",
      "test 42\t time 1.305285930633545\t t_error 6.8833827526759706e-15\t num_iterations 5\n",
      "test 43\t time 1.3034167289733887\t t_error 1.7763568394002505e-15\t num_iterations 5\n",
      "test 44\t time 0.9903063774108887\t t_error 8.881784197001252e-15\t num_iterations 5\n",
      "test 45\t time 1.3449480533599854\t t_error 5.773159728050814e-15\t num_iterations 6\n",
      "test 46\t time 1.4991989135742188\t t_error 4.107825191113079e-15\t num_iterations 5\n",
      "test 47\t time 1.6929690837860107\t t_error 1.5543122344752192e-15\t num_iterations 5\n",
      "test 48\t time 1.253718376159668\t t_error 2.220446049250313e-16\t num_iterations 5\n",
      "test 49\t time 1.364368200302124\t t_error 1.1213252548714081e-14\t num_iterations 5\n",
      "test 5\t time 1.2833552360534668\t t_error 6.439293542825908e-15\t num_iterations 5\n",
      "test 50\t time 1.1308963298797607\t t_error 6.661338147750939e-16\t num_iterations 5\n",
      "test 51\t time 1.4705336093902588\t t_error 6.661338147750939e-16\t num_iterations 5\n",
      "test 52\t time 1.7053461074829102\t t_error 3.6637359812630166e-15\t num_iterations 5\n",
      "test 53\t time 1.510843276977539\t t_error 2.220446049250313e-16\t num_iterations 5\n",
      "test 54\t time 3.2258615493774414\t t_error 2.4424906541753444e-15\t num_iterations 5\n",
      "test 55\t time 24.317341327667236\t t_error 3.3306690738754696e-15\t num_iterations 5\n",
      "test 56\t time 1.3059923648834229\t t_error 8.881784197001252e-16\t num_iterations 5\n",
      "test 57\t time 1.1251819133758545\t t_error 5.551115123125783e-16\t num_iterations 5\n",
      "test 58\t time 1.1494085788726807\t t_error 1.4432899320127035e-14\t num_iterations 6\n",
      "test 59\t time 1.0832839012145996\t t_error 1.4988010832439613e-14\t num_iterations 5\n",
      "test 6\t time 1.348264455795288\t t_error 1.2212453270876722e-15\t num_iterations 5\n",
      "test 60\t time 1.0777864456176758\t t_error 1.5543122344752192e-15\t num_iterations 5\n",
      "test 61\t time 0.9329066276550293\t t_error 3.552713678800501e-15\t num_iterations 5\n",
      "test 62\t time 1.7386081218719482\t t_error 8.881784197001252e-16\t num_iterations 5\n",
      "test 63\t time 2.358222007751465\t t_error 4.440892098500626e-16\t num_iterations 5\n",
      "test 64\t time 1.3541967868804932\t t_error 3.3306690738754696e-15\t num_iterations 5\n",
      "test 65\t time 1.150738000869751\t t_error 8.43769498715119e-15\t num_iterations 6\n",
      "test 66\t time 1.1464190483093262\t t_error 1.1324274851176597e-14\t num_iterations 6\n",
      "test 67\t time 1.1199924945831299\t t_error 2.886579864025407e-15\t num_iterations 5\n",
      "test 68\t time 1.1178944110870361\t t_error 8.881784197001252e-16\t num_iterations 5\n",
      "test 69\t time 1.760310173034668\t t_error 3.552713678800501e-15\t num_iterations 5\n",
      "test 7\t time 1.4528782367706299\t t_error 5.329070518200751e-15\t num_iterations 5\n",
      "test 70\t time 1.332099437713623\t t_error 6.8833827526759706e-15\t num_iterations 5\n",
      "test 71\t time 1.5436806678771973\t t_error 1.7763568394002505e-15\t num_iterations 5\n",
      "test 72\t time 2.934938669204712\t t_error 2.886579864025407e-15\t num_iterations 5\n",
      "test 73\t time 1.0734083652496338\t t_error 3.219646771412954e-15\t num_iterations 5\n",
      "test 74\t time 1.6444952487945557\t t_error 0.0\t num_iterations 5\n",
      "test 75\t time 1.3899190425872803\t t_error 2.220446049250313e-15\t num_iterations 5\n",
      "test 76\t time 1.1055083274841309\t t_error 1.7763568394002505e-15\t num_iterations 5\n",
      "test 77\t time 1.2794957160949707\t t_error 7.771561172376096e-16\t num_iterations 5\n",
      "test 78\t time 2.303295135498047\t t_error 8.881784197001252e-16\t num_iterations 5\n",
      "test 79\t time 1.7846062183380127\t t_error 1.5543122344752192e-15\t num_iterations 5\n",
      "test 8\t time 0.919816255569458\t t_error 2.1094237467877974e-15\t num_iterations 5\n",
      "test 80\t time 1.1094388961791992\t t_error 1.5543122344752192e-15\t num_iterations 5\n",
      "test 81\t time 1.0832209587097168\t t_error 2.220446049250313e-16\t num_iterations 5\n",
      "test 82\t time 1.5590074062347412\t t_error 2.220446049250313e-16\t num_iterations 5\n",
      "test 83\t time 1.1034584045410156\t t_error 5.551115123125783e-16\t num_iterations 5\n",
      "test 84\t time 1.3574683666229248\t t_error 1.3322676295501878e-15\t num_iterations 6\n",
      "test 85\t time 1.1117048263549805\t t_error 3.3306690738754696e-15\t num_iterations 5\n",
      "test 86\t time 1.1209287643432617\t t_error 5.10702591327572e-15\t num_iterations 5\n",
      "test 87\t time 0.8517091274261475\t t_error 8.881784197001252e-16\t num_iterations 5\n",
      "test 88\t time 2.3630177974700928\t t_error 7.771561172376096e-16\t num_iterations 5\n",
      "test 89\t time 1.0283877849578857\t t_error 1.3322676295501878e-15\t num_iterations 5\n",
      "test 9\t time 0.8957805633544922\t t_error 2.6645352591003757e-15\t num_iterations 5\n",
      "test 90\t time 1.1382222175598145\t t_error 8.104628079763643e-15\t num_iterations 5\n",
      "test 91\t time 1.5348079204559326\t t_error 1.3322676295501878e-15\t num_iterations 5\n",
      "test 92\t time 1.2303104400634766\t t_error 1.6653345369377348e-15\t num_iterations 5\n",
      "test 93\t time 1.082688570022583\t t_error 1.1102230246251565e-15\t num_iterations 5\n",
      "test 94\t time 1.5848729610443115\t t_error 1.3322676295501878e-15\t num_iterations 5\n",
      "test 95\t time 1.0895254611968994\t t_error 1.1102230246251565e-15\t num_iterations 5\n",
      "test 96\t time 0.8823394775390625\t t_error 1.1102230246251565e-15\t num_iterations 5\n",
      "test 97\t time 1.2930240631103516\t t_error 4.218847493575595e-15\t num_iterations 5\n",
      "test 98\t time 4.255881071090698\t t_error 1.8318679906315083e-14\t num_iterations 9\n",
      "test 99\t time 1.5788171291351318\t t_error 8.881784197001252e-16\t num_iterations 5\n"
     ]
    },
    {
     "data": {
      "image/png": "[encoded data removed]",
      "text/plain": [
       "<Figure size 1000x700 with 1 Axes>"
      ]
     },
     "metadata": {},
     "output_type": "display_data"
    }
   ],
   "source": [
    "times_gd, errors_gd = get_gd_simplex_plus_ball_in_ball_results(100, silent=False)\n",
    "plot_test_results(times_gd, errors_gd, 'GD, 100d, simplex plus ball in ball', fit=False)"
   ]
  },
  {
   "cell_type": "code",
   "execution_count": null,
   "id": "c06cc0c7-f52a-4fb6-98ff-917ed0f3c079",
   "metadata": {},
   "outputs": [],
   "source": []
  },
  {
   "cell_type": "code",
   "execution_count": null,
   "id": "60e7fa98-5e57-4c44-9636-994f4c8e402f",
   "metadata": {},
   "outputs": [],
   "source": []
  },
  {
   "cell_type": "markdown",
   "id": "6fa1f45f-e97b-4c60-aa02-5cfee06fd753",
   "metadata": {
    "tags": []
   },
   "source": [
    "times_gd_2d, errors_gd_2d = get_gd_simplex_in_ball_results(2, silent=True)\n",
    "plot_test_results(times_gd_2d, errors_gd_2d, 'GD, 2d, simplex in ball', fit=False)"
   ]
  },
  {
   "cell_type": "markdown",
   "id": "70de48de-d6ae-4d60-9df0-db62e0c24495",
   "metadata": {},
   "source": [
    "times_gd, errors_gd = get_gd_simplex_in_ball_results(3, silent=False)\n",
    "plot_test_results(times_gd, errors_gd, 'GD, 3d, simplex in ball', fit=False)"
   ]
  },
  {
   "cell_type": "markdown",
   "id": "0534bb20-d73e-4599-860e-c33e919012c7",
   "metadata": {
    "tags": []
   },
   "source": [
    "times_gd, errors_gd = get_gd_simplex_in_ball_results(4, silent=False)\n",
    "plot_test_results(times_gd, errors_gd, 'GD, 4d, simplex in ball', fit=False)"
   ]
  },
  {
   "cell_type": "markdown",
   "id": "bfde170f-53be-4a02-b066-722e4264c484",
   "metadata": {},
   "source": [
    "times_gd, errors_gd = get_gd_simplex_in_ballшш_results(5, silent=False)\n",
    "plot_test_results(times_gd, errors_gd, 'GD, 5d, simplex in ball', fit=False)"
   ]
  },
  {
   "cell_type": "markdown",
   "id": "4a1b2845-1c8f-4d0c-8520-47ff26767140",
   "metadata": {},
   "source": [
    "times_gd, errors_gd = get_gd_simplex_in_ball_results(10, silent=False)\n",
    "plot_test_results(times_gd, errors_gd, 'GD, 10d, simplex in ball', fit=False)"
   ]
  },
  {
   "cell_type": "markdown",
   "id": "2f47f1c6-c41e-41c9-941c-767a9d16b1e0",
   "metadata": {},
   "source": [
    "times_gd, errors_gd = get_gd_simplex_in_ball_results(20, silent=False)\n",
    "plot_test_results(times_gd, errors_gd, 'GD, 20d, simplex in ball', fit=False)"
   ]
  },
  {
   "cell_type": "markdown",
   "id": "28d6749d-61b2-4cee-8dec-0d7ee1a6e75d",
   "metadata": {},
   "source": [
    "times_gd, errors_gd = get_gd_simplex_in_ball_results(50, silent=False)\n",
    "plot_test_results(times_gd, errors_gd, 'GD, 50d, simplex in ball', fit=False)"
   ]
  },
  {
   "cell_type": "markdown",
   "id": "1bfdd4a2-2fab-4451-888b-960af17514f4",
   "metadata": {
    "tags": []
   },
   "source": [
    "times_gd, errors_gd = get_gd_simplex_in_ball_results(100, silent=False)\n",
    "plot_test_results(times_gd, errors_gd, 'GD, 100d, simplex in ball', fit=False)"
   ]
  },
  {
   "cell_type": "code",
   "execution_count": null,
   "id": "052c2257-3f40-4693-8e41-830207a4a3a4",
   "metadata": {},
   "outputs": [],
   "source": [
    "%load_ext line_profiler"
   ]
  },
  {
   "cell_type": "code",
   "execution_count": null,
   "id": "18774076-3794-4921-8be6-de47fecc7089",
   "metadata": {},
   "outputs": [],
   "source": [
    "file = random.choice(os.listdir('./tests/10d/simplex-in-ball/')) \n",
    "support_a, support_b, delta = read_tests_simplex_in_ball(f'./tests/10d/simplex-in-ball/{file}', 10) \n",
    "GradientDescentSolver(10, support_a, support_b, max_num_iterations=100, \n",
    "                                                max_finding_distinct_minimums_attempts=10, learning_rate=1)\n",
    "%prun solver_instance.solve()"
   ]
  },
  {
   "cell_type": "code",
   "execution_count": null,
   "id": "d73d508d-e17d-463a-aeed-55d6d4e9513c",
   "metadata": {},
   "outputs": [],
   "source": [
    "def get_baseline_test_results(dimension: int, number_tests: int, lowest_grid_density: float=100, highest_grid_density: float=10000,\n",
    "                             silent=True) -> tp.Tuple[np.ndarray, np.ndarray]:\n",
    "    times = []\n",
    "    t_errors = []\n",
    "    for _ in range(number_tests):\n",
    "        time, t_error = run_random_test(BaselineSolver, dimension, \n",
    "                                        {'grid_density': np.exp(np.random.uniform(np.log(lowest_grid_density), np.log(highest_grid_density)))}, \n",
    "                                        read_tests_simplex_in_ball, f'./tests/{dimension}d/simplex-in-ball/', silent=silent)\n",
    "        times.append(time)\n",
    "        t_errors.append(t_error)\n",
    "    \n",
    "    return np.array(times), np.array(t_errors)"
   ]
  },
  {
   "cell_type": "code",
   "execution_count": null,
   "id": "9c284819-3677-4d0a-b451-b39896399348",
   "metadata": {},
   "outputs": [],
   "source": [
    "def get_iterative_test_results(dimension: int, number_tests: int, lowest_cap_grid_diameter: int=3, \n",
    "                               highest_cap_grid_diameter: int=10,\n",
    "                              silent=True) -> tp.Tuple[np.ndarray, np.ndarray]:\n",
    "    times = []\n",
    "    t_errors = []\n",
    "    for _ in range(number_tests):\n",
    "        cap_grid_diameter = int(np.round(np.exp(np.random.uniform(np.log(lowest_cap_grid_diameter), np.log(highest_cap_grid_diameter)))))\n",
    "        time, t_error = run_random_test(IterativeSolver, dimension, \n",
    "                                        {'cap_grid_diameter': cap_grid_diameter}, \n",
    "                                        read_tests_simplex_in_ball, f'./tests/{dimension}d/simplex-in-ball/', silent=silent)\n",
    "        times.append(time)\n",
    "        t_errors.append(t_error)\n",
    "    \n",
    "    return np.array(times), np.array(t_errors)"
   ]
  },
  {
   "cell_type": "code",
   "execution_count": null,
   "id": "0d3e3ad2-1763-4558-be2c-68138ac0de19",
   "metadata": {},
   "outputs": [],
   "source": [
    "def get_greedy_simplex_in_ball_results(dimension: int, lowest_max_iteration: int=80, highest_max_iteration: int=80, \n",
    "                            silent=True) -> tp.Tuple[np.ndarray, np.ndarray]:\n",
    "    times = []\n",
    "    t_errors = []\n",
    "    deltas = []\n",
    "    for file in sorted(os.listdir(f'./tests/{dimension}d/simplex-in-ball/')):\n",
    "        support_a, support_b, delta = read_tests_simplex_in_ball(f'./tests/{dimension}d/simplex-in-ball/{file}', dimension)\n",
    "        solver_instance = GreedySolver(dimension, support_a, support_b, \n",
    "                                 num_iterations=int(np.exp(np.random.uniform(np.log(lowest_max_iteration), np.log(highest_max_iteration)))))\n",
    "        start_time = time.time()\n",
    "        solver_instance.solve()\n",
    "        end_time = time.time()\n",
    "        times.append(end_time - start_time)\n",
    "        t_errors.append(abs(1. - solver_instance.t))\n",
    "        deltas.append(delta)\n",
    "        if not silent:\n",
    "            print(f'test \\t{file}\\t time \\t{end_time - start_time}\\t t_error \\t{abs(1. - solver_instance.t)}')\n",
    "\n",
    "    return np.array(times), np.array(t_errors), np.array(deltas)"
   ]
  },
  {
   "cell_type": "code",
   "execution_count": null,
   "id": "556f6be3-ee12-4753-86dd-fec59143bc0c",
   "metadata": {},
   "outputs": [],
   "source": [
    "def get_greedy_simplex_plus_ball_in_ball_results(dimension: int, lowest_max_iteration: int=100, highest_max_iteration: int=100, \n",
    "                            silent=True) -> tp.Tuple[np.ndarray, np.ndarray]:\n",
    "    times = []\n",
    "    t_errors = []\n",
    "    deltas = []\n",
    "    for file in sorted(os.listdir(f'./tests/{dimension}d/simplex-in-ball/')):\n",
    "        support_a, support_b, delta = read_tests_simplex_plus_ball_in_ball(f'./tests/{dimension}d/simplex-plus-ball-in-ball/{file}', dimension)\n",
    "        solver_instance = GreedySolver(dimension, support_a, support_b, \n",
    "                                 num_iterations=int(np.exp(np.random.uniform(np.log(lowest_max_iteration), np.log(highest_max_iteration)))))\n",
    "        start_time = time.time()\n",
    "        solver_instance.solve()\n",
    "        end_time = time.time()\n",
    "        times.append(end_time - start_time)\n",
    "        t_errors.append(abs(1. - solver_instance.t))\n",
    "        deltas.append(delta)\n",
    "        if not silent:\n",
    "            print(f'test \\t{file}\\t time \\t{end_time - start_time}\\t t_error \\t{abs(1. - solver_instance.t)}')\n",
    "\n",
    "    return np.array(times), np.array(t_errors), np.array(deltas)"
   ]
  },
  {
   "cell_type": "code",
   "execution_count": null,
   "id": "17820ad2-22cd-48a3-8066-23e9abbca21c",
   "metadata": {},
   "outputs": [],
   "source": [
    "def get_greedy_degenerate_simplex_in_ball_results(dimension: int, lowest_max_iteration: int=100, highest_max_iteration: int=100, \n",
    "                            silent=True) -> tp.Tuple[np.ndarray, np.ndarray]:\n",
    "    times = []\n",
    "    t_errors = []\n",
    "    for file in sorted(os.listdir(f'./tests/{dimension}d/simplex-in-ball/')):\n",
    "        support_a, support_b = read_tests_degenerate_simplex_in_ball(f'./tests/{dimension}d/degenerate-simplex-in-ball/{file}', dimension)\n",
    "        solver_instance = GreedySolver(dimension, support_a, support_b, \n",
    "                                 num_iterations=int(np.exp(np.random.uniform(np.log(lowest_max_iteration), np.log(highest_max_iteration)))))\n",
    "        start_time = time.time()\n",
    "        solver_instance.solve()\n",
    "        end_time = time.time()\n",
    "        times.append(end_time - start_time)\n",
    "        t_errors.append(abs(1. - solver_instance.t))\n",
    "        if not silent:\n",
    "            print(f'test \\t{file}\\t time \\t{end_time - start_time}\\t t_error \\t{abs(1. - solver_instance.t)}')\n",
    "\n",
    "    return np.array(times), np.array(t_errors)"
   ]
  },
  {
   "cell_type": "code",
   "execution_count": null,
   "id": "896cb504-f8fe-4db5-8f1f-d6ef83a5c0c8",
   "metadata": {},
   "outputs": [],
   "source": [
    "def get_greedy_polyhedron_in_ball_results(dimension: int, lowest_max_iteration: int=100, highest_max_iteration: int=100, \n",
    "                            silent=True) -> tp.Tuple[np.ndarray, np.ndarray]:\n",
    "    times = []\n",
    "    t_errors = []\n",
    "    d = []\n",
    "    for file in sorted(os.listdir(f'./tests/{dimension}d/polyhedron-in-ball/')):\n",
    "        support_a, support_b, current_d = read_tests_polyhedron_in_ball(f'./tests/{dimension}d/polyhedron-in-ball/{file}', dimension)\n",
    "        solver_instance = GreedySolver(dimension, support_a, support_b, \n",
    "                                 num_iterations=int(np.exp(np.random.uniform(np.log(lowest_max_iteration), np.log(highest_max_iteration)))))\n",
    "        start_time = time.time()\n",
    "        solver_instance.solve()\n",
    "        end_time = time.time()\n",
    "        times.append(end_time - start_time)\n",
    "        t_errors.append(abs(1. - solver_instance.t))\n",
    "        d.append(current_d)\n",
    "        if not silent:\n",
    "            print(f'test \\t{file}\\t time \\t{end_time - start_time}\\t t_error \\t{abs(1. - solver_instance.t)}')\n",
    "\n",
    "    return np.array(times), np.array(t_errors), np.array(d)"
   ]
  },
  {
   "cell_type": "markdown",
   "id": "96154660-312e-4a6c-9bb7-2ebbe887098b",
   "metadata": {},
   "source": [
    "file = random.choice(os.listdir('./tests/10d/simplex-in-ball/'))\n",
    "support_a, support_b, delta = read_tests_simplex_in_ball(f'./tests/10d/simplex-in-ball/{file}', 10)\n",
    "solver_instance = GreedySolver(10, support_a, support_b, num_iterations=500)"
   ]
  },
  {
   "cell_type": "markdown",
   "id": "4da42902-3f86-478c-a78c-d9a92d580a8a",
   "metadata": {},
   "source": [
    "%prun solver_instance.solve()"
   ]
  },
  {
   "cell_type": "markdown",
   "id": "f890c400-eb82-4849-8b51-cd3d9f97b6f5",
   "metadata": {},
   "source": [
    "times_greedy_2d, errors_greedy_2d, d_greedy_2d = get_greedy_polyhedron_in_ball_results(2, silent=True)\n",
    "plot_test_results(times_greedy_2d, errors_greedy_2d, 'GreedySolver, 2d, polyhedron in ball', fit=False, colors=d_greedy_2d, \n",
    "                  colorbar_name='minimal distance from a non-based vertex to the sphere')"
   ]
  },
  {
   "cell_type": "markdown",
   "id": "884a33ff-8801-4619-84b7-b51dcc64edcf",
   "metadata": {},
   "source": [
    "times_greedy_3d, errors_greedy_3d, d_greedy_3d = get_greedy_polyhedron_in_ball_results(3, silent=True) \n",
    "plot_test_results(times_greedy_3d, errors_greedy_3d, 'GreedySolver, 3d, polyhedron in ball', fit=False, colors=d_greedy_3d, \n",
    "                  colorbar_name='minimal distance from a non-based vertex to the sphere')"
   ]
  },
  {
   "cell_type": "markdown",
   "id": "f863e59c-0719-4ac3-a8d5-bbdb4f51a021",
   "metadata": {},
   "source": [
    "times_greedy_4d, errors_greedy_4d, d_greedy_4d = get_greedy_polyhedron_in_ball_results(4, silent=True) \n",
    "plot_test_results(times_greedy_4d, errors_greedy_4d, 'GreedySolver, 4d, polyhedron in ball', fit=False, colors=d_greedy_4d, \n",
    "                  colorbar_name='minimal distance from a non-based vertex to the sphere')"
   ]
  },
  {
   "cell_type": "markdown",
   "id": "d089a6a1-0405-4475-b783-f6e5e6901828",
   "metadata": {},
   "source": [
    "times_greedy_5d, errors_greedy_5d, d_greedy_5d = get_greedy_polyhedron_in_ball_results(5, silent=True) \n",
    "plot_test_results(times_greedy_5d, errors_greedy_5d, 'GreedySolver, 5d, polyhedron in ball', fit=False, colors=d_greedy_5d, \n",
    "                  colorbar_name='minimal distance from a non-based vertex to the sphere')"
   ]
  },
  {
   "cell_type": "markdown",
   "id": "6db0e54d-b024-4dc4-8223-5c5171a662ea",
   "metadata": {},
   "source": [
    "times_greedy_10d, errors_greedy_10d, d_greedy_10d = get_greedy_polyhedron_in_ball_results(10, silent=False) \n",
    "plot_test_results(times_greedy_10d, errors_greedy_10d, 'GreedySolver, 10d, polyhedron in ball', fit=False, colors=d_greedy_10d, \n",
    "                  colorbar_name='minimal distance from a non-based vertex to the sphere')"
   ]
  },
  {
   "cell_type": "code",
   "execution_count": null,
   "id": "fe063273-e09a-411f-9081-7db2b6514ee7",
   "metadata": {},
   "outputs": [],
   "source": []
  },
  {
   "cell_type": "code",
   "execution_count": null,
   "id": "135c23be-d5fe-47e1-93b6-f001d705447b",
   "metadata": {},
   "outputs": [],
   "source": []
  },
  {
   "cell_type": "markdown",
   "id": "cc7d62a5-eb96-48fe-8523-04d05982deb3",
   "metadata": {},
   "source": [
    "times_greedy_2d, errors_greedy_2d = get_greedy_degenerate_simplex_in_ball_results(2, silent=True)\n",
    "plot_test_results(times_greedy_2d, errors_greedy_2d, 'GreedySolver, 2d, degenerate simplex', fit=False)"
   ]
  },
  {
   "cell_type": "markdown",
   "id": "4585abda-fd9f-475a-af09-d6265adc4ef0",
   "metadata": {},
   "source": [
    "times_greedy_3d, errors_greedy_3d = get_greedy_degenerate_simplex_in_ball_results(3, silent=True)\n",
    "plot_test_results(times_greedy_3d, errors_greedy_3d, 'GreedySolver, 3d, degenerate simplex', fit=False)"
   ]
  },
  {
   "cell_type": "markdown",
   "id": "2d7c61e4-721f-476e-91c2-ab66abbd9881",
   "metadata": {},
   "source": [
    "times_greedy_4d, errors_greedy_4d = get_greedy_degenerate_simplex_in_ball_results(4, silent=True)\n",
    "plot_test_results(times_greedy_4d, errors_greedy_4d, 'GreedySolver, 4d, degenerate simplex', fit=False)"
   ]
  },
  {
   "cell_type": "markdown",
   "id": "0fb39fb4-9d53-4ddf-85b5-2e19c9e6c52a",
   "metadata": {},
   "source": [
    "times_greedy_5d, errors_greedy_5d = get_greedy_degenerate_simplex_in_ball_results(5, silent=True)\n",
    "plot_test_results(times_greedy_5d, errors_greedy_5d, 'GreedySolver, 5d, degenerate simplex', fit=False)"
   ]
  },
  {
   "cell_type": "markdown",
   "id": "cfee97ba-6d98-450f-91ce-eb23fd00f99e",
   "metadata": {
    "tags": []
   },
   "source": [
    "times_greedy_10d, errors_greedy_10d = get_greedy_degenerate_simplex_in_ball_results(10, silent=False)\n",
    "plot_test_results(times_greedy_10d, errors_greedy_10d, 'GreedySolver, 10d, degenerate simplex', fit=False)"
   ]
  },
  {
   "cell_type": "code",
   "execution_count": null,
   "id": "1191bbe6-317d-4ba3-8375-f3fbbc5d2a76",
   "metadata": {},
   "outputs": [],
   "source": []
  },
  {
   "cell_type": "markdown",
   "id": "a7094e14-bd5a-4ecc-a1c0-7000c3bc1a30",
   "metadata": {
    "tags": []
   },
   "source": [
    "times_greedy_2d, errors_greedy_2d, deltas_greedy_2d = get_greedy_simplex_plus_ball_in_ball_results(2, silent=True)\n",
    "plot_test_results(times_greedy_2d, errors_greedy_2d, deltas_greedy_2d, 'GreedySolver, 2d, simplex + ball, 50 iterations', fit=False)"
   ]
  },
  {
   "cell_type": "markdown",
   "id": "f7346631-1a21-45d2-9731-57136c2b9151",
   "metadata": {},
   "source": [
    "times_greedy_3d, errors_greedy_3d, deltas_greedy_3d = get_greedy_simplex_plus_ball_in_ball_results(3, silent=True)\n",
    "plot_test_results(times_greedy_3d, errors_greedy_3d, deltas_greedy_3d, 'GreedySolver, 3d, simplex + ball, 50 iterations', fit=False)"
   ]
  },
  {
   "cell_type": "markdown",
   "id": "685f2489-8b64-4be2-9fae-5780fc47d771",
   "metadata": {},
   "source": [
    "times_greedy_4d, errors_greedy_4d, deltas_greedy_4d = get_greedy_simplex_plus_ball_in_ball_results(4, silent=True)\n",
    "plot_test_results(times_greedy_4d, errors_greedy_4d, deltas_greedy_4d, 'GreedySolver, 4d, simplex + ball, 50 iterations', fit=False)"
   ]
  },
  {
   "cell_type": "markdown",
   "id": "48d730be-84f5-404f-a210-9adafc147d05",
   "metadata": {},
   "source": [
    "times_greedy_5d, errors_greedy_5d, deltas_greedy_5d = get_greedy_simplex_plus_ball_in_ball_results(5, silent=True)\n",
    "plot_test_results(times_greedy_5d, errors_greedy_5d, deltas_greedy_5d, 'GreedySolver, 5d, simplex + ball, 80 iterations', fit=False)"
   ]
  },
  {
   "cell_type": "markdown",
   "id": "815998ce-44d3-45ea-94d2-c8202c1176cd",
   "metadata": {
    "tags": []
   },
   "source": [
    "times_greedy_10d, errors_greedy_10d, deltas_greedy_10d = get_greedy_simplex_plus_ball_in_ball_results(10, silent=False)\n",
    "plot_test_results(times_greedy_10d, errors_greedy_10d, deltas_greedy_10d, 'GreedySolver, 10d, simplex + ball, 100 iterations', fit=False)"
   ]
  },
  {
   "cell_type": "code",
   "execution_count": null,
   "id": "b5321e42-07d9-44d2-9f72-afb04a46841d",
   "metadata": {},
   "outputs": [],
   "source": []
  },
  {
   "cell_type": "markdown",
   "id": "969d28af-849b-4701-a792-3ef414178ade",
   "metadata": {
    "tags": []
   },
   "source": [
    "times_greedy_2d, errors_greedy_2d, deltas_greedy_2d = get_greedy_test_results(2, silent=False)\n",
    "plot_test_results(times_greedy_2d, errors_greedy_2d, deltas_greedy_2d, 'GreedySolver, 2d, n(n+1) caps with heuristic, random inscribed simplex', fit=False)"
   ]
  },
  {
   "cell_type": "markdown",
   "id": "6ba5da10-3896-430a-b93e-039a67c6168f",
   "metadata": {
    "tags": []
   },
   "source": [
    "times_greedy_3d, errors_greedy_3d, deltas_greedy_3d = get_greedy_test_results(3, silent=False)\n",
    "plot_test_results(times_greedy_3d, errors_greedy_3d, deltas_greedy_3d, 'GreedySolver, 3d, n(n+1) caps with heuristic, random inscribed simplex', fit=False)"
   ]
  },
  {
   "cell_type": "markdown",
   "id": "d9626817-bc83-4f2c-b840-d5023f8352df",
   "metadata": {},
   "source": [
    "times_greedy_4d, errors_greedy_4d, deltas_greedy_4d = get_greedy_test_results(4, silent=False)\n",
    "plot_test_results(times_greedy_4d, errors_greedy_4d, deltas_greedy_4d, 'GreedySolver, 4d, n(n+1) caps with heuristic, random inscribed simplex', fit=False)"
   ]
  },
  {
   "cell_type": "markdown",
   "id": "f0e4105a-6981-40e4-b027-8e7783cb1272",
   "metadata": {},
   "source": [
    "times_greedy_5d, errors_greedy_5d, deltas_greedy_5d = get_greedy_test_results(5, silent=False)\n",
    "plot_test_results(times_greedy_5d, errors_greedy_5d, deltas_greedy_5d, 'GreedySolver, 5d, n(n+1) caps with heuristic, random inscribed simplex', fit=False)"
   ]
  },
  {
   "cell_type": "markdown",
   "id": "3b394b64-caa8-4248-9fc1-38bbd2a600c4",
   "metadata": {
    "tags": []
   },
   "source": [
    "times_greedy_10d, errors_greedy_10d, deltas_greedy_10d = get_greedy_test_results(10, silent=False)\n",
    "plot_test_results(times_greedy_10d, errors_greedy_10d, deltas_greedy_10d, 'GreedySolver, 10d, n(n+1) caps with heuristic, random inscribed simplex', fit=False)"
   ]
  },
  {
   "cell_type": "markdown",
   "id": "6bcdc672-84c9-4151-b2be-84e99d0d0d72",
   "metadata": {
    "tags": []
   },
   "source": [
    "times_iterative_2d, errors_iterative_2d = get_iterative_test_results(2, 100, silent=True, highest_cap_grid_diameter=3)\n",
    "plot_test_results(times_iterative_2d, errors_iterative_2d, 'IterativeSolver, 2d, n(n+1) caps with startovers, random inscribed simplex', fit=False)"
   ]
  },
  {
   "cell_type": "markdown",
   "id": "3baaf541-e43d-469b-b5b8-7bb5081c737a",
   "metadata": {},
   "source": [
    "times_iterative_3d, errors_iterative_3d = get_iterative_test_results(3, 100, silent=True, highest_cap_grid_diameter=3)\n",
    "plot_test_results(times_iterative_3d, errors_iterative_3d, 'IterativeSolver, 3d, n(n+1) caps with startovers, random inscribed simplex', fit=False)"
   ]
  },
  {
   "cell_type": "markdown",
   "id": "8da5eb04-36b9-4b01-8acc-ca3227246efe",
   "metadata": {},
   "source": [
    "times_iterative_4d, errors_iterative_4d = get_iterative_test_results(4, 100, silent=True, highest_cap_grid_diameter=3)\n",
    "plot_test_results(times_iterative_4d, errors_iterative_4d, 'IterativeSolver, 4d, n(n+1) caps with startovers, random inscribed simplex', fit=False)"
   ]
  },
  {
   "cell_type": "markdown",
   "id": "e1b182d6-5b56-4852-8e24-2aa50b3ad65a",
   "metadata": {},
   "source": [
    "times_iterative_5d, errors_iterative_5d = get_iterative_test_results(5, 100, silent=True, highest_cap_grid_diameter=3)\n",
    "plot_test_results(times_iterative_5d, errors_iterative_5d, 'IterativeSolver, 5d, n(n+1) caps with startovers, random inscribed simplex', fit=False)"
   ]
  },
  {
   "cell_type": "markdown",
   "id": "064a2556-6261-44cc-8ea5-97968bbd2d87",
   "metadata": {},
   "source": [
    "times_baseline_2d, errors_baseline_2d = get_baseline_test_results(2, 1000)"
   ]
  },
  {
   "cell_type": "markdown",
   "id": "053791a1-bf7c-49a9-b491-1772a04df16d",
   "metadata": {},
   "source": [
    "plot_test_results(times_baseline_2d, errors_baseline_2d, 'BaselineSolver, 2d, grid_from_cube, random inscribed simplex')"
   ]
  },
  {
   "cell_type": "markdown",
   "id": "2274b531-c36b-4ec4-9321-85405dc7c6c3",
   "metadata": {},
   "source": [
    "times_baseline_3d, errors_baseline_3d = get_baseline_test_results(3, 1000)"
   ]
  },
  {
   "cell_type": "markdown",
   "id": "9cbd8833-06cf-4d58-b84b-8ed6e17641b8",
   "metadata": {},
   "source": [
    "plot_test_results(times_baseline_3d, errors_baseline_3d, 'BaselineSolver, 3d, grid_from_cube, random inscribed simplex')"
   ]
  },
  {
   "cell_type": "markdown",
   "id": "b6e18b40-46f6-48fe-beea-56c0fa512f7c",
   "metadata": {},
   "source": [
    "times_baseline_4d, errors_baseline_4d = get_baseline_test_results(4, 1000)"
   ]
  },
  {
   "cell_type": "markdown",
   "id": "8d78a71f-ef58-46e4-a75f-83af34495ca4",
   "metadata": {},
   "source": [
    "plot_test_results(times_baseline_4d, errors_baseline_4d, 'BaselineSolver, 4d, grid_from_cube, random inscribed simplex')"
   ]
  },
  {
   "cell_type": "markdown",
   "id": "e9a6727c-0707-49a2-b156-6cf202b11d9a",
   "metadata": {},
   "source": [
    "times_baseline_5d, errors_baseline_5d = get_baseline_test_results(5, 1000)"
   ]
  },
  {
   "cell_type": "markdown",
   "id": "1fef6a7d-eddd-4c8e-b7e4-8ffe0d348b07",
   "metadata": {},
   "source": [
    "plot_test_results(times_baseline_5d, errors_baseline_5d, 'BaselineSolver, 5d, grid_from_cube, random inscribed simplex')"
   ]
  }
 ],
 "metadata": {
  "kernelspec": {
   "display_name": "Python 3 (ipykernel)",
   "language": "python",
   "name": "python3"
  },
  "language_info": {
   "codemirror_mode": {
    "name": "ipython",
    "version": 3
   },
   "file_extension": ".py",
   "mimetype": "text/x-python",
   "name": "python",
   "nbconvert_exporter": "python",
   "pygments_lexer": "ipython3",
   "version": "3.8.10"
  }
 },
 "nbformat": 4,
 "nbformat_minor": 5
}
