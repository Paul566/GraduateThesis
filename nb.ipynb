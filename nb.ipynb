{
 "cells": [
  {
   "cell_type": "code",
   "execution_count": 1,
   "id": "f5754fdf-fc77-479e-82a7-2590f554cd16",
   "metadata": {},
   "outputs": [],
   "source": [
    "import numpy as np"
   ]
  },
  {
   "cell_type": "code",
   "execution_count": 2,
   "id": "df7da57d-c486-4574-ab97-00cb0fec97bd",
   "metadata": {},
   "outputs": [],
   "source": [
    "from BaselineSolver import BaselineSolver\n",
    "from IterativeSolver import IterativeSolver\n",
    "from utils import run_tests, read_tests_simplex_in_ball, run_random_test"
   ]
  },
  {
   "cell_type": "code",
   "execution_count": 5,
   "id": "d73d508d-e17d-463a-aeed-55d6d4e9513c",
   "metadata": {},
   "outputs": [
    {
     "name": "stdout",
     "output_type": "stream",
     "text": [
      "test \t37.csv\t time \t1.7590289115905762\t t_error \t2.1943424854953264e-10\n",
      "test \t16.csv\t time \t6.0201756954193115\t t_error \t1.2956891115578628e-10\n",
      "test \t30.csv\t time \t2.9416096210479736\t t_error \t3.5914915486046084e-10\n",
      "test \t85.csv\t time \t6.414715051651001\t t_error \t4.423319488466859e-10\n",
      "test \t59.csv\t time \t0.9526710510253906\t t_error \t2.679163335628232e-09\n",
      "test \t4.csv\t time \t0.2741541862487793\t t_error \t7.583179306713816e-09\n",
      "test \t29.csv\t time \t5.030714750289917\t t_error \t1.6890975951255882e-08\n",
      "test \t51.csv\t time \t0.880232572555542\t t_error \t3.874451870444773e-09\n",
      "test \t53.csv\t time \t4.466742038726807\t t_error \t3.461737563270617e-10\n",
      "test \t59.csv\t time \t1.413442611694336\t t_error \t1.227384305302337e-09\n"
     ]
    }
   ],
   "source": [
    "times = []\n",
    "t_errors = []\n",
    "for _ in range(10):\n",
    "    run_random_test(BaselineSolver, 2, {'grid_density': np.random.randint(100, 100000)}, read_tests_simplex_in_ball, f'./tests/2d/simplex-in-ball/')"
   ]
  },
  {
   "cell_type": "code",
   "execution_count": 8,
   "id": "33042fc5-6454-42d6-b6c5-37cbf23f908b",
   "metadata": {},
   "outputs": [
    {
     "name": "stdout",
     "output_type": "stream",
     "text": [
      "test \t42.csv\t time \t0.47463226318359375\t t_error \t0.005991183758905838\n",
      "test \t27.csv\t time \t0.4421696662902832\t t_error \t0.004765292103108831\n",
      "test \t13.csv\t time \t0.4449019432067871\t t_error \t0.005672798110045063\n",
      "test \t97.csv\t time \t0.44222569465637207\t t_error \t0.00708444147477727\n",
      "test \t100.csv\t time \t0.44463658332824707\t t_error \t0.007022137277197804\n",
      "test \t58.csv\t time \t0.4424605369567871\t t_error \t0.003896208276046531\n",
      "test \t22.csv\t time \t0.46076250076293945\t t_error \t0.0049537520713599514\n",
      "test \t73.csv\t time \t0.4446890354156494\t t_error \t0.004901091448519801\n",
      "test \t64.csv\t time \t0.4437906742095947\t t_error \t0.007424743377549836\n",
      "test \t99.csv\t time \t0.44384241104125977\t t_error \t0.0025189792466657757\n",
      "test \t72.csv\t time \t0.4489250183105469\t t_error \t0.004975618019899097\n",
      "test \t89.csv\t time \t0.4439694881439209\t t_error \t0.0037378755855043133\n",
      "test \t1.csv\t time \t0.4445760250091553\t t_error \t0.003652975711036288\n",
      "test \t50.csv\t time \t0.45995092391967773\t t_error \t0.005611531283151172\n",
      "test \t60.csv\t time \t0.4452846050262451\t t_error \t0.005579835123592725\n",
      "test \t8.csv\t time \t0.4599785804748535\t t_error \t0.005862411502669418\n",
      "test \t14.csv\t time \t0.487396240234375\t t_error \t0.0031667115959282954\n",
      "test \t2.csv\t time \t0.4447510242462158\t t_error \t0.0063511972735045275\n",
      "test \t75.csv\t time \t0.46093010902404785\t t_error \t0.005176917774601053\n",
      "test \t30.csv\t time \t0.4395012855529785\t t_error \t0.0035264220452702055\n",
      "test \t91.csv\t time \t0.44950008392333984\t t_error \t0.005812151680676503\n",
      "test \t79.csv\t time \t0.469226598739624\t t_error \t0.004665987555902973\n",
      "test \t53.csv\t time \t0.4464449882507324\t t_error \t0.005302209442878625\n",
      "test \t5.csv\t time \t0.44707584381103516\t t_error \t0.0059090149044993545\n",
      "test \t88.csv\t time \t0.4477722644805908\t t_error \t0.004400423838214151\n",
      "test \t80.csv\t time \t0.4465646743774414\t t_error \t0.005602422139050711\n",
      "test \t85.csv\t time \t0.4416079521179199\t t_error \t0.0070588709398123894\n",
      "test \t44.csv\t time \t0.4434049129486084\t t_error \t0.004390732916988771\n",
      "test \t61.csv\t time \t0.508612871170044\t t_error \t0.00263685636744182\n",
      "test \t55.csv\t time \t0.48617076873779297\t t_error \t0.0037882656733148057\n",
      "test \t92.csv\t time \t0.4425959587097168\t t_error \t0.004666138626064242\n",
      "test \t43.csv\t time \t0.4382665157318115\t t_error \t0.005084618355060022\n",
      "test \t70.csv\t time \t0.4490807056427002\t t_error \t0.0052227665855367755\n",
      "test \t62.csv\t time \t0.4622941017150879\t t_error \t0.0036522316394463905\n",
      "test \t36.csv\t time \t0.44491147994995117\t t_error \t0.003088032738268409\n",
      "test \t4.csv\t time \t0.44768619537353516\t t_error \t0.005925348187433288\n",
      "test \t7.csv\t time \t0.478010892868042\t t_error \t0.004158091282834175\n",
      "test \t26.csv\t time \t0.44493579864501953\t t_error \t0.004874008133047281\n",
      "test \t9.csv\t time \t0.44356799125671387\t t_error \t0.0037182883818857038\n",
      "test \t65.csv\t time \t0.46526336669921875\t t_error \t0.002749980778789629\n",
      "test \t77.csv\t time \t0.4511129856109619\t t_error \t0.003683467122584494\n",
      "test \t52.csv\t time \t0.44681501388549805\t t_error \t0.004474034832806284\n",
      "test \t83.csv\t time \t0.44678783416748047\t t_error \t0.0032994508061675587\n",
      "test \t66.csv\t time \t0.4499335289001465\t t_error \t0.006038040768351571\n",
      "test \t39.csv\t time \t0.4541339874267578\t t_error \t0.005848575022435187\n",
      "test \t49.csv\t time \t0.4507267475128174\t t_error \t0.0034468086818787436\n",
      "test \t37.csv\t time \t0.45964646339416504\t t_error \t0.005385247051401976\n",
      "test \t41.csv\t time \t0.4652431011199951\t t_error \t0.0033406932578631254\n",
      "test \t54.csv\t time \t0.45018768310546875\t t_error \t0.003991018962131276\n",
      "test \t78.csv\t time \t0.4542996883392334\t t_error \t0.00561688197682908\n",
      "test \t29.csv\t time \t0.4475679397583008\t t_error \t0.0041316065745347075\n",
      "test \t24.csv\t time \t0.4588124752044678\t t_error \t0.005621569322971309\n",
      "test \t35.csv\t time \t0.45258593559265137\t t_error \t0.0034766282865531517\n",
      "test \t17.csv\t time \t0.4557805061340332\t t_error \t0.006884889525178184\n",
      "test \t20.csv\t time \t0.4643733501434326\t t_error \t0.003399972736815804\n",
      "test \t69.csv\t time \t0.4479804039001465\t t_error \t0.005779507300904818\n",
      "test \t6.csv\t time \t0.48067164421081543\t t_error \t0.0024398191648066225\n"
     ]
    },
    {
     "ename": "KeyboardInterrupt",
     "evalue": "",
     "output_type": "error",
     "traceback": [
      "\u001b[0;31m---------------------------------------------------------------------------\u001b[0m",
      "\u001b[0;31mKeyboardInterrupt\u001b[0m                         Traceback (most recent call last)",
      "Cell \u001b[0;32mIn [8], line 1\u001b[0m\n\u001b[0;32m----> 1\u001b[0m \u001b[43mrun_tests\u001b[49m\u001b[43m(\u001b[49m\u001b[43mIterativeSolver\u001b[49m\u001b[43m,\u001b[49m\u001b[43m \u001b[49m\u001b[38;5;241;43m5\u001b[39;49m\u001b[43m,\u001b[49m\u001b[43m \u001b[49m\u001b[43m{\u001b[49m\u001b[38;5;124;43m'\u001b[39;49m\u001b[38;5;124;43minitial_grid_density\u001b[39;49m\u001b[38;5;124;43m'\u001b[39;49m\u001b[43m:\u001b[49m\u001b[43m \u001b[49m\u001b[38;5;241;43m1000\u001b[39;49m\u001b[43m,\u001b[49m\u001b[43m \u001b[49m\u001b[38;5;124;43m'\u001b[39;49m\u001b[38;5;124;43minitial_cap_radius\u001b[39;49m\u001b[38;5;124;43m'\u001b[39;49m\u001b[43m:\u001b[49m\u001b[43m \u001b[49m\u001b[38;5;241;43m0.01\u001b[39;49m\u001b[43m,\u001b[49m\u001b[43m \u001b[49m\u001b[38;5;124;43m'\u001b[39;49m\u001b[38;5;124;43mdensity_of_gridpoints_in_unit_cap\u001b[39;49m\u001b[38;5;124;43m'\u001b[39;49m\u001b[43m:\u001b[49m\u001b[43m \u001b[49m\u001b[38;5;241;43m10\u001b[39;49m\u001b[43m}\u001b[49m\u001b[43m,\u001b[49m\u001b[43m \u001b[49m\n\u001b[1;32m      2\u001b[0m \u001b[43m          \u001b[49m\u001b[43mread_tests_simplex_in_ball\u001b[49m\u001b[43m,\u001b[49m\u001b[43m \u001b[49m\u001b[38;5;124;43mf\u001b[39;49m\u001b[38;5;124;43m'\u001b[39;49m\u001b[38;5;124;43m./tests/5d/simplex-in-ball/\u001b[39;49m\u001b[38;5;124;43m'\u001b[39;49m\u001b[43m)\u001b[49m\n",
      "File \u001b[0;32m~/Documents/GraduateThesis/utils.py:129\u001b[0m, in \u001b[0;36mrun_tests\u001b[0;34m(solver, dimension, solver_kwargs, test_reader_function, path_to_tests, silent)\u001b[0m\n\u001b[1;32m    127\u001b[0m solver_instance \u001b[38;5;241m=\u001b[39m solver(dimension, support_a, support_b, \u001b[38;5;241m*\u001b[39m\u001b[38;5;241m*\u001b[39msolver_kwargs)\n\u001b[1;32m    128\u001b[0m start_time \u001b[38;5;241m=\u001b[39m time\u001b[38;5;241m.\u001b[39mtime()\n\u001b[0;32m--> 129\u001b[0m \u001b[43msolver_instance\u001b[49m\u001b[38;5;241;43m.\u001b[39;49m\u001b[43msolve\u001b[49m\u001b[43m(\u001b[49m\u001b[43m)\u001b[49m\n\u001b[1;32m    130\u001b[0m end_time \u001b[38;5;241m=\u001b[39m time\u001b[38;5;241m.\u001b[39mtime()\n\u001b[1;32m    131\u001b[0m times\u001b[38;5;241m.\u001b[39mappend(end_time \u001b[38;5;241m-\u001b[39m start_time)\n",
      "File \u001b[0;32m~/Documents/GraduateThesis/IterativeSolver.py:77\u001b[0m, in \u001b[0;36mIterativeSolver.solve\u001b[0;34m(self)\u001b[0m\n\u001b[1;32m     75\u001b[0m \u001b[38;5;28;01mdef\u001b[39;00m \u001b[38;5;21msolve\u001b[39m(\u001b[38;5;28mself\u001b[39m) \u001b[38;5;241m-\u001b[39m\u001b[38;5;241m>\u001b[39m \u001b[38;5;28;01mNone\u001b[39;00m:\n\u001b[1;32m     76\u001b[0m     grid \u001b[38;5;241m=\u001b[39m random_spherical_grid(\u001b[38;5;28mself\u001b[39m\u001b[38;5;241m.\u001b[39mdimension, \u001b[38;5;28mself\u001b[39m\u001b[38;5;241m.\u001b[39minitial_grid_size)\n\u001b[0;32m---> 77\u001b[0m     support_a_values \u001b[38;5;241m=\u001b[39m \u001b[38;5;28;43mself\u001b[39;49m\u001b[38;5;241;43m.\u001b[39;49m\u001b[43msupport_a\u001b[49m\u001b[43m(\u001b[49m\u001b[43mgrid\u001b[49m\u001b[43m)\u001b[49m\n\u001b[1;32m     78\u001b[0m     support_b_values \u001b[38;5;241m=\u001b[39m \u001b[38;5;28mself\u001b[39m\u001b[38;5;241m.\u001b[39msupport_b(grid)\n\u001b[1;32m     79\u001b[0m     \u001b[38;5;28mself\u001b[39m\u001b[38;5;241m.\u001b[39mt, \u001b[38;5;28mself\u001b[39m\u001b[38;5;241m.\u001b[39mx \u001b[38;5;241m=\u001b[39m solve_primal(grid, support_a_values, support_b_values)\n",
      "File \u001b[0;32m~/Documents/GraduateThesis/utils.py:116\u001b[0m, in \u001b[0;36mread_tests_simplex_in_ball.<locals>.<lambda>\u001b[0;34m(grid)\u001b[0m\n\u001b[1;32m    114\u001b[0m \u001b[38;5;28;01mdef\u001b[39;00m \u001b[38;5;21mread_tests_simplex_in_ball\u001b[39m(path: \u001b[38;5;28mstr\u001b[39m) \u001b[38;5;241m-\u001b[39m\u001b[38;5;241m>\u001b[39m tp\u001b[38;5;241m.\u001b[39mTuple[tp\u001b[38;5;241m.\u001b[39mCallable, tp\u001b[38;5;241m.\u001b[39mCallable]:\n\u001b[1;32m    115\u001b[0m     vertices \u001b[38;5;241m=\u001b[39m np\u001b[38;5;241m.\u001b[39mgenfromtxt(path, delimiter\u001b[38;5;241m=\u001b[39m\u001b[38;5;124m'\u001b[39m\u001b[38;5;124m,\u001b[39m\u001b[38;5;124m'\u001b[39m)\n\u001b[0;32m--> 116\u001b[0m     support_a \u001b[38;5;241m=\u001b[39m \u001b[38;5;28;01mlambda\u001b[39;00m grid: \u001b[43mnp\u001b[49m\u001b[38;5;241;43m.\u001b[39;49m\u001b[43mmax\u001b[49m\u001b[43m(\u001b[49m\u001b[43mvertices\u001b[49m\u001b[43m \u001b[49m\u001b[38;5;241;43m@\u001b[39;49m\u001b[43m \u001b[49m\u001b[43mgrid\u001b[49m\u001b[38;5;241;43m.\u001b[39;49m\u001b[43mT\u001b[49m\u001b[43m,\u001b[49m\u001b[43m \u001b[49m\u001b[43maxis\u001b[49m\u001b[38;5;241;43m=\u001b[39;49m\u001b[38;5;241;43m0\u001b[39;49m\u001b[43m)\u001b[49m\n\u001b[1;32m    117\u001b[0m     support_b \u001b[38;5;241m=\u001b[39m \u001b[38;5;28;01mlambda\u001b[39;00m grid: np\u001b[38;5;241m.\u001b[39mones(\u001b[38;5;28mlen\u001b[39m(grid))\n\u001b[1;32m    118\u001b[0m     \u001b[38;5;28;01mreturn\u001b[39;00m support_a, support_b\n",
      "File \u001b[0;32m<__array_function__ internals>:180\u001b[0m, in \u001b[0;36mamax\u001b[0;34m(*args, **kwargs)\u001b[0m\n",
      "File \u001b[0;32m~/.local/lib/python3.8/site-packages/numpy/core/fromnumeric.py:2793\u001b[0m, in \u001b[0;36mamax\u001b[0;34m(a, axis, out, keepdims, initial, where)\u001b[0m\n\u001b[1;32m   2677\u001b[0m \u001b[38;5;129m@array_function_dispatch\u001b[39m(_amax_dispatcher)\n\u001b[1;32m   2678\u001b[0m \u001b[38;5;28;01mdef\u001b[39;00m \u001b[38;5;21mamax\u001b[39m(a, axis\u001b[38;5;241m=\u001b[39m\u001b[38;5;28;01mNone\u001b[39;00m, out\u001b[38;5;241m=\u001b[39m\u001b[38;5;28;01mNone\u001b[39;00m, keepdims\u001b[38;5;241m=\u001b[39mnp\u001b[38;5;241m.\u001b[39m_NoValue, initial\u001b[38;5;241m=\u001b[39mnp\u001b[38;5;241m.\u001b[39m_NoValue,\n\u001b[1;32m   2679\u001b[0m          where\u001b[38;5;241m=\u001b[39mnp\u001b[38;5;241m.\u001b[39m_NoValue):\n\u001b[1;32m   2680\u001b[0m     \u001b[38;5;124;03m\"\"\"\u001b[39;00m\n\u001b[1;32m   2681\u001b[0m \u001b[38;5;124;03m    Return the maximum of an array or maximum along an axis.\u001b[39;00m\n\u001b[1;32m   2682\u001b[0m \n\u001b[0;32m   (...)\u001b[0m\n\u001b[1;32m   2791\u001b[0m \u001b[38;5;124;03m    5\u001b[39;00m\n\u001b[1;32m   2792\u001b[0m \u001b[38;5;124;03m    \"\"\"\u001b[39;00m\n\u001b[0;32m-> 2793\u001b[0m     \u001b[38;5;28;01mreturn\u001b[39;00m \u001b[43m_wrapreduction\u001b[49m\u001b[43m(\u001b[49m\u001b[43ma\u001b[49m\u001b[43m,\u001b[49m\u001b[43m \u001b[49m\u001b[43mnp\u001b[49m\u001b[38;5;241;43m.\u001b[39;49m\u001b[43mmaximum\u001b[49m\u001b[43m,\u001b[49m\u001b[43m \u001b[49m\u001b[38;5;124;43m'\u001b[39;49m\u001b[38;5;124;43mmax\u001b[39;49m\u001b[38;5;124;43m'\u001b[39;49m\u001b[43m,\u001b[49m\u001b[43m \u001b[49m\u001b[43maxis\u001b[49m\u001b[43m,\u001b[49m\u001b[43m \u001b[49m\u001b[38;5;28;43;01mNone\u001b[39;49;00m\u001b[43m,\u001b[49m\u001b[43m \u001b[49m\u001b[43mout\u001b[49m\u001b[43m,\u001b[49m\n\u001b[1;32m   2794\u001b[0m \u001b[43m                          \u001b[49m\u001b[43mkeepdims\u001b[49m\u001b[38;5;241;43m=\u001b[39;49m\u001b[43mkeepdims\u001b[49m\u001b[43m,\u001b[49m\u001b[43m \u001b[49m\u001b[43minitial\u001b[49m\u001b[38;5;241;43m=\u001b[39;49m\u001b[43minitial\u001b[49m\u001b[43m,\u001b[49m\u001b[43m \u001b[49m\u001b[43mwhere\u001b[49m\u001b[38;5;241;43m=\u001b[39;49m\u001b[43mwhere\u001b[49m\u001b[43m)\u001b[49m\n",
      "File \u001b[0;32m~/.local/lib/python3.8/site-packages/numpy/core/fromnumeric.py:86\u001b[0m, in \u001b[0;36m_wrapreduction\u001b[0;34m(obj, ufunc, method, axis, dtype, out, **kwargs)\u001b[0m\n\u001b[1;32m     83\u001b[0m         \u001b[38;5;28;01melse\u001b[39;00m:\n\u001b[1;32m     84\u001b[0m             \u001b[38;5;28;01mreturn\u001b[39;00m reduction(axis\u001b[38;5;241m=\u001b[39maxis, out\u001b[38;5;241m=\u001b[39mout, \u001b[38;5;241m*\u001b[39m\u001b[38;5;241m*\u001b[39mpasskwargs)\n\u001b[0;32m---> 86\u001b[0m \u001b[38;5;28;01mreturn\u001b[39;00m \u001b[43mufunc\u001b[49m\u001b[38;5;241;43m.\u001b[39;49m\u001b[43mreduce\u001b[49m\u001b[43m(\u001b[49m\u001b[43mobj\u001b[49m\u001b[43m,\u001b[49m\u001b[43m \u001b[49m\u001b[43maxis\u001b[49m\u001b[43m,\u001b[49m\u001b[43m \u001b[49m\u001b[43mdtype\u001b[49m\u001b[43m,\u001b[49m\u001b[43m \u001b[49m\u001b[43mout\u001b[49m\u001b[43m,\u001b[49m\u001b[43m \u001b[49m\u001b[38;5;241;43m*\u001b[39;49m\u001b[38;5;241;43m*\u001b[39;49m\u001b[43mpasskwargs\u001b[49m\u001b[43m)\u001b[49m\n",
      "\u001b[0;31mKeyboardInterrupt\u001b[0m: "
     ]
    }
   ],
   "source": [
    "run_tests(IterativeSolver, 5, {'initial_grid_density': 1000, 'initial_cap_radius': 0.01, 'density_of_gridpoints_in_unit_cap': 10}, \n",
    "          read_tests_simplex_in_ball, f'./tests/5d/simplex-in-ball/')"
   ]
  },
  {
   "cell_type": "code",
   "execution_count": 5,
   "id": "74a61d0e-d1d1-4c60-9a90-f5f476b7f827",
   "metadata": {},
   "outputs": [],
   "source": [
    "from utils import ball_volume, sphere_volume"
   ]
  },
  {
   "cell_type": "code",
   "execution_count": null,
   "id": "a3d1eaf5-b598-4edf-a52d-396752e81f7c",
   "metadata": {},
   "outputs": [],
   "source": []
  }
 ],
 "metadata": {
  "kernelspec": {
   "display_name": "Python 3 (ipykernel)",
   "language": "python",
   "name": "python3"
  },
  "language_info": {
   "codemirror_mode": {
    "name": "ipython",
    "version": 3
   },
   "file_extension": ".py",
   "mimetype": "text/x-python",
   "name": "python",
   "nbconvert_exporter": "python",
   "pygments_lexer": "ipython3",
   "version": "3.8.10"
  }
 },
 "nbformat": 4,
 "nbformat_minor": 5
}
